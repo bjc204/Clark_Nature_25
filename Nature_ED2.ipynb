{
 "cells": [
  {
   "cell_type": "code",
   "execution_count": 1,
   "id": "58ca5a7e-fbb5-46e2-ba13-5f0f549c5a58",
   "metadata": {},
   "outputs": [],
   "source": [
    "import pandas as pd\n",
    "import plotly as py\n",
    "import numpy as np\n",
    "from plotly.offline import download_plotlyjs,init_notebook_mode,plot,iplot\n",
    "import plotly.graph_objs as go\n",
    "from plotly.subplots import make_subplots\n",
    "import plotly.express as px"
   ]
  },
  {
   "cell_type": "code",
   "execution_count": 2,
   "id": "75746e31-c015-4779-be48-acfae5c5d8fa",
   "metadata": {},
   "outputs": [],
   "source": [
    "def generateDiscreteColourScale(colour_set):\n",
    "    #colour set is a list of lists\n",
    "    colour_output = []\n",
    "    num_colours = len(colour_set)\n",
    "    divisions = 1./num_colours\n",
    "    c_index = 0.\n",
    "    # Loop over the colour set\n",
    "    for cset in colour_set:\n",
    "        num_subs = len(cset)\n",
    "        sub_divisions = divisions/num_subs\n",
    "        # Loop over the sub colours in this set\n",
    "        for subcset in cset:\n",
    "            colour_output.append((c_index,subcset))\n",
    "            colour_output.append((c_index + sub_divisions-\n",
    "                .001,subcset))\n",
    "            c_index = c_index + sub_divisions\n",
    "    colour_output[-1]=(1,colour_output[-1][1])\n",
    "    return colour_output"
   ]
  },
  {
   "cell_type": "code",
   "execution_count": 3,
   "id": "9cf636f9-2890-4bb5-b6d9-871a29e2a6ab",
   "metadata": {},
   "outputs": [],
   "source": [
    "savedir = '/glade/campaign/univ/urtg0006/Brendan/GGCMI_model_comp_figs/protein'"
   ]
  },
  {
   "cell_type": "code",
   "execution_count": 4,
   "id": "d8208f92-669c-46de-9f65-d7898938fe5f",
   "metadata": {},
   "outputs": [],
   "source": [
    "color_schemes = [\n",
    "    ['#a50026','#d73027','#f46d43','#fdae61','#fee08b','#ffffbf','#ffffbf','#d9ef8b','#a6d96a','#66bd63','#1a9850','#006837']]\n",
    "cscale = generateDiscreteColourScale(color_schemes)"
   ]
  },
  {
   "cell_type": "code",
   "execution_count": 6,
   "id": "52565df9-be3a-4704-be86-9c4a6dc0b869",
   "metadata": {},
   "outputs": [],
   "source": [
    "maize = pd.read_excel(savedir + '/maize_dssat_saiminusssp.xlsx', usecols=\"A,B\")\n",
    "maize_top = pd.read_excel(savedir + '/maize_dssat_saiminusssp.xlsx', usecols=\"E,F\")"
   ]
  },
  {
   "cell_type": "code",
   "execution_count": 8,
   "id": "8d3cc5ee-5539-4c9a-bf1f-d696d77a013c",
   "metadata": {},
   "outputs": [
    {
     "data": {
      "application/vnd.plotly.v1+json": {
       "config": {
        "plotlyServerURL": "https://plot.ly"
       },
       "data": [
        {
         "marker": {
          "color": "#74add1",
          "line": {
           "color": "black",
           "width": 0.5
          }
         },
         "showlegend": false,
         "type": "bar",
         "x": [
          "1) Malawi",
          "2) Zambia",
          "3) Lesotho",
          "4) Honduras",
          "5) Togo",
          "6) Zimbabwe",
          "7) Mozambique",
          "8) Guatemala",
          "9) Paraguay",
          "10) Tanzania",
          null,
          null,
          null,
          null,
          null,
          null,
          null,
          null,
          null,
          null,
          null,
          null,
          null,
          null,
          null,
          null,
          null,
          null,
          null,
          null,
          null,
          null,
          null,
          null,
          null,
          null,
          null,
          null,
          null,
          null,
          null,
          null,
          null,
          null,
          null,
          null,
          null,
          null,
          null,
          null,
          null,
          null,
          null,
          null,
          null,
          null,
          null,
          null,
          null,
          null,
          null,
          null,
          null,
          null,
          null,
          null,
          null,
          null,
          null,
          null,
          null,
          null,
          null,
          null,
          null,
          null,
          null,
          null,
          null,
          null,
          null,
          null,
          null,
          null,
          null,
          null,
          null,
          null,
          null,
          null,
          null,
          null,
          null,
          null,
          null,
          null,
          null,
          null,
          null,
          null,
          null,
          null,
          null,
          null,
          null,
          null,
          null,
          null,
          null,
          null,
          null,
          null,
          null,
          null,
          null,
          null,
          null,
          null,
          null,
          null,
          null,
          null,
          null,
          null,
          null,
          null,
          null,
          null,
          null,
          null,
          null,
          null,
          null,
          null,
          null,
          null,
          null,
          null,
          null,
          null,
          null,
          null,
          null,
          null,
          null,
          null,
          null,
          null,
          null,
          null,
          null,
          null,
          null,
          null,
          null,
          null,
          null,
          null,
          null,
          null,
          null,
          null,
          null,
          null,
          null,
          null,
          null,
          null,
          null,
          null,
          null,
          null,
          null,
          null,
          null,
          null,
          null,
          null,
          null,
          null,
          null,
          null,
          null,
          null,
          null,
          null,
          null,
          null,
          null,
          null,
          null,
          null,
          null,
          null,
          null,
          null,
          null,
          null,
          null,
          null,
          null,
          null,
          null,
          null,
          null,
          null,
          null,
          null,
          null,
          null,
          null,
          null,
          null,
          null,
          null,
          null,
          null,
          null,
          null,
          null,
          null,
          null,
          null,
          null,
          null,
          null,
          null,
          null,
          null,
          null,
          null,
          null,
          null,
          null,
          null,
          null,
          null,
          null,
          null,
          null,
          null,
          null,
          null,
          null,
          null,
          null,
          null,
          null,
          null,
          null,
          null,
          null,
          null
         ],
         "xaxis": "x",
         "y": [
          -18.13527213185325,
          8.004167136621868,
          -2.222155121692552,
          0.1371429745284017,
          -10.56639137547346,
          3.563692522334792,
          -2.353989069439592,
          1.552687243049272,
          -1.429496802423061,
          -2.305966673862451,
          null,
          null,
          null,
          null,
          null,
          null,
          null,
          null,
          null,
          null,
          null,
          null,
          null,
          null,
          null,
          null,
          null,
          null,
          null,
          null,
          null,
          null,
          null,
          null,
          null,
          null,
          null,
          null,
          null,
          null,
          null,
          null,
          null,
          null,
          null,
          null,
          null,
          null,
          null,
          null,
          null,
          null,
          null,
          null,
          null,
          null,
          null,
          null,
          null,
          null,
          null,
          null,
          null,
          null,
          null,
          null,
          null,
          null,
          null,
          null,
          null,
          null,
          null,
          null,
          null,
          null,
          null,
          null,
          null,
          null,
          null,
          null,
          null,
          null,
          null,
          null,
          null,
          null,
          null,
          null,
          null,
          null,
          null,
          null,
          null,
          null,
          null,
          null,
          null,
          null,
          null,
          null,
          null,
          null,
          null,
          null,
          null,
          null,
          null,
          null,
          null,
          null,
          null,
          null,
          null,
          null,
          null,
          null,
          null,
          null,
          null,
          null,
          null,
          null,
          null,
          null,
          null,
          null,
          null,
          null,
          null,
          null,
          null,
          null,
          null,
          null,
          null,
          null,
          null,
          null,
          null,
          null,
          null,
          null,
          null,
          null,
          null,
          null,
          null,
          null,
          null,
          null,
          null,
          null,
          null,
          null,
          null,
          null,
          null,
          null,
          null,
          null,
          null,
          null,
          null,
          null,
          null,
          null,
          null,
          null,
          null,
          null,
          null,
          null,
          null,
          null,
          null,
          null,
          null,
          null,
          null,
          null,
          null,
          null,
          null,
          null,
          null,
          null,
          null,
          null,
          null,
          null,
          null,
          null,
          null,
          null,
          null,
          null,
          null,
          null,
          null,
          null,
          null,
          null,
          null,
          null,
          null,
          null,
          null,
          null,
          null,
          null,
          null,
          null,
          null,
          null,
          null,
          null,
          null,
          null,
          null,
          null,
          null,
          null,
          null,
          null,
          null,
          null,
          null,
          null,
          null,
          null,
          null,
          null,
          null,
          null,
          null,
          null,
          null,
          null,
          null,
          null,
          null,
          null,
          null,
          null,
          null,
          null,
          null,
          null,
          null,
          null,
          null
         ],
         "yaxis": "y"
        },
        {
         "colorbar": {
          "len": 0.3,
          "orientation": "h",
          "thickness": 10,
          "title": {
           "font": {
            "size": 12
           },
           "side": "bottom",
           "text": "Change (%)"
          },
          "x": 0.72,
          "y": -0.2
         },
         "colorscale": [
          [
           0,
           "#a50026"
          ],
          [
           0.08233333333333333,
           "#a50026"
          ],
          [
           0.08333333333333333,
           "#d73027"
          ],
          [
           0.16566666666666666,
           "#d73027"
          ],
          [
           0.16666666666666666,
           "#f46d43"
          ],
          [
           0.249,
           "#f46d43"
          ],
          [
           0.25,
           "#fdae61"
          ],
          [
           0.3323333333333333,
           "#fdae61"
          ],
          [
           0.3333333333333333,
           "#fee08b"
          ],
          [
           0.41566666666666663,
           "#fee08b"
          ],
          [
           0.41666666666666663,
           "#ffffbf"
          ],
          [
           0.49899999999999994,
           "#ffffbf"
          ],
          [
           0.49999999999999994,
           "#ffffbf"
          ],
          [
           0.5823333333333333,
           "#ffffbf"
          ],
          [
           0.5833333333333333,
           "#d9ef8b"
          ],
          [
           0.6656666666666666,
           "#d9ef8b"
          ],
          [
           0.6666666666666666,
           "#a6d96a"
          ],
          [
           0.749,
           "#a6d96a"
          ],
          [
           0.75,
           "#66bd63"
          ],
          [
           0.8323333333333334,
           "#66bd63"
          ],
          [
           0.8333333333333334,
           "#1a9850"
          ],
          [
           0.9156666666666667,
           "#1a9850"
          ],
          [
           0.9166666666666667,
           "#006837"
          ],
          [
           1,
           "#006837"
          ]
         ],
         "geo": "geo",
         "locationmode": "country names",
         "locations": [
          "Afganistan",
          null,
          "Albania",
          "Algeria",
          "American Samoa",
          null,
          "Angola",
          null,
          null,
          "Antigua and Barbuda",
          "Argentina",
          "Armenia",
          "Aruba",
          "Australia",
          "Austria",
          "Azerbaijan",
          "Bahamas",
          "Bahrain",
          "Bangladesh",
          "Barbados",
          "Belarus",
          "Belgium",
          "Belize",
          "Benin",
          "Bermuda",
          "Bhutan",
          "Bolivia",
          "Bonaire, Saint Eustatius and Saba",
          "Bosnia and Herzegovina",
          "Botswana",
          "Bouvet Island",
          "Brazil",
          "British Indian Ocean Territory",
          "British Virgin Islands",
          "Brunei",
          "Bulgaria",
          "Burkina Faso",
          "Burundi",
          "Cambodia",
          "Cameroon",
          "Canada",
          "Cape Verde",
          "Caspian Sea",
          "Cayman Islands",
          "Central African Republic",
          "Chad",
          "Chile",
          "China",
          "Christmas Island",
          null,
          "Cocos Islands",
          "Colombia",
          "Comoros",
          "Cook Islands",
          "Costa Rica",
          "Côte d'Ivoire",
          "Croatia",
          "Cuba",
          "Curaçao",
          "Cyprus",
          "Czech Republic",
          "Democratic Republic of the Congo",
          "Denmark",
          "Djibouti",
          "Dominica",
          "Dominican Republic",
          "East Timor",
          "Ecuador",
          "Egypt",
          "El Salvador",
          "Equatorial Guinea",
          "Eritrea",
          "Estonia",
          "Ethiopia",
          "Falkland Islands",
          "Faroe Islands",
          "Fiji",
          "Finland",
          "France",
          "French Guiana",
          "French Polynesia",
          "French Southern Territories",
          "Gabon",
          "Gambia",
          "Georgia",
          "Germany",
          "Ghana",
          null,
          "Greece",
          null,
          "Grenada",
          "Guadeloupe",
          "Guam",
          "Guatemala",
          "Guernsey",
          "Guinea",
          "Guinea-Bissau",
          "Guyana",
          "Haiti",
          "Heard Island and McDonald Islands",
          "Honduras",
          "Hong Kong",
          "Hungary",
          "Iceland",
          "India",
          "Indonesia",
          "Iran",
          "Iraq",
          "Ireland",
          "Isle of Man",
          "Israel",
          "Italy",
          "Jamaica",
          "Japan",
          "Jersey",
          "Jordan",
          "Kazakhstan",
          "Kenya",
          "Kiribati",
          "Kosovo",
          "Kuwait",
          "Kyrgyzstan",
          "Laos",
          "Latvia",
          "Lebanon",
          "Lesotho",
          "Liberia",
          "Libya",
          null,
          "Lithuania",
          "Luxembourg",
          null,
          "Macedonia",
          "Madagascar",
          "Malawi",
          "Malaysia",
          "Maldives",
          "Mali",
          "Malta",
          "Marshall Islands",
          "Martinique",
          "Mauritania",
          "Mauritius",
          "Mayotte",
          "Mexico",
          "Micronesia",
          "Moldova",
          null,
          "Mongolia",
          "Montenegro",
          "Montserrat",
          "Morocco",
          "Mozambique",
          "Myanmar",
          "Namibia",
          "Nauru",
          "Nepal",
          "Netherlands",
          "New Caledonia",
          "New Zealand",
          "Nicaragua",
          "Niger",
          "Nigeria",
          "Niue",
          "Norfolk Island",
          "North Korea",
          "Northern Mariana Islands",
          "Norway",
          "Oman",
          "Pakistan",
          "Palau",
          "Palestina",
          "Panama",
          "Papua New Guinea",
          "Paraguay",
          "Peru",
          "Philippines",
          "Pitcairn Islands",
          "Poland",
          "Portugal",
          "Puerto Rico",
          "Qatar",
          "Republic of Congo",
          "Reunion",
          "Romania",
          "Russia",
          "Rwanda",
          "Saint Helena",
          "Saint Kitts and Nevis",
          "Saint Lucia",
          "Saint Pierre and Miquelon",
          "Saint Vincent and the Grenadines",
          null,
          "Saint-Martin",
          "Samoa",
          null,
          "Sao Tome and Principe",
          "Saudi Arabia",
          "Senegal",
          "Serbia",
          "Seychelles",
          "Sierra Leone",
          "Singapore",
          null,
          "Slovakia",
          "Slovenia",
          "Solomon Islands",
          "Somalia",
          "South Africa",
          "South Georgia and the South Sandwich Islands",
          "South Korea",
          "South Sudan",
          "Spain",
          null,
          "Sri Lanka",
          "Sudan",
          "Suriname",
          "Svalbard and Jan Mayen",
          "Swaziland",
          "Sweden",
          "Switzerland",
          "Syria",
          "Taiwan",
          "Tajikistan",
          "Tanzania",
          "Thailand",
          "Togo",
          null,
          "Tonga",
          "Trinidad and Tobago",
          "Tunisia",
          "Turkey",
          "Turkmenistan",
          "Turks and Caicos Islands",
          "Tuvalu",
          "Uganda",
          "Ukraine",
          "United Arab Emirates",
          "United Kingdom",
          "United States",
          "United States Minor Outlying Islands",
          "Uruguay",
          "Uzbekistan",
          "Vanuatu",
          null,
          "Venezuela",
          "Vietnam",
          "Virgin Islands, U.S.",
          "Wallis and Futuna",
          "Western Sahara",
          "Yemen",
          "Zambia",
          "Zimbabwe"
         ],
         "type": "choropleth",
         "z": [
          null,
          null,
          -9.113336831182421,
          -2.497238622660521,
          null,
          null,
          -7.011611824667441,
          null,
          null,
          null,
          -5.183495769956081,
          -3.884395224957502,
          null,
          -3.560407746942928,
          -1.135141381398739,
          -4.352217249674862,
          null,
          null,
          14.80081794762455,
          null,
          -3.751348256347255,
          -2.998265210370245,
          14.68303227154559,
          -2.883211619716766,
          null,
          -5.712561196103142,
          -2.729843618147322,
          null,
          -10.9256938135682,
          -3.156446630735962,
          null,
          -6.070172137401957,
          null,
          null,
          -0.9928864720161836,
          -13.51213938012498,
          -5.496988516033669,
          -13.82416791533946,
          -3.805109654498458,
          -1.301895837863086,
          -3.565574136172363,
          null,
          -2.684734924001496,
          null,
          -3.459225537546356,
          -2.915509043514692,
          -25.0521494874869,
          -2.107125410739167,
          null,
          null,
          null,
          -2.119987342359174,
          null,
          null,
          9.891609585425519,
          -10.84425107412884,
          -9.816256401490177,
          13.42817341862423,
          null,
          -2.249279850899319,
          -1.632724931802746,
          -10.61930515693161,
          5.422530961356591,
          null,
          null,
          -2.581093471744683,
          -1.47629762627836,
          -0.3956221550963162,
          19.28640699254708,
          1.252040513980799,
          1.507150218949555,
          13.23323940409935,
          0.06861817890608289,
          -0.122197070050691,
          null,
          null,
          null,
          4.803971358873108,
          -1.085388044317391,
          19.73194574929689,
          null,
          null,
          -1.002886348529181,
          14.50679594923765,
          -2.271904385062276,
          -1.57850605650313,
          -5.902816680924477,
          null,
          -0.277156213577379,
          null,
          null,
          null,
          null,
          1.552687243049272,
          null,
          -3.115682544884055,
          16.96221992105789,
          7.578983085517311,
          16.52263647004589,
          null,
          0.1371429745284017,
          null,
          -7.861745145110731,
          null,
          8.514882649524834,
          -1.737267974686485,
          -1.799236547541604,
          15.08903322165307,
          0.168341593595728,
          null,
          3.184957656698913,
          0.5980489092159047,
          -0.5914229494108417,
          -0.1907397402615159,
          null,
          0.2560587179726208,
          -5.08027803378443,
          -0.6894216101864252,
          null,
          -8.786182065758775,
          null,
          -5.016587977550953,
          -3.334305760566143,
          -1.834743026718423,
          0.9461701530858179,
          -2.222155121692552,
          2.411264340683927,
          10.7708359203585,
          null,
          -0.3722481749797611,
          -1.602821562149228,
          null,
          -14.8398675221825,
          -2.959826632919629,
          -18.13527213185325,
          -2.54151405910843,
          null,
          16.64299255891685,
          null,
          null,
          null,
          38.11108174586716,
          null,
          null,
          2.731759724243398,
          null,
          -11.65446015975284,
          null,
          0.002189183118964559,
          -4.931882563628103,
          null,
          12.80562157932961,
          -2.353989069439592,
          10.2296179727494,
          -6.589482916843224,
          null,
          12.03238971014812,
          -1.404070459764083,
          null,
          -1.611556935922416,
          -1.14792525828404,
          17.7975339910394,
          -4.926991212508649,
          null,
          null,
          -1.848930905200219,
          null,
          -6.847431483425602,
          -16.05422383750174,
          16.1085510003631,
          null,
          10.66946155824309,
          -2.53723779420417,
          -1.764391538784601,
          -1.429496802423061,
          -2.574010471753285,
          -2.702691591264497,
          null,
          -1.69381463945235,
          1.558951198402242,
          -0.7360405706645888,
          null,
          -2.105120656068631,
          null,
          -11.40386218845849,
          -2.234442607402886,
          -16.43313100052733,
          null,
          null,
          null,
          null,
          null,
          null,
          null,
          null,
          null,
          null,
          6.214935585907044,
          3.009650284222686,
          -12.9273105971576,
          null,
          -3.19255879273756,
          null,
          null,
          -5.877536690197359,
          -0.5209640829863506,
          null,
          2.841455223007518,
          0.9944805231590089,
          null,
          -0.02860279099893005,
          -3.56292540541719,
          4.370100548942275,
          null,
          -3.732257431404876,
          0.2266389431627619,
          11.9344926660331,
          null,
          -0.332388222805249,
          11.24925981601026,
          -1.366340958856991,
          29.70337707949756,
          -1.24218811971915,
          -2.318381058725234,
          -2.305966673862451,
          1.114988849907102,
          -10.56639137547346,
          null,
          null,
          4.446125287956838,
          -4.624261794921701,
          -1.635004308576623,
          11.50834246711415,
          null,
          null,
          -2.093565472248433,
          -9.554688884763753,
          -26.96849281346873,
          -1.162594653399644,
          0.01036295421151039,
          null,
          -3.826616925271729,
          0.3203499943585975,
          null,
          null,
          21.99840233068547,
          2.897207278101413,
          null,
          null,
          null,
          7.858015726135463,
          8.004167136621868,
          3.563692522334792
         ],
         "zmax": 20,
         "zmin": -20
        }
       ],
       "layout": {
        "annotations": [
         {
          "font": {
           "size": 12
          },
          "showarrow": false,
          "text": "Maize protein concentration change",
          "x": 0.17812499999999998,
          "xanchor": "center",
          "xref": "paper",
          "y": 1,
          "yanchor": "bottom",
          "yref": "paper"
         },
         {
          "font": {
           "size": 12
          },
          "showarrow": false,
          "text": "Maize protein concentration change ARISE-SAI-1.5C minus SSP245",
          "x": 0.703125,
          "xanchor": "center",
          "xref": "paper",
          "y": 1,
          "yanchor": "bottom",
          "yref": "paper"
         }
        ],
        "geo": {
         "domain": {
          "x": [
           0.40624999999999994,
           1
          ],
          "y": [
           0,
           1
          ]
         },
         "lataxis": {
          "range": [
           -60,
           80
          ]
         },
         "projection": {
          "type": "robinson"
         },
         "resolution": 110,
         "showcountries": true,
         "visible": false
        },
        "height": 500,
        "plot_bgcolor": "white",
        "shapes": [
         {
          "line": {
           "color": "black",
           "width": 0.5
          },
          "type": "line",
          "x0": -1,
          "x1": 10,
          "xref": "x",
          "y0": 0,
          "y1": 0,
          "yref": "y"
         }
        ],
        "template": {
         "data": {
          "bar": [
           {
            "error_x": {
             "color": "#2a3f5f"
            },
            "error_y": {
             "color": "#2a3f5f"
            },
            "marker": {
             "line": {
              "color": "#E5ECF6",
              "width": 0.5
             },
             "pattern": {
              "fillmode": "overlay",
              "size": 10,
              "solidity": 0.2
             }
            },
            "type": "bar"
           }
          ],
          "barpolar": [
           {
            "marker": {
             "line": {
              "color": "#E5ECF6",
              "width": 0.5
             },
             "pattern": {
              "fillmode": "overlay",
              "size": 10,
              "solidity": 0.2
             }
            },
            "type": "barpolar"
           }
          ],
          "carpet": [
           {
            "aaxis": {
             "endlinecolor": "#2a3f5f",
             "gridcolor": "white",
             "linecolor": "white",
             "minorgridcolor": "white",
             "startlinecolor": "#2a3f5f"
            },
            "baxis": {
             "endlinecolor": "#2a3f5f",
             "gridcolor": "white",
             "linecolor": "white",
             "minorgridcolor": "white",
             "startlinecolor": "#2a3f5f"
            },
            "type": "carpet"
           }
          ],
          "choropleth": [
           {
            "colorbar": {
             "outlinewidth": 0,
             "ticks": ""
            },
            "type": "choropleth"
           }
          ],
          "contour": [
           {
            "colorbar": {
             "outlinewidth": 0,
             "ticks": ""
            },
            "colorscale": [
             [
              0,
              "#0d0887"
             ],
             [
              0.1111111111111111,
              "#46039f"
             ],
             [
              0.2222222222222222,
              "#7201a8"
             ],
             [
              0.3333333333333333,
              "#9c179e"
             ],
             [
              0.4444444444444444,
              "#bd3786"
             ],
             [
              0.5555555555555556,
              "#d8576b"
             ],
             [
              0.6666666666666666,
              "#ed7953"
             ],
             [
              0.7777777777777778,
              "#fb9f3a"
             ],
             [
              0.8888888888888888,
              "#fdca26"
             ],
             [
              1,
              "#f0f921"
             ]
            ],
            "type": "contour"
           }
          ],
          "contourcarpet": [
           {
            "colorbar": {
             "outlinewidth": 0,
             "ticks": ""
            },
            "type": "contourcarpet"
           }
          ],
          "heatmap": [
           {
            "colorbar": {
             "outlinewidth": 0,
             "ticks": ""
            },
            "colorscale": [
             [
              0,
              "#0d0887"
             ],
             [
              0.1111111111111111,
              "#46039f"
             ],
             [
              0.2222222222222222,
              "#7201a8"
             ],
             [
              0.3333333333333333,
              "#9c179e"
             ],
             [
              0.4444444444444444,
              "#bd3786"
             ],
             [
              0.5555555555555556,
              "#d8576b"
             ],
             [
              0.6666666666666666,
              "#ed7953"
             ],
             [
              0.7777777777777778,
              "#fb9f3a"
             ],
             [
              0.8888888888888888,
              "#fdca26"
             ],
             [
              1,
              "#f0f921"
             ]
            ],
            "type": "heatmap"
           }
          ],
          "heatmapgl": [
           {
            "colorbar": {
             "outlinewidth": 0,
             "ticks": ""
            },
            "colorscale": [
             [
              0,
              "#0d0887"
             ],
             [
              0.1111111111111111,
              "#46039f"
             ],
             [
              0.2222222222222222,
              "#7201a8"
             ],
             [
              0.3333333333333333,
              "#9c179e"
             ],
             [
              0.4444444444444444,
              "#bd3786"
             ],
             [
              0.5555555555555556,
              "#d8576b"
             ],
             [
              0.6666666666666666,
              "#ed7953"
             ],
             [
              0.7777777777777778,
              "#fb9f3a"
             ],
             [
              0.8888888888888888,
              "#fdca26"
             ],
             [
              1,
              "#f0f921"
             ]
            ],
            "type": "heatmapgl"
           }
          ],
          "histogram": [
           {
            "marker": {
             "pattern": {
              "fillmode": "overlay",
              "size": 10,
              "solidity": 0.2
             }
            },
            "type": "histogram"
           }
          ],
          "histogram2d": [
           {
            "colorbar": {
             "outlinewidth": 0,
             "ticks": ""
            },
            "colorscale": [
             [
              0,
              "#0d0887"
             ],
             [
              0.1111111111111111,
              "#46039f"
             ],
             [
              0.2222222222222222,
              "#7201a8"
             ],
             [
              0.3333333333333333,
              "#9c179e"
             ],
             [
              0.4444444444444444,
              "#bd3786"
             ],
             [
              0.5555555555555556,
              "#d8576b"
             ],
             [
              0.6666666666666666,
              "#ed7953"
             ],
             [
              0.7777777777777778,
              "#fb9f3a"
             ],
             [
              0.8888888888888888,
              "#fdca26"
             ],
             [
              1,
              "#f0f921"
             ]
            ],
            "type": "histogram2d"
           }
          ],
          "histogram2dcontour": [
           {
            "colorbar": {
             "outlinewidth": 0,
             "ticks": ""
            },
            "colorscale": [
             [
              0,
              "#0d0887"
             ],
             [
              0.1111111111111111,
              "#46039f"
             ],
             [
              0.2222222222222222,
              "#7201a8"
             ],
             [
              0.3333333333333333,
              "#9c179e"
             ],
             [
              0.4444444444444444,
              "#bd3786"
             ],
             [
              0.5555555555555556,
              "#d8576b"
             ],
             [
              0.6666666666666666,
              "#ed7953"
             ],
             [
              0.7777777777777778,
              "#fb9f3a"
             ],
             [
              0.8888888888888888,
              "#fdca26"
             ],
             [
              1,
              "#f0f921"
             ]
            ],
            "type": "histogram2dcontour"
           }
          ],
          "mesh3d": [
           {
            "colorbar": {
             "outlinewidth": 0,
             "ticks": ""
            },
            "type": "mesh3d"
           }
          ],
          "parcoords": [
           {
            "line": {
             "colorbar": {
              "outlinewidth": 0,
              "ticks": ""
             }
            },
            "type": "parcoords"
           }
          ],
          "pie": [
           {
            "automargin": true,
            "type": "pie"
           }
          ],
          "scatter": [
           {
            "fillpattern": {
             "fillmode": "overlay",
             "size": 10,
             "solidity": 0.2
            },
            "type": "scatter"
           }
          ],
          "scatter3d": [
           {
            "line": {
             "colorbar": {
              "outlinewidth": 0,
              "ticks": ""
             }
            },
            "marker": {
             "colorbar": {
              "outlinewidth": 0,
              "ticks": ""
             }
            },
            "type": "scatter3d"
           }
          ],
          "scattercarpet": [
           {
            "marker": {
             "colorbar": {
              "outlinewidth": 0,
              "ticks": ""
             }
            },
            "type": "scattercarpet"
           }
          ],
          "scattergeo": [
           {
            "marker": {
             "colorbar": {
              "outlinewidth": 0,
              "ticks": ""
             }
            },
            "type": "scattergeo"
           }
          ],
          "scattergl": [
           {
            "marker": {
             "colorbar": {
              "outlinewidth": 0,
              "ticks": ""
             }
            },
            "type": "scattergl"
           }
          ],
          "scattermapbox": [
           {
            "marker": {
             "colorbar": {
              "outlinewidth": 0,
              "ticks": ""
             }
            },
            "type": "scattermapbox"
           }
          ],
          "scatterpolar": [
           {
            "marker": {
             "colorbar": {
              "outlinewidth": 0,
              "ticks": ""
             }
            },
            "type": "scatterpolar"
           }
          ],
          "scatterpolargl": [
           {
            "marker": {
             "colorbar": {
              "outlinewidth": 0,
              "ticks": ""
             }
            },
            "type": "scatterpolargl"
           }
          ],
          "scatterternary": [
           {
            "marker": {
             "colorbar": {
              "outlinewidth": 0,
              "ticks": ""
             }
            },
            "type": "scatterternary"
           }
          ],
          "surface": [
           {
            "colorbar": {
             "outlinewidth": 0,
             "ticks": ""
            },
            "colorscale": [
             [
              0,
              "#0d0887"
             ],
             [
              0.1111111111111111,
              "#46039f"
             ],
             [
              0.2222222222222222,
              "#7201a8"
             ],
             [
              0.3333333333333333,
              "#9c179e"
             ],
             [
              0.4444444444444444,
              "#bd3786"
             ],
             [
              0.5555555555555556,
              "#d8576b"
             ],
             [
              0.6666666666666666,
              "#ed7953"
             ],
             [
              0.7777777777777778,
              "#fb9f3a"
             ],
             [
              0.8888888888888888,
              "#fdca26"
             ],
             [
              1,
              "#f0f921"
             ]
            ],
            "type": "surface"
           }
          ],
          "table": [
           {
            "cells": {
             "fill": {
              "color": "#EBF0F8"
             },
             "line": {
              "color": "white"
             }
            },
            "header": {
             "fill": {
              "color": "#C8D4E3"
             },
             "line": {
              "color": "white"
             }
            },
            "type": "table"
           }
          ]
         },
         "layout": {
          "annotationdefaults": {
           "arrowcolor": "#2a3f5f",
           "arrowhead": 0,
           "arrowwidth": 1
          },
          "autotypenumbers": "strict",
          "coloraxis": {
           "colorbar": {
            "outlinewidth": 0,
            "ticks": ""
           }
          },
          "colorscale": {
           "diverging": [
            [
             0,
             "#8e0152"
            ],
            [
             0.1,
             "#c51b7d"
            ],
            [
             0.2,
             "#de77ae"
            ],
            [
             0.3,
             "#f1b6da"
            ],
            [
             0.4,
             "#fde0ef"
            ],
            [
             0.5,
             "#f7f7f7"
            ],
            [
             0.6,
             "#e6f5d0"
            ],
            [
             0.7,
             "#b8e186"
            ],
            [
             0.8,
             "#7fbc41"
            ],
            [
             0.9,
             "#4d9221"
            ],
            [
             1,
             "#276419"
            ]
           ],
           "sequential": [
            [
             0,
             "#0d0887"
            ],
            [
             0.1111111111111111,
             "#46039f"
            ],
            [
             0.2222222222222222,
             "#7201a8"
            ],
            [
             0.3333333333333333,
             "#9c179e"
            ],
            [
             0.4444444444444444,
             "#bd3786"
            ],
            [
             0.5555555555555556,
             "#d8576b"
            ],
            [
             0.6666666666666666,
             "#ed7953"
            ],
            [
             0.7777777777777778,
             "#fb9f3a"
            ],
            [
             0.8888888888888888,
             "#fdca26"
            ],
            [
             1,
             "#f0f921"
            ]
           ],
           "sequentialminus": [
            [
             0,
             "#0d0887"
            ],
            [
             0.1111111111111111,
             "#46039f"
            ],
            [
             0.2222222222222222,
             "#7201a8"
            ],
            [
             0.3333333333333333,
             "#9c179e"
            ],
            [
             0.4444444444444444,
             "#bd3786"
            ],
            [
             0.5555555555555556,
             "#d8576b"
            ],
            [
             0.6666666666666666,
             "#ed7953"
            ],
            [
             0.7777777777777778,
             "#fb9f3a"
            ],
            [
             0.8888888888888888,
             "#fdca26"
            ],
            [
             1,
             "#f0f921"
            ]
           ]
          },
          "colorway": [
           "#636efa",
           "#EF553B",
           "#00cc96",
           "#ab63fa",
           "#FFA15A",
           "#19d3f3",
           "#FF6692",
           "#B6E880",
           "#FF97FF",
           "#FECB52"
          ],
          "font": {
           "color": "#2a3f5f"
          },
          "geo": {
           "bgcolor": "white",
           "lakecolor": "white",
           "landcolor": "#E5ECF6",
           "showlakes": true,
           "showland": true,
           "subunitcolor": "white"
          },
          "hoverlabel": {
           "align": "left"
          },
          "hovermode": "closest",
          "mapbox": {
           "style": "light"
          },
          "paper_bgcolor": "white",
          "plot_bgcolor": "#E5ECF6",
          "polar": {
           "angularaxis": {
            "gridcolor": "white",
            "linecolor": "white",
            "ticks": ""
           },
           "bgcolor": "#E5ECF6",
           "radialaxis": {
            "gridcolor": "white",
            "linecolor": "white",
            "ticks": ""
           }
          },
          "scene": {
           "xaxis": {
            "backgroundcolor": "#E5ECF6",
            "gridcolor": "white",
            "gridwidth": 2,
            "linecolor": "white",
            "showbackground": true,
            "ticks": "",
            "zerolinecolor": "white"
           },
           "yaxis": {
            "backgroundcolor": "#E5ECF6",
            "gridcolor": "white",
            "gridwidth": 2,
            "linecolor": "white",
            "showbackground": true,
            "ticks": "",
            "zerolinecolor": "white"
           },
           "zaxis": {
            "backgroundcolor": "#E5ECF6",
            "gridcolor": "white",
            "gridwidth": 2,
            "linecolor": "white",
            "showbackground": true,
            "ticks": "",
            "zerolinecolor": "white"
           }
          },
          "shapedefaults": {
           "line": {
            "color": "#2a3f5f"
           }
          },
          "ternary": {
           "aaxis": {
            "gridcolor": "white",
            "linecolor": "white",
            "ticks": ""
           },
           "baxis": {
            "gridcolor": "white",
            "linecolor": "white",
            "ticks": ""
           },
           "bgcolor": "#E5ECF6",
           "caxis": {
            "gridcolor": "white",
            "linecolor": "white",
            "ticks": ""
           }
          },
          "title": {
           "x": 0.05
          },
          "xaxis": {
           "automargin": true,
           "gridcolor": "white",
           "linecolor": "white",
           "ticks": "",
           "title": {
            "standoff": 15
           },
           "zerolinecolor": "white",
           "zerolinewidth": 2
          },
          "yaxis": {
           "automargin": true,
           "gridcolor": "white",
           "linecolor": "white",
           "ticks": "",
           "title": {
            "standoff": 15
           },
           "zerolinecolor": "white",
           "zerolinewidth": 2
          }
         }
        },
        "width": 1400,
        "xaxis": {
         "anchor": "y",
         "autorange": true,
         "domain": [
          0,
          0.35624999999999996
         ],
         "linecolor": "black",
         "linewidth": 1,
         "mirror": true,
         "range": [
          -1.0062322946175637,
          10.006232294617563
         ],
         "showline": true,
         "tickangle": 45,
         "tickfont": {
          "size": 10
         },
         "type": "category"
        },
        "xaxis2": {
         "anchor": "y2",
         "domain": [
          0,
          0.35624999999999996
         ],
         "tickangle": 45
        },
        "yaxis": {
         "anchor": "x",
         "domain": [
          0.54,
          1
         ],
         "linecolor": "black",
         "linewidth": 1,
         "mirror": true,
         "range": [
          -20,
          10
         ],
         "showline": true,
         "title": {
          "font": {
           "size": 12
          },
          "text": "Change (%)"
         },
         "type": "linear"
        },
        "yaxis2": {
         "anchor": "x2",
         "domain": [
          0,
          0.46
         ]
        }
       }
      },
      "image/png": "[encoded data removed]",
      "text/html": [
       "<div>                            <div id=\"cc821fae-f575-4274-aaf8-12e866c8cc8b\" class=\"plotly-graph-div\" style=\"height:500px; width:1400px;\"></div>            <script type=\"text/javascript\">                require([\"plotly\"], function(Plotly) {                    window.PLOTLYENV=window.PLOTLYENV || {};                                    if (document.getElementById(\"cc821fae-f575-4274-aaf8-12e866c8cc8b\")) {                    Plotly.newPlot(                        \"cc821fae-f575-4274-aaf8-12e866c8cc8b\",                        [{\"marker\":{\"color\":\"#74add1\",\"line\":{\"color\":\"black\",\"width\":0.5}},\"showlegend\":false,\"x\":[\"1) Malawi\",\"2) Zambia\",\"3) Lesotho\",\"4) Honduras\",\"5) Togo\",\"6) Zimbabwe\",\"7) Mozambique\",\"8) Guatemala\",\"9) Paraguay\",\"10) Tanzania\",null,null,null,null,null,null,null,null,null,null,null,null,null,null,null,null,null,null,null,null,null,null,null,null,null,null,null,null,null,null,null,null,null,null,null,null,null,null,null,null,null,null,null,null,null,null,null,null,null,null,null,null,null,null,null,null,null,null,null,null,null,null,null,null,null,null,null,null,null,null,null,null,null,null,null,null,null,null,null,null,null,null,null,null,null,null,null,null,null,null,null,null,null,null,null,null,null,null,null,null,null,null,null,null,null,null,null,null,null,null,null,null,null,null,null,null,null,null,null,null,null,null,null,null,null,null,null,null,null,null,null,null,null,null,null,null,null,null,null,null,null,null,null,null,null,null,null,null,null,null,null,null,null,null,null,null,null,null,null,null,null,null,null,null,null,null,null,null,null,null,null,null,null,null,null,null,null,null,null,null,null,null,null,null,null,null,null,null,null,null,null,null,null,null,null,null,null,null,null,null,null,null,null,null,null,null,null,null,null,null,null,null,null,null,null,null,null,null,null,null,null,null,null,null,null,null,null,null,null,null,null,null,null,null,null,null,null,null,null,null,null,null,null],\"y\":[-18.13527213185325,8.004167136621868,-2.222155121692552,0.1371429745284017,-10.56639137547346,3.563692522334792,-2.353989069439592,1.552687243049272,-1.429496802423061,-2.305966673862451,null,null,null,null,null,null,null,null,null,null,null,null,null,null,null,null,null,null,null,null,null,null,null,null,null,null,null,null,null,null,null,null,null,null,null,null,null,null,null,null,null,null,null,null,null,null,null,null,null,null,null,null,null,null,null,null,null,null,null,null,null,null,null,null,null,null,null,null,null,null,null,null,null,null,null,null,null,null,null,null,null,null,null,null,null,null,null,null,null,null,null,null,null,null,null,null,null,null,null,null,null,null,null,null,null,null,null,null,null,null,null,null,null,null,null,null,null,null,null,null,null,null,null,null,null,null,null,null,null,null,null,null,null,null,null,null,null,null,null,null,null,null,null,null,null,null,null,null,null,null,null,null,null,null,null,null,null,null,null,null,null,null,null,null,null,null,null,null,null,null,null,null,null,null,null,null,null,null,null,null,null,null,null,null,null,null,null,null,null,null,null,null,null,null,null,null,null,null,null,null,null,null,null,null,null,null,null,null,null,null,null,null,null,null,null,null,null,null,null,null,null,null,null,null,null,null,null,null,null,null,null,null,null,null,null,null,null,null,null,null,null,null,null],\"type\":\"bar\",\"xaxis\":\"x\",\"yaxis\":\"y\"},{\"colorbar\":{\"title\":{\"font\":{\"size\":12},\"text\":\"Change (%)\",\"side\":\"bottom\"},\"len\":0.3,\"orientation\":\"h\",\"thickness\":10,\"x\":0.72,\"y\":-0.2},\"colorscale\":[[0.0,\"#a50026\"],[0.08233333333333333,\"#a50026\"],[0.08333333333333333,\"#d73027\"],[0.16566666666666666,\"#d73027\"],[0.16666666666666666,\"#f46d43\"],[0.249,\"#f46d43\"],[0.25,\"#fdae61\"],[0.3323333333333333,\"#fdae61\"],[0.3333333333333333,\"#fee08b\"],[0.41566666666666663,\"#fee08b\"],[0.41666666666666663,\"#ffffbf\"],[0.49899999999999994,\"#ffffbf\"],[0.49999999999999994,\"#ffffbf\"],[0.5823333333333333,\"#ffffbf\"],[0.5833333333333333,\"#d9ef8b\"],[0.6656666666666666,\"#d9ef8b\"],[0.6666666666666666,\"#a6d96a\"],[0.749,\"#a6d96a\"],[0.75,\"#66bd63\"],[0.8323333333333334,\"#66bd63\"],[0.8333333333333334,\"#1a9850\"],[0.9156666666666667,\"#1a9850\"],[0.9166666666666667,\"#006837\"],[1,\"#006837\"]],\"locationmode\":\"country names\",\"locations\":[\"Afganistan\",null,\"Albania\",\"Algeria\",\"American Samoa\",null,\"Angola\",null,null,\"Antigua and Barbuda\",\"Argentina\",\"Armenia\",\"Aruba\",\"Australia\",\"Austria\",\"Azerbaijan\",\"Bahamas\",\"Bahrain\",\"Bangladesh\",\"Barbados\",\"Belarus\",\"Belgium\",\"Belize\",\"Benin\",\"Bermuda\",\"Bhutan\",\"Bolivia\",\"Bonaire, Saint Eustatius and Saba\",\"Bosnia and Herzegovina\",\"Botswana\",\"Bouvet Island\",\"Brazil\",\"British Indian Ocean Territory\",\"British Virgin Islands\",\"Brunei\",\"Bulgaria\",\"Burkina Faso\",\"Burundi\",\"Cambodia\",\"Cameroon\",\"Canada\",\"Cape Verde\",\"Caspian Sea\",\"Cayman Islands\",\"Central African Republic\",\"Chad\",\"Chile\",\"China\",\"Christmas Island\",null,\"Cocos Islands\",\"Colombia\",\"Comoros\",\"Cook Islands\",\"Costa Rica\",\"C\\u00f4te d'Ivoire\",\"Croatia\",\"Cuba\",\"Cura\\u00e7ao\",\"Cyprus\",\"Czech Republic\",\"Democratic Republic of the Congo\",\"Denmark\",\"Djibouti\",\"Dominica\",\"Dominican Republic\",\"East Timor\",\"Ecuador\",\"Egypt\",\"El Salvador\",\"Equatorial Guinea\",\"Eritrea\",\"Estonia\",\"Ethiopia\",\"Falkland Islands\",\"Faroe Islands\",\"Fiji\",\"Finland\",\"France\",\"French Guiana\",\"French Polynesia\",\"French Southern Territories\",\"Gabon\",\"Gambia\",\"Georgia\",\"Germany\",\"Ghana\",null,\"Greece\",null,\"Grenada\",\"Guadeloupe\",\"Guam\",\"Guatemala\",\"Guernsey\",\"Guinea\",\"Guinea-Bissau\",\"Guyana\",\"Haiti\",\"Heard Island and McDonald Islands\",\"Honduras\",\"Hong Kong\",\"Hungary\",\"Iceland\",\"India\",\"Indonesia\",\"Iran\",\"Iraq\",\"Ireland\",\"Isle of Man\",\"Israel\",\"Italy\",\"Jamaica\",\"Japan\",\"Jersey\",\"Jordan\",\"Kazakhstan\",\"Kenya\",\"Kiribati\",\"Kosovo\",\"Kuwait\",\"Kyrgyzstan\",\"Laos\",\"Latvia\",\"Lebanon\",\"Lesotho\",\"Liberia\",\"Libya\",null,\"Lithuania\",\"Luxembourg\",null,\"Macedonia\",\"Madagascar\",\"Malawi\",\"Malaysia\",\"Maldives\",\"Mali\",\"Malta\",\"Marshall Islands\",\"Martinique\",\"Mauritania\",\"Mauritius\",\"Mayotte\",\"Mexico\",\"Micronesia\",\"Moldova\",null,\"Mongolia\",\"Montenegro\",\"Montserrat\",\"Morocco\",\"Mozambique\",\"Myanmar\",\"Namibia\",\"Nauru\",\"Nepal\",\"Netherlands\",\"New Caledonia\",\"New Zealand\",\"Nicaragua\",\"Niger\",\"Nigeria\",\"Niue\",\"Norfolk Island\",\"North Korea\",\"Northern Mariana Islands\",\"Norway\",\"Oman\",\"Pakistan\",\"Palau\",\"Palestina\",\"Panama\",\"Papua New Guinea\",\"Paraguay\",\"Peru\",\"Philippines\",\"Pitcairn Islands\",\"Poland\",\"Portugal\",\"Puerto Rico\",\"Qatar\",\"Republic of Congo\",\"Reunion\",\"Romania\",\"Russia\",\"Rwanda\",\"Saint Helena\",\"Saint Kitts and Nevis\",\"Saint Lucia\",\"Saint Pierre and Miquelon\",\"Saint Vincent and the Grenadines\",null,\"Saint-Martin\",\"Samoa\",null,\"Sao Tome and Principe\",\"Saudi Arabia\",\"Senegal\",\"Serbia\",\"Seychelles\",\"Sierra Leone\",\"Singapore\",null,\"Slovakia\",\"Slovenia\",\"Solomon Islands\",\"Somalia\",\"South Africa\",\"South Georgia and the South Sandwich Islands\",\"South Korea\",\"South Sudan\",\"Spain\",null,\"Sri Lanka\",\"Sudan\",\"Suriname\",\"Svalbard and Jan Mayen\",\"Swaziland\",\"Sweden\",\"Switzerland\",\"Syria\",\"Taiwan\",\"Tajikistan\",\"Tanzania\",\"Thailand\",\"Togo\",null,\"Tonga\",\"Trinidad and Tobago\",\"Tunisia\",\"Turkey\",\"Turkmenistan\",\"Turks and Caicos Islands\",\"Tuvalu\",\"Uganda\",\"Ukraine\",\"United Arab Emirates\",\"United Kingdom\",\"United States\",\"United States Minor Outlying Islands\",\"Uruguay\",\"Uzbekistan\",\"Vanuatu\",null,\"Venezuela\",\"Vietnam\",\"Virgin Islands, U.S.\",\"Wallis and Futuna\",\"Western Sahara\",\"Yemen\",\"Zambia\",\"Zimbabwe\"],\"z\":[null,null,-9.113336831182421,-2.497238622660521,null,null,-7.011611824667441,null,null,null,-5.183495769956081,-3.884395224957502,null,-3.560407746942928,-1.135141381398739,-4.352217249674862,null,null,14.80081794762455,null,-3.751348256347255,-2.998265210370245,14.68303227154559,-2.883211619716766,null,-5.712561196103142,-2.729843618147322,null,-10.9256938135682,-3.156446630735962,null,-6.070172137401957,null,null,-0.9928864720161836,-13.51213938012498,-5.496988516033669,-13.82416791533946,-3.805109654498458,-1.301895837863086,-3.565574136172363,null,-2.684734924001496,null,-3.459225537546356,-2.915509043514692,-25.0521494874869,-2.107125410739167,null,null,null,-2.119987342359174,null,null,9.891609585425519,-10.84425107412884,-9.816256401490177,13.42817341862423,null,-2.249279850899319,-1.632724931802746,-10.61930515693161,5.422530961356591,null,null,-2.581093471744683,-1.47629762627836,-0.3956221550963162,19.28640699254708,1.252040513980799,1.507150218949555,13.23323940409935,0.06861817890608289,-0.122197070050691,null,null,null,4.803971358873108,-1.085388044317391,19.73194574929689,null,null,-1.002886348529181,14.50679594923765,-2.271904385062276,-1.57850605650313,-5.902816680924477,null,-0.277156213577379,null,null,null,null,1.552687243049272,null,-3.115682544884055,16.96221992105789,7.578983085517311,16.52263647004589,null,0.1371429745284017,null,-7.861745145110731,null,8.514882649524834,-1.737267974686485,-1.799236547541604,15.08903322165307,0.168341593595728,null,3.184957656698913,0.5980489092159047,-0.5914229494108417,-0.1907397402615159,null,0.2560587179726208,-5.08027803378443,-0.6894216101864252,null,-8.786182065758775,null,-5.016587977550953,-3.334305760566143,-1.834743026718423,0.9461701530858179,-2.222155121692552,2.411264340683927,10.7708359203585,null,-0.3722481749797611,-1.602821562149228,null,-14.8398675221825,-2.959826632919629,-18.13527213185325,-2.54151405910843,null,16.64299255891685,null,null,null,38.11108174586716,null,null,2.731759724243398,null,-11.65446015975284,null,0.002189183118964559,-4.931882563628103,null,12.80562157932961,-2.353989069439592,10.2296179727494,-6.589482916843224,null,12.03238971014812,-1.404070459764083,null,-1.611556935922416,-1.14792525828404,17.7975339910394,-4.926991212508649,null,null,-1.848930905200219,null,-6.847431483425602,-16.05422383750174,16.1085510003631,null,10.66946155824309,-2.53723779420417,-1.764391538784601,-1.429496802423061,-2.574010471753285,-2.702691591264497,null,-1.69381463945235,1.558951198402242,-0.7360405706645888,null,-2.105120656068631,null,-11.40386218845849,-2.234442607402886,-16.43313100052733,null,null,null,null,null,null,null,null,null,null,6.214935585907044,3.009650284222686,-12.9273105971576,null,-3.19255879273756,null,null,-5.877536690197359,-0.5209640829863506,null,2.841455223007518,0.9944805231590089,null,-0.02860279099893005,-3.56292540541719,4.370100548942275,null,-3.732257431404876,0.2266389431627619,11.9344926660331,null,-0.332388222805249,11.24925981601026,-1.366340958856991,29.70337707949756,-1.24218811971915,-2.318381058725234,-2.305966673862451,1.114988849907102,-10.56639137547346,null,null,4.446125287956838,-4.624261794921701,-1.635004308576623,11.50834246711415,null,null,-2.093565472248433,-9.554688884763753,-26.96849281346873,-1.162594653399644,0.01036295421151039,null,-3.826616925271729,0.3203499943585975,null,null,21.99840233068547,2.897207278101413,null,null,null,7.858015726135463,8.004167136621868,3.563692522334792],\"zmax\":20,\"zmin\":-20,\"type\":\"choropleth\",\"geo\":\"geo\"}],                        {\"template\":{\"data\":{\"histogram2dcontour\":[{\"type\":\"histogram2dcontour\",\"colorbar\":{\"outlinewidth\":0,\"ticks\":\"\"},\"colorscale\":[[0.0,\"#0d0887\"],[0.1111111111111111,\"#46039f\"],[0.2222222222222222,\"#7201a8\"],[0.3333333333333333,\"#9c179e\"],[0.4444444444444444,\"#bd3786\"],[0.5555555555555556,\"#d8576b\"],[0.6666666666666666,\"#ed7953\"],[0.7777777777777778,\"#fb9f3a\"],[0.8888888888888888,\"#fdca26\"],[1.0,\"#f0f921\"]]}],\"choropleth\":[{\"type\":\"choropleth\",\"colorbar\":{\"outlinewidth\":0,\"ticks\":\"\"}}],\"histogram2d\":[{\"type\":\"histogram2d\",\"colorbar\":{\"outlinewidth\":0,\"ticks\":\"\"},\"colorscale\":[[0.0,\"#0d0887\"],[0.1111111111111111,\"#46039f\"],[0.2222222222222222,\"#7201a8\"],[0.3333333333333333,\"#9c179e\"],[0.4444444444444444,\"#bd3786\"],[0.5555555555555556,\"#d8576b\"],[0.6666666666666666,\"#ed7953\"],[0.7777777777777778,\"#fb9f3a\"],[0.8888888888888888,\"#fdca26\"],[1.0,\"#f0f921\"]]}],\"heatmap\":[{\"type\":\"heatmap\",\"colorbar\":{\"outlinewidth\":0,\"ticks\":\"\"},\"colorscale\":[[0.0,\"#0d0887\"],[0.1111111111111111,\"#46039f\"],[0.2222222222222222,\"#7201a8\"],[0.3333333333333333,\"#9c179e\"],[0.4444444444444444,\"#bd3786\"],[0.5555555555555556,\"#d8576b\"],[0.6666666666666666,\"#ed7953\"],[0.7777777777777778,\"#fb9f3a\"],[0.8888888888888888,\"#fdca26\"],[1.0,\"#f0f921\"]]}],\"heatmapgl\":[{\"type\":\"heatmapgl\",\"colorbar\":{\"outlinewidth\":0,\"ticks\":\"\"},\"colorscale\":[[0.0,\"#0d0887\"],[0.1111111111111111,\"#46039f\"],[0.2222222222222222,\"#7201a8\"],[0.3333333333333333,\"#9c179e\"],[0.4444444444444444,\"#bd3786\"],[0.5555555555555556,\"#d8576b\"],[0.6666666666666666,\"#ed7953\"],[0.7777777777777778,\"#fb9f3a\"],[0.8888888888888888,\"#fdca26\"],[1.0,\"#f0f921\"]]}],\"contourcarpet\":[{\"type\":\"contourcarpet\",\"colorbar\":{\"outlinewidth\":0,\"ticks\":\"\"}}],\"contour\":[{\"type\":\"contour\",\"colorbar\":{\"outlinewidth\":0,\"ticks\":\"\"},\"colorscale\":[[0.0,\"#0d0887\"],[0.1111111111111111,\"#46039f\"],[0.2222222222222222,\"#7201a8\"],[0.3333333333333333,\"#9c179e\"],[0.4444444444444444,\"#bd3786\"],[0.5555555555555556,\"#d8576b\"],[0.6666666666666666,\"#ed7953\"],[0.7777777777777778,\"#fb9f3a\"],[0.8888888888888888,\"#fdca26\"],[1.0,\"#f0f921\"]]}],\"surface\":[{\"type\":\"surface\",\"colorbar\":{\"outlinewidth\":0,\"ticks\":\"\"},\"colorscale\":[[0.0,\"#0d0887\"],[0.1111111111111111,\"#46039f\"],[0.2222222222222222,\"#7201a8\"],[0.3333333333333333,\"#9c179e\"],[0.4444444444444444,\"#bd3786\"],[0.5555555555555556,\"#d8576b\"],[0.6666666666666666,\"#ed7953\"],[0.7777777777777778,\"#fb9f3a\"],[0.8888888888888888,\"#fdca26\"],[1.0,\"#f0f921\"]]}],\"mesh3d\":[{\"type\":\"mesh3d\",\"colorbar\":{\"outlinewidth\":0,\"ticks\":\"\"}}],\"scatter\":[{\"fillpattern\":{\"fillmode\":\"overlay\",\"size\":10,\"solidity\":0.2},\"type\":\"scatter\"}],\"parcoords\":[{\"type\":\"parcoords\",\"line\":{\"colorbar\":{\"outlinewidth\":0,\"ticks\":\"\"}}}],\"scatterpolargl\":[{\"type\":\"scatterpolargl\",\"marker\":{\"colorbar\":{\"outlinewidth\":0,\"ticks\":\"\"}}}],\"bar\":[{\"error_x\":{\"color\":\"#2a3f5f\"},\"error_y\":{\"color\":\"#2a3f5f\"},\"marker\":{\"line\":{\"color\":\"#E5ECF6\",\"width\":0.5},\"pattern\":{\"fillmode\":\"overlay\",\"size\":10,\"solidity\":0.2}},\"type\":\"bar\"}],\"scattergeo\":[{\"type\":\"scattergeo\",\"marker\":{\"colorbar\":{\"outlinewidth\":0,\"ticks\":\"\"}}}],\"scatterpolar\":[{\"type\":\"scatterpolar\",\"marker\":{\"colorbar\":{\"outlinewidth\":0,\"ticks\":\"\"}}}],\"histogram\":[{\"marker\":{\"pattern\":{\"fillmode\":\"overlay\",\"size\":10,\"solidity\":0.2}},\"type\":\"histogram\"}],\"scattergl\":[{\"type\":\"scattergl\",\"marker\":{\"colorbar\":{\"outlinewidth\":0,\"ticks\":\"\"}}}],\"scatter3d\":[{\"type\":\"scatter3d\",\"line\":{\"colorbar\":{\"outlinewidth\":0,\"ticks\":\"\"}},\"marker\":{\"colorbar\":{\"outlinewidth\":0,\"ticks\":\"\"}}}],\"scattermapbox\":[{\"type\":\"scattermapbox\",\"marker\":{\"colorbar\":{\"outlinewidth\":0,\"ticks\":\"\"}}}],\"scatterternary\":[{\"type\":\"scatterternary\",\"marker\":{\"colorbar\":{\"outlinewidth\":0,\"ticks\":\"\"}}}],\"scattercarpet\":[{\"type\":\"scattercarpet\",\"marker\":{\"colorbar\":{\"outlinewidth\":0,\"ticks\":\"\"}}}],\"carpet\":[{\"aaxis\":{\"endlinecolor\":\"#2a3f5f\",\"gridcolor\":\"white\",\"linecolor\":\"white\",\"minorgridcolor\":\"white\",\"startlinecolor\":\"#2a3f5f\"},\"baxis\":{\"endlinecolor\":\"#2a3f5f\",\"gridcolor\":\"white\",\"linecolor\":\"white\",\"minorgridcolor\":\"white\",\"startlinecolor\":\"#2a3f5f\"},\"type\":\"carpet\"}],\"table\":[{\"cells\":{\"fill\":{\"color\":\"#EBF0F8\"},\"line\":{\"color\":\"white\"}},\"header\":{\"fill\":{\"color\":\"#C8D4E3\"},\"line\":{\"color\":\"white\"}},\"type\":\"table\"}],\"barpolar\":[{\"marker\":{\"line\":{\"color\":\"#E5ECF6\",\"width\":0.5},\"pattern\":{\"fillmode\":\"overlay\",\"size\":10,\"solidity\":0.2}},\"type\":\"barpolar\"}],\"pie\":[{\"automargin\":true,\"type\":\"pie\"}]},\"layout\":{\"autotypenumbers\":\"strict\",\"colorway\":[\"#636efa\",\"#EF553B\",\"#00cc96\",\"#ab63fa\",\"#FFA15A\",\"#19d3f3\",\"#FF6692\",\"#B6E880\",\"#FF97FF\",\"#FECB52\"],\"font\":{\"color\":\"#2a3f5f\"},\"hovermode\":\"closest\",\"hoverlabel\":{\"align\":\"left\"},\"paper_bgcolor\":\"white\",\"plot_bgcolor\":\"#E5ECF6\",\"polar\":{\"bgcolor\":\"#E5ECF6\",\"angularaxis\":{\"gridcolor\":\"white\",\"linecolor\":\"white\",\"ticks\":\"\"},\"radialaxis\":{\"gridcolor\":\"white\",\"linecolor\":\"white\",\"ticks\":\"\"}},\"ternary\":{\"bgcolor\":\"#E5ECF6\",\"aaxis\":{\"gridcolor\":\"white\",\"linecolor\":\"white\",\"ticks\":\"\"},\"baxis\":{\"gridcolor\":\"white\",\"linecolor\":\"white\",\"ticks\":\"\"},\"caxis\":{\"gridcolor\":\"white\",\"linecolor\":\"white\",\"ticks\":\"\"}},\"coloraxis\":{\"colorbar\":{\"outlinewidth\":0,\"ticks\":\"\"}},\"colorscale\":{\"sequential\":[[0.0,\"#0d0887\"],[0.1111111111111111,\"#46039f\"],[0.2222222222222222,\"#7201a8\"],[0.3333333333333333,\"#9c179e\"],[0.4444444444444444,\"#bd3786\"],[0.5555555555555556,\"#d8576b\"],[0.6666666666666666,\"#ed7953\"],[0.7777777777777778,\"#fb9f3a\"],[0.8888888888888888,\"#fdca26\"],[1.0,\"#f0f921\"]],\"sequentialminus\":[[0.0,\"#0d0887\"],[0.1111111111111111,\"#46039f\"],[0.2222222222222222,\"#7201a8\"],[0.3333333333333333,\"#9c179e\"],[0.4444444444444444,\"#bd3786\"],[0.5555555555555556,\"#d8576b\"],[0.6666666666666666,\"#ed7953\"],[0.7777777777777778,\"#fb9f3a\"],[0.8888888888888888,\"#fdca26\"],[1.0,\"#f0f921\"]],\"diverging\":[[0,\"#8e0152\"],[0.1,\"#c51b7d\"],[0.2,\"#de77ae\"],[0.3,\"#f1b6da\"],[0.4,\"#fde0ef\"],[0.5,\"#f7f7f7\"],[0.6,\"#e6f5d0\"],[0.7,\"#b8e186\"],[0.8,\"#7fbc41\"],[0.9,\"#4d9221\"],[1,\"#276419\"]]},\"xaxis\":{\"gridcolor\":\"white\",\"linecolor\":\"white\",\"ticks\":\"\",\"title\":{\"standoff\":15},\"zerolinecolor\":\"white\",\"automargin\":true,\"zerolinewidth\":2},\"yaxis\":{\"gridcolor\":\"white\",\"linecolor\":\"white\",\"ticks\":\"\",\"title\":{\"standoff\":15},\"zerolinecolor\":\"white\",\"automargin\":true,\"zerolinewidth\":2},\"scene\":{\"xaxis\":{\"backgroundcolor\":\"#E5ECF6\",\"gridcolor\":\"white\",\"linecolor\":\"white\",\"showbackground\":true,\"ticks\":\"\",\"zerolinecolor\":\"white\",\"gridwidth\":2},\"yaxis\":{\"backgroundcolor\":\"#E5ECF6\",\"gridcolor\":\"white\",\"linecolor\":\"white\",\"showbackground\":true,\"ticks\":\"\",\"zerolinecolor\":\"white\",\"gridwidth\":2},\"zaxis\":{\"backgroundcolor\":\"#E5ECF6\",\"gridcolor\":\"white\",\"linecolor\":\"white\",\"showbackground\":true,\"ticks\":\"\",\"zerolinecolor\":\"white\",\"gridwidth\":2}},\"shapedefaults\":{\"line\":{\"color\":\"#2a3f5f\"}},\"annotationdefaults\":{\"arrowcolor\":\"#2a3f5f\",\"arrowhead\":0,\"arrowwidth\":1},\"geo\":{\"bgcolor\":\"white\",\"landcolor\":\"#E5ECF6\",\"subunitcolor\":\"white\",\"showland\":true,\"showlakes\":true,\"lakecolor\":\"white\"},\"title\":{\"x\":0.05},\"mapbox\":{\"style\":\"light\"}}},\"xaxis\":{\"anchor\":\"y\",\"domain\":[0.0,0.35624999999999996],\"tickangle\":45,\"tickfont\":{\"size\":10},\"showline\":true,\"linecolor\":\"black\",\"linewidth\":1,\"mirror\":true},\"yaxis\":{\"anchor\":\"x\",\"domain\":[0.54,1.0],\"title\":{\"font\":{\"size\":12},\"text\":\"Change (%)\"},\"range\":[-20,10],\"showline\":true,\"linecolor\":\"black\",\"linewidth\":1,\"mirror\":true},\"geo\":{\"domain\":{\"x\":[0.40624999999999994,1.0],\"y\":[0.0,1.0]},\"projection\":{\"type\":\"robinson\"},\"lataxis\":{\"range\":[-60,80]},\"visible\":false,\"resolution\":110,\"showcountries\":true},\"xaxis2\":{\"anchor\":\"y2\",\"domain\":[0.0,0.35624999999999996],\"tickangle\":45},\"yaxis2\":{\"anchor\":\"x2\",\"domain\":[0.0,0.46]},\"annotations\":[{\"font\":{\"size\":12},\"showarrow\":false,\"text\":\"Maize protein concentration change\",\"x\":0.17812499999999998,\"xanchor\":\"center\",\"xref\":\"paper\",\"y\":1.0,\"yanchor\":\"bottom\",\"yref\":\"paper\"},{\"font\":{\"size\":12},\"showarrow\":false,\"text\":\"Maize protein concentration change ARISE-SAI-1.5C minus SSP245\",\"x\":0.703125,\"xanchor\":\"center\",\"xref\":\"paper\",\"y\":1.0,\"yanchor\":\"bottom\",\"yref\":\"paper\"}],\"width\":1400,\"height\":500,\"plot_bgcolor\":\"white\",\"shapes\":[{\"line\":{\"color\":\"black\",\"width\":0.5},\"type\":\"line\",\"x0\":-1,\"x1\":10,\"xref\":\"x\",\"y0\":0,\"y1\":0,\"yref\":\"y\"}]},                        {\"responsive\": true}                    ).then(function(){\n",
       "                            \n",
       "var gd = document.getElementById('cc821fae-f575-4274-aaf8-12e866c8cc8b');\n",
       "var x = new MutationObserver(function (mutations, observer) {{\n",
       "        var display = window.getComputedStyle(gd).display;\n",
       "        if (!display || display === 'none') {{\n",
       "            console.log([gd, 'removed!']);\n",
       "            Plotly.purge(gd);\n",
       "            observer.disconnect();\n",
       "        }}\n",
       "}});\n",
       "\n",
       "// Listen for the removal of the full notebook cells\n",
       "var notebookContainer = gd.closest('#notebook-container');\n",
       "if (notebookContainer) {{\n",
       "    x.observe(notebookContainer, {childList: true});\n",
       "}}\n",
       "\n",
       "// Listen for the clearing of the current output cell\n",
       "var outputEl = gd.closest('.output');\n",
       "if (outputEl) {{\n",
       "    x.observe(outputEl, {childList: true});\n",
       "}}\n",
       "\n",
       "                        })                };                });            </script>        </div>"
      ]
     },
     "metadata": {},
     "output_type": "display_data"
    }
   ],
   "source": [
    "# Define subplots\n",
    "fig = make_subplots(rows=2, cols=2,subplot_titles=(\"Maize protein concentration change\",\"Maize protein concentration change ARISE-SAI-1.5C minus SSP245\"),\n",
    "                    specs=[[{\"type\": \"bar\"}, {\"type\": \"choropleth\",\"rowspan\": 2}],\n",
    "                            [{},None]],\n",
    "                    row_heights=[0.4,0.4], column_widths=[0.6,1.0],\n",
    "    vertical_spacing=0.08,  # Spacing between rows\n",
    "    horizontal_spacing=0.05  # Spacing between columns\n",
    ")\n",
    "# Barplot\n",
    "fig.add_trace(go.Bar(x=maize_top['nation-name.1'],y=maize_top['pchange.1'],marker_color='#74add1',marker=dict(line=dict(width=0.5, color='black')),showlegend=False),row=1, col=1)\n",
    "# Choropleth\n",
    "fig.add_trace(\n",
    "    go.Choropleth(locations=maize['nation-name'],colorscale=cscale,z=maize[\"pchange\"],\n",
    "locationmode = \"country names\", zmin=-20, zmax=20,colorbar = {'title': {'text': 'Change (%)', 'font': {'size': 12}}}), row = 1, col = 2)\n",
    "# Update layout\n",
    "fig.update_geos(projection_type=\"robinson\",lataxis_range=[-60,80])\n",
    "\n",
    "fig.update_traces(colorbar_title_side='bottom',colorbar_orientation='h',colorbar_thickness=10, colorbar_x=0.72,colorbar_y=-0.2,colorbar_len=0.3, row=1, col=2)\n",
    "\n",
    "fig.update_yaxes(title_font=dict(size=12),title_text=\"Change (%)\", row=1, col=1)\n",
    "\n",
    "fig.update_xaxes(tickangle=45)\n",
    "fig.update_xaxes(tickfont_size=10, row=1, col=1)\n",
    "fig.update_layout(width=1400, height=500)\n",
    "fig.update_layout(plot_bgcolor='white')\n",
    "fig.update_layout(\n",
    "    shapes=[\n",
    "        # Line for Maize plot (row 1, col 1)\n",
    "        dict(\n",
    "            type=\"line\",\n",
    "            x0=-1, x1=10,  # Start and end of the line along the x-axis\n",
    "            y0=0, y1=0,  # Line position at y=0\n",
    "            line=dict(color=\"black\", width=0.5),\n",
    "            xref=\"x1\", yref=\"y1\"  # Define the correct x and y axes for this subplot\n",
    "        )\n",
    "    ]\n",
    ")\n",
    "fig.update_geos(\n",
    "    visible=False, resolution=110,\n",
    "    showcountries=True\n",
    ")\n",
    "fig.update_yaxes(range=[-20, 10], row=1, col=1)\n",
    "\n",
    "fig.update_xaxes(showline = True, linecolor = 'black', linewidth = 1, row = 1, col = 1, mirror = True)\n",
    "fig.update_yaxes(showline = True, linecolor = 'black', linewidth = 1, row = 1, col = 1, mirror = True)\n",
    "\n",
    "fig.update_annotations(font_size=12)"
   ]
  },
  {
   "cell_type": "code",
   "execution_count": 10,
   "id": "38e9a62c-fe9c-4c59-8aae-e10d0ecd19cc",
   "metadata": {},
   "outputs": [],
   "source": [
    "fig.write_image(savedir+\"/Nature_ED2_DSSAT.png\",scale=1)"
   ]
  },
  {
   "cell_type": "code",
   "execution_count": null,
   "id": "883044b8-4e26-4f67-a62e-ff8dcf7d76a2",
   "metadata": {},
   "outputs": [],
   "source": []
  }
 ],
 "metadata": {
  "kernelspec": {
   "display_name": "Python 3 (ipykernel)",
   "language": "python",
   "name": "python3"
  },
  "language_info": {
   "codemirror_mode": {
    "name": "ipython",
    "version": 3
   },
   "file_extension": ".py",
   "mimetype": "text/x-python",
   "name": "python",
   "nbconvert_exporter": "python",
   "pygments_lexer": "ipython3",
   "version": "3.10.13"
  }
 },
 "nbformat": 4,
 "nbformat_minor": 5
}
