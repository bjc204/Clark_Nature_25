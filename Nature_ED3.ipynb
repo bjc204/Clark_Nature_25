{
 "cells": [
  {
   "cell_type": "code",
   "execution_count": 1,
   "id": "ec442e76-5456-4329-a3c1-880c411f12b7",
   "metadata": {},
   "outputs": [],
   "source": [
    "import xarray as xr\n",
    "import numpy as np\n",
    "import pandas as pd\n",
    "import esmlab\n",
    "#from ctsm_py import utils\n",
    "#import segment as sg\n",
    "import scipy                    \n",
    "from scipy import signal\n",
    "from scipy import stats\n",
    "#import cf_units as cf\n",
    "\n",
    "# some resources for plotting\n",
    "import matplotlib.pyplot as plt\n",
    "import cartopy\n",
    "import cartopy.crs as ccrs\n",
    "%matplotlib inline\n",
    "\n",
    "from matplotlib.pyplot import figure\n",
    "import matplotlib.ticker as mticker\n",
    "from cartopy.mpl.gridliner import LONGITUDE_FORMATTER, LATITUDE_FORMATTER"
   ]
  },
  {
   "cell_type": "code",
   "execution_count": 2,
   "id": "d0240425-3ba1-4143-b8ac-de589e955079",
   "metadata": {},
   "outputs": [],
   "source": [
    "filedir = '/glade/derecho/scratch/brendanc/GGCMI_CO2'\n",
    "savedir = '/glade/campaign/univ/urtg0006/Brendan/GGCMI_model_comp_figs/protein'\n",
    "\n",
    "C370 = xr.open_dataset(filedir + '/240826.b.e21.BWSSP245cmip6.f09_g17.CMIP6-SSP2-4.5-WACCM.006.hcru_hcru_mt13.alpha-ctsm5.2.mksrf.23_ctsm5.1.dev171.GGCMIharm_ConCO2.370ppm.2016-2021.clm2.h2.CYIELD.2016-2022.nc')\n",
    "N370 = xr.open_dataset(filedir + '/240826.b.e21.BWSSP245cmip6.f09_g17.CMIP6-SSP2-4.5-WACCM.006.hcru_hcru_mt13.alpha-ctsm5.2.mksrf.23_ctsm5.1.dev171.GGCMIharm_ConCO2.370ppm.2016-2021.clm2.h2.NYIELD.2016-2022.nc')\n",
    "\n",
    "C570 = xr.open_dataset(filedir + '/240826.b.e21.BWSSP245cmip6.f09_g17.CMIP6-SSP2-4.5-WACCM.006.hcru_hcru_mt13.alpha-ctsm5.2.mksrf.23_ctsm5.1.dev171.GGCMIharm_ConCO2.570ppm.2016-2021.clm2.h2.CYIELD.2016-2022.nc')\n",
    "N570 = xr.open_dataset(filedir + '/240826.b.e21.BWSSP245cmip6.f09_g17.CMIP6-SSP2-4.5-WACCM.006.hcru_hcru_mt13.alpha-ctsm5.2.mksrf.23_ctsm5.1.dev171.GGCMIharm_ConCO2.570ppm.2016-2021.clm2.h2.NYIELD.2016-2022.nc')"
   ]
  },
  {
   "cell_type": "code",
   "execution_count": 3,
   "id": "89252557-d2d9-400b-a612-ec1f6202ccad",
   "metadata": {},
   "outputs": [
    {
     "name": "stderr",
     "output_type": "stream",
     "text": [
      "/glade/u/ssg/ch/usr/jupyterhub/envs/pangeo-2019.09.12/lib/python3.7/site-packages/xarray/core/nanops.py:160: RuntimeWarning: Mean of empty slice\n",
      "  return np.nanmean(a, axis=axis, dtype=dtype)\n"
     ]
    }
   ],
   "source": [
    "wheatarea = C370['area'].sel(crops=9)\n",
    "wheatarea = wheatarea.mean(dim='time')\n",
    "LatIndexer, LonIndexer = 'lat', 'lon'\n",
    "\n",
    "wheat_c370 = C370['yield'].sel(crops=9)\n",
    "#wheat_c370 = wheat_c370.where(wheatarea > 500)\n",
    "#wheat_c370 = wheat_c370.mean(dim='time')\n",
    "wheat_c370 = wheat_c370.loc[{LatIndexer: slice(-50, -12),\n",
    "                      LonIndexer: slice(110, 155)}]\n",
    "#wheat_c370 = (wheat_c370 * wheatarea)\n",
    "#wheat_c370 = wheat_c370.sum(dim=['lat','lon'],skipna=True)\n",
    "\n",
    "wheat_n370 = N370['yield'].sel(crops=9)\n",
    "#wheat_n370 = wheat_n370.where(wheatarea > 500)\n",
    "#wheat_n370 = wheat_n370.mean(dim='time')\n",
    "wheat_n370 = wheat_n370.loc[{LatIndexer: slice(-50, -12),\n",
    "                      LonIndexer: slice(110, 155)}]\n",
    "#wheat_n370 = (wheat_n370 * wheatarea)\n",
    "#wheat_n370 = wheat_n370.sum(dim=['lat','lon'],skipna=True)\n",
    "\n",
    "wheat_c570 = C570['yield'].sel(crops=9)\n",
    "#wheat_c570 = wheat_c570.where(wheatarea > 500)\n",
    "#wheat_c570 = wheat_c570.mean(dim='time')\n",
    "wheat_c570 = wheat_c570.loc[{LatIndexer: slice(-50, -12),\n",
    "                      LonIndexer: slice(110, 155)}]\n",
    "#wheat_c570 = (wheat_c570 * wheatarea)\n",
    "#wheat_c570 = wheat_c570.sum(dim=['lat','lon'],skipna=True)\n",
    "\n",
    "wheat_n570 = N570['yield'].sel(crops=9)\n",
    "#wheat_n570 = wheat_n570.where(wheatarea > 500)\n",
    "#wheat_n570 = wheat_n570.mean(dim='time')\n",
    "wheat_n570 = wheat_n570.loc[{LatIndexer: slice(-50, -12),\n",
    "                      LonIndexer: slice(110, 155)}]\n",
    "#wheat_n570 = (wheat_n570 * wheatarea)\n",
    "#wheat_n570 = wheat_n570.sum(dim=['lat','lon'],skipna=True)"
   ]
  },
  {
   "cell_type": "code",
   "execution_count": 4,
   "id": "2f14a3e1-970e-4d37-bba4-159dc5a7b290",
   "metadata": {},
   "outputs": [],
   "source": [
    "wheat370 = np.divide(wheat_n370, wheat_c370, out=np.zeros_like(wheat_n370), where=wheat_c370!=0)\n",
    "#wheat370 = wheat370.where(wheat370.values > 0.001) \n",
    "#wheat370 = wheat370.where(wheat370.values < 0.02) \n",
    "\n",
    "wheat570 = np.divide(wheat_n570, wheat_c570, out=np.zeros_like(wheat_n570), where=wheat_c570!=0)\n",
    "#wheat570 = wheat570.where(wheat570.values > 0.001) \n",
    "#wheat570 = wheat570.where(wheat570.values < 0.02) "
   ]
  },
  {
   "cell_type": "code",
   "execution_count": 5,
   "id": "6d1e3d00-92b4-47f3-a925-f989c2e1f162",
   "metadata": {},
   "outputs": [
    {
     "name": "stderr",
     "output_type": "stream",
     "text": [
      "/glade/u/ssg/ch/usr/jupyterhub/envs/pangeo-2019.09.12/lib/python3.7/site-packages/xarray/core/nanops.py:160: RuntimeWarning: Mean of empty slice\n",
      "  return np.nanmean(a, axis=axis, dtype=dtype)\n"
     ]
    }
   ],
   "source": [
    "#wheat370_mean = masked_average(wheat370, dim=['lat','lon'], weights=wheatarea)\n",
    "wheat370_mean = wheat370.mean(dim=['lat','lon'])\n",
    "#wheat570_mean = masked_average(wheat570, dim=['lat','lon'], weights=wheatarea)\n",
    "wheat570_mean = wheat570.mean(dim=['lat','lon'])"
   ]
  },
  {
   "cell_type": "code",
   "execution_count": 6,
   "id": "e5645307-0bc4-4cc6-8d12-faf7e4ffdfbe",
   "metadata": {},
   "outputs": [],
   "source": [
    "wheat_pchange = (wheat570_mean - wheat370_mean) / (wheat370_mean)\n",
    "wheat_pchange = wheat_pchange * 100\n",
    "\n",
    "wheat_pchange_std = np.std(wheat_pchange)\n",
    "\n",
    "wheat_pchange_mean = wheat_pchange.mean()"
   ]
  },
  {
   "cell_type": "code",
   "execution_count": 7,
   "id": "7471d431-2733-4dba-ae74-2a616d6534d7",
   "metadata": {},
   "outputs": [
    {
     "data": {
      "text/plain": [
       "<xarray.DataArray 'yield' ()>\n",
       "array(3.045283)\n",
       "Coordinates:\n",
       "    crops    float64 9.0"
      ]
     },
     "execution_count": 7,
     "metadata": {},
     "output_type": "execute_result"
    }
   ],
   "source": [
    "wheat_pchange_std"
   ]
  },
  {
   "cell_type": "code",
   "execution_count": 8,
   "id": "adcf0142-2600-42f8-beae-bcc37845580f",
   "metadata": {},
   "outputs": [
    {
     "data": {
      "text/plain": [
       "<xarray.DataArray 'yield' ()>\n",
       "array(-12.883727)\n",
       "Coordinates:\n",
       "    crops    float64 9.0"
      ]
     },
     "execution_count": 8,
     "metadata": {},
     "output_type": "execute_result"
    }
   ],
   "source": [
    "wheat_pchange_mean"
   ]
  },
  {
   "cell_type": "code",
   "execution_count": 9,
   "id": "06c3c430-e31e-46ce-bba9-ed7b9bacaa32",
   "metadata": {},
   "outputs": [
    {
     "name": "stderr",
     "output_type": "stream",
     "text": [
      "/glade/u/ssg/ch/usr/jupyterhub/envs/pangeo-2019.09.12/lib/python3.7/site-packages/xarray/core/nanops.py:160: RuntimeWarning: Mean of empty slice\n",
      "  return np.nanmean(a, axis=axis, dtype=dtype)\n"
     ]
    }
   ],
   "source": [
    "wheatarea = C370['area'].sel(crops=3)\n",
    "wheatarea = wheatarea.mean(dim='time')\n",
    "LatIndexer, LonIndexer = 'lat', 'lon'\n",
    "\n",
    "wheat_c370 = C370['yield'].sel(crops=3)\n",
    "#wheat_c370 = wheat_c370.where(wheatarea > 500)\n",
    "#wheat_c370 = wheat_c370.mean(dim='time')\n",
    "wheat_c370 = wheat_c370.loc[{LatIndexer: slice(30, 42),\n",
    "                      LonIndexer: slice(130, 145)}]\n",
    "#wheat_c370 = (wheat_c370 * wheatarea)\n",
    "#wheat_c370 = wheat_c370.sum(dim=['lat','lon'],skipna=True)\n",
    "\n",
    "wheat_n370 = N370['yield'].sel(crops=3)\n",
    "#wheat_n370 = wheat_n370.where(wheatarea > 500)\n",
    "#wheat_n370 = wheat_n370.mean(dim='time')\n",
    "wheat_n370 = wheat_n370.loc[{LatIndexer: slice(30, 42),\n",
    "                      LonIndexer: slice(130, 145)}]\n",
    "#wheat_n370 = (wheat_n370 * wheatarea)\n",
    "#wheat_n370 = wheat_n370.sum(dim=['lat','lon'],skipna=True)\n",
    "\n",
    "wheat_c570 = C570['yield'].sel(crops=3)\n",
    "#wheat_c570 = wheat_c570.where(wheatarea > 500)\n",
    "#wheat_c570 = wheat_c570.mean(dim='time')\n",
    "wheat_c570 = wheat_c570.loc[{LatIndexer: slice(30, 42),\n",
    "                      LonIndexer: slice(130, 145)}]\n",
    "#wheat_c570 = (wheat_c570 * wheatarea)\n",
    "#wheat_c570 = wheat_c570.sum(dim=['lat','lon'],skipna=True)\n",
    "\n",
    "wheat_n570 = N570['yield'].sel(crops=3)\n",
    "#wheat_n570 = wheat_n570.where(wheatarea > 500)\n",
    "#wheat_n570 = wheat_n570.mean(dim='time')\n",
    "wheat_n570 = wheat_n570.loc[{LatIndexer: slice(30, 42),\n",
    "                      LonIndexer: slice(130, 145)}]\n",
    "#wheat_n570 = (wheat_n570 * wheatarea)\n",
    "#wheat_n570 = wheat_n570.sum(dim=['lat','lon'],skipna=True)"
   ]
  },
  {
   "cell_type": "code",
   "execution_count": 10,
   "id": "43b14c4f-d6f0-4c4b-a117-044dbbd0cf0c",
   "metadata": {},
   "outputs": [],
   "source": [
    "wheat370 = np.divide(wheat_n370, wheat_c370, out=np.zeros_like(wheat_n370), where=wheat_c370!=0)\n",
    "#wheat370 = wheat370.where(wheat370.values > 0.001) \n",
    "#wheat370 = wheat370.where(wheat370.values < 0.02) \n",
    "\n",
    "wheat570 = np.divide(wheat_n570, wheat_c570, out=np.zeros_like(wheat_n570), where=wheat_c570!=0)\n",
    "#wheat570 = wheat570.where(wheat570.values > 0.001) \n",
    "#wheat570 = wheat570.where(wheat570.values < 0.02) "
   ]
  },
  {
   "cell_type": "code",
   "execution_count": 11,
   "id": "763d648a-6803-402e-a6ac-b8ae40a5f905",
   "metadata": {},
   "outputs": [
    {
     "name": "stderr",
     "output_type": "stream",
     "text": [
      "/glade/u/ssg/ch/usr/jupyterhub/envs/pangeo-2019.09.12/lib/python3.7/site-packages/xarray/core/nanops.py:160: RuntimeWarning: Mean of empty slice\n",
      "  return np.nanmean(a, axis=axis, dtype=dtype)\n"
     ]
    }
   ],
   "source": [
    "#wheat370_mean = masked_average(wheat370, dim=['lat','lon'], weights=wheatarea)\n",
    "wheat370_mean = wheat370.mean(dim=['lat','lon'])\n",
    "#wheat570_mean = masked_average(wheat570, dim=['lat','lon'], weights=wheatarea)\n",
    "wheat570_mean = wheat570.mean(dim=['lat','lon'])"
   ]
  },
  {
   "cell_type": "code",
   "execution_count": 12,
   "id": "27eca904-a804-467d-9673-1808bc11f4c7",
   "metadata": {},
   "outputs": [],
   "source": [
    "wheat_pchange = (wheat570_mean - wheat370_mean) / (wheat370_mean)\n",
    "wheat_pchange = wheat_pchange * 100\n",
    "\n",
    "rice_pchange_std = np.std(wheat_pchange)\n",
    "\n",
    "rice_pchange_mean = wheat_pchange.mean()"
   ]
  },
  {
   "cell_type": "code",
   "execution_count": 13,
   "id": "a226c34b-6d91-4657-9a68-efd38d83cf29",
   "metadata": {},
   "outputs": [
    {
     "data": {
      "text/plain": [
       "<xarray.DataArray 'yield' ()>\n",
       "array(2.116276)\n",
       "Coordinates:\n",
       "    crops    float64 3.0"
      ]
     },
     "execution_count": 13,
     "metadata": {},
     "output_type": "execute_result"
    }
   ],
   "source": [
    "rice_pchange_std"
   ]
  },
  {
   "cell_type": "code",
   "execution_count": 14,
   "id": "dc9beb92-f881-4804-af4d-022705bceb25",
   "metadata": {},
   "outputs": [
    {
     "data": {
      "text/plain": [
       "<xarray.DataArray 'yield' ()>\n",
       "array(-30.08149)\n",
       "Coordinates:\n",
       "    crops    float64 3.0"
      ]
     },
     "execution_count": 14,
     "metadata": {},
     "output_type": "execute_result"
    }
   ],
   "source": [
    "rice_pchange_mean"
   ]
  },
  {
   "cell_type": "code",
   "execution_count": 15,
   "id": "c31f192c-c039-442c-817e-84b10ee21751",
   "metadata": {},
   "outputs": [
    {
     "name": "stderr",
     "output_type": "stream",
     "text": [
      "/glade/u/ssg/ch/usr/jupyterhub/envs/pangeo-2019.09.12/lib/python3.7/site-packages/xarray/core/nanops.py:160: RuntimeWarning: Mean of empty slice\n",
      "  return np.nanmean(a, axis=axis, dtype=dtype)\n"
     ]
    }
   ],
   "source": [
    "wheatarea = C370['area'].sel(crops=6)\n",
    "wheatarea = wheatarea.mean(dim='time')\n",
    "LatIndexer, LonIndexer = 'lat', 'lon'\n",
    "\n",
    "wheat_c370 = C370['yield'].sel(crops=6)\n",
    "#wheat_c370 = wheat_c370.where(wheatarea > 500)\n",
    "#wheat_c370 = wheat_c370.mean(dim='time')\n",
    "wheat_c370 = wheat_c370.loc[{LatIndexer: slice(25, 47),\n",
    "                      LonIndexer: slice(220, 300)}]\n",
    "#wheat_c370 = (wheat_c370 * wheatarea)\n",
    "#wheat_c370 = wheat_c370.sum(dim=['lat','lon'],skipna=True)\n",
    "\n",
    "wheat_n370 = N370['yield'].sel(crops=6)\n",
    "#wheat_n370 = wheat_n370.where(wheatarea > 500)\n",
    "#wheat_n370 = wheat_n370.mean(dim='time')\n",
    "wheat_n370 = wheat_n370.loc[{LatIndexer: slice(25, 47),\n",
    "                      LonIndexer: slice(220, 300)}]\n",
    "#wheat_n370 = (wheat_n370 * wheatarea)\n",
    "#wheat_n370 = wheat_n370.sum(dim=['lat','lon'],skipna=True)\n",
    "\n",
    "wheat_c570 = C570['yield'].sel(crops=6)\n",
    "#wheat_c570 = wheat_c570.where(wheatarea > 500)\n",
    "#wheat_c570 = wheat_c570.mean(dim='time')\n",
    "wheat_c570 = wheat_c570.loc[{LatIndexer: slice(25, 47),\n",
    "                      LonIndexer: slice(220, 300)}]\n",
    "#wheat_c570 = (wheat_c570 * wheatarea)\n",
    "#wheat_c570 = wheat_c570.sum(dim=['lat','lon'],skipna=True)\n",
    "\n",
    "wheat_n570 = N570['yield'].sel(crops=6)\n",
    "#wheat_n570 = wheat_n570.where(wheatarea > 500)\n",
    "#wheat_n570 = wheat_n570.mean(dim='time')\n",
    "wheat_n570 = wheat_n570.loc[{LatIndexer: slice(25, 47),\n",
    "                      LonIndexer: slice(220, 300)}]\n",
    "#wheat_n570 = (wheat_n570 * wheatarea)\n",
    "#wheat_n570 = wheat_n570.sum(dim=['lat','lon'],skipna=True)"
   ]
  },
  {
   "cell_type": "code",
   "execution_count": 16,
   "id": "e3115fac-f922-4e25-a011-9e0f05aa3c34",
   "metadata": {},
   "outputs": [],
   "source": [
    "wheat370 = np.divide(wheat_n370, wheat_c370, out=np.zeros_like(wheat_n370), where=wheat_c370!=0)\n",
    "#wheat370 = wheat370.where(wheat370.values > 0.001) \n",
    "#wheat370 = wheat370.where(wheat370.values < 0.02) \n",
    "\n",
    "wheat570 = np.divide(wheat_n570, wheat_c570, out=np.zeros_like(wheat_n570), where=wheat_c570!=0)\n",
    "#wheat570 = wheat570.where(wheat570.values > 0.001) \n",
    "#wheat570 = wheat570.where(wheat570.values < 0.02) "
   ]
  },
  {
   "cell_type": "code",
   "execution_count": 17,
   "id": "45335f26-0505-4f69-9801-3d70f97fcbf7",
   "metadata": {},
   "outputs": [
    {
     "name": "stderr",
     "output_type": "stream",
     "text": [
      "/glade/u/ssg/ch/usr/jupyterhub/envs/pangeo-2019.09.12/lib/python3.7/site-packages/xarray/core/nanops.py:160: RuntimeWarning: Mean of empty slice\n",
      "  return np.nanmean(a, axis=axis, dtype=dtype)\n"
     ]
    }
   ],
   "source": [
    "#wheat370_mean = masked_average(wheat370, dim=['lat','lon'], weights=wheatarea)\n",
    "wheat370_mean = wheat370.mean(dim=['lat','lon'])\n",
    "#wheat570_mean = masked_average(wheat570, dim=['lat','lon'], weights=wheatarea)\n",
    "wheat570_mean = wheat570.mean(dim=['lat','lon'])"
   ]
  },
  {
   "cell_type": "code",
   "execution_count": 18,
   "id": "4ccb3848-fb73-4a3d-9b82-1613bdab0616",
   "metadata": {},
   "outputs": [],
   "source": [
    "wheat_pchange = (wheat570_mean - wheat370_mean) / (wheat370_mean)\n",
    "wheat_pchange = wheat_pchange * 100\n",
    "\n",
    "soy_pchange_std = np.std(wheat_pchange)\n",
    "\n",
    "soy_pchange_mean = wheat_pchange.mean()"
   ]
  },
  {
   "cell_type": "code",
   "execution_count": 19,
   "id": "9f7fd110-1944-4217-b44a-d45992ae4e41",
   "metadata": {},
   "outputs": [
    {
     "data": {
      "text/plain": [
       "<xarray.DataArray 'yield' ()>\n",
       "array(1.269742)\n",
       "Coordinates:\n",
       "    crops    float64 6.0"
      ]
     },
     "execution_count": 19,
     "metadata": {},
     "output_type": "execute_result"
    }
   ],
   "source": [
    "soy_pchange_std"
   ]
  },
  {
   "cell_type": "code",
   "execution_count": 20,
   "id": "13bcab5d-8c6f-40c8-b262-14b34cc29e99",
   "metadata": {},
   "outputs": [
    {
     "data": {
      "text/plain": [
       "<xarray.DataArray 'yield' ()>\n",
       "array(1.824404)\n",
       "Coordinates:\n",
       "    crops    float64 6.0"
      ]
     },
     "execution_count": 20,
     "metadata": {},
     "output_type": "execute_result"
    }
   ],
   "source": [
    "soy_pchange_mean"
   ]
  },
  {
   "cell_type": "code",
   "execution_count": 21,
   "id": "6f1a8957-4f68-43d6-bbca-ec71a46606ff",
   "metadata": {},
   "outputs": [
    {
     "name": "stderr",
     "output_type": "stream",
     "text": [
      "/glade/u/ssg/ch/usr/jupyterhub/envs/pangeo-2019.09.12/lib/python3.7/site-packages/xarray/core/nanops.py:160: RuntimeWarning: Mean of empty slice\n",
      "  return np.nanmean(a, axis=axis, dtype=dtype)\n"
     ]
    }
   ],
   "source": [
    "wheatarea = C370['area'].sel(crops=0)\n",
    "wheatarea = wheatarea.mean(dim='time')\n",
    "LatIndexer, LonIndexer = 'lat', 'lon'\n",
    "\n",
    "wheat_c370 = C370['yield'].sel(crops=0)\n",
    "#wheat_c370 = wheat_c370.where(wheatarea > 500)\n",
    "#wheat_c370 = wheat_c370.mean(dim='time')\n",
    "wheat_c370 = wheat_c370.loc[{LatIndexer: slice(25, 47),\n",
    "                      LonIndexer: slice(220, 300)}]\n",
    "#wheat_c370 = (wheat_c370 * wheatarea)\n",
    "#wheat_c370 = wheat_c370.sum(dim=['lat','lon'],skipna=True)\n",
    "\n",
    "wheat_n370 = N370['yield'].sel(crops=0)\n",
    "#wheat_n370 = wheat_n370.where(wheatarea > 500)\n",
    "#wheat_n370 = wheat_n370.mean(dim='time')\n",
    "wheat_n370 = wheat_n370.loc[{LatIndexer: slice(25, 47),\n",
    "                      LonIndexer: slice(220, 300)}]\n",
    "#wheat_n370 = (wheat_n370 * wheatarea)\n",
    "#wheat_n370 = wheat_n370.sum(dim=['lat','lon'],skipna=True)\n",
    "\n",
    "wheat_c570 = C570['yield'].sel(crops=0)\n",
    "#wheat_c570 = wheat_c570.where(wheatarea > 500)\n",
    "#wheat_c570 = wheat_c570.mean(dim='time')\n",
    "wheat_c570 = wheat_c570.loc[{LatIndexer: slice(25, 47),\n",
    "                      LonIndexer: slice(220, 300)}]\n",
    "#wheat_c570 = (wheat_c570 * wheatarea)\n",
    "#wheat_c570 = wheat_c570.sum(dim=['lat','lon'],skipna=True)\n",
    "\n",
    "wheat_n570 = N570['yield'].sel(crops=0)\n",
    "#wheat_n570 = wheat_n570.where(wheatarea > 500)\n",
    "#wheat_n570 = wheat_n570.mean(dim='time')\n",
    "wheat_n570 = wheat_n570.loc[{LatIndexer: slice(25, 47),\n",
    "                      LonIndexer: slice(220, 300)}]\n",
    "#wheat_n570 = (wheat_n570 * wheatarea)\n",
    "#wheat_n570 = wheat_n570.sum(dim=['lat','lon'],skipna=True)"
   ]
  },
  {
   "cell_type": "code",
   "execution_count": 22,
   "id": "b62689ef-b966-47a3-a682-5ae114da4aa5",
   "metadata": {},
   "outputs": [],
   "source": [
    "wheat370 = np.divide(wheat_n370, wheat_c370, out=np.zeros_like(wheat_n370), where=wheat_c370!=0)\n",
    "#wheat370 = wheat370.where(wheat370.values > 0.001) \n",
    "#wheat370 = wheat370.where(wheat370.values < 0.02) \n",
    "\n",
    "wheat570 = np.divide(wheat_n570, wheat_c570, out=np.zeros_like(wheat_n570), where=wheat_c570!=0)\n",
    "#wheat570 = wheat570.where(wheat570.values > 0.001) \n",
    "#wheat570 = wheat570.where(wheat570.values < 0.02) "
   ]
  },
  {
   "cell_type": "code",
   "execution_count": 23,
   "id": "77de830e-f2a0-4530-a425-dc7c8fb8619c",
   "metadata": {},
   "outputs": [
    {
     "name": "stderr",
     "output_type": "stream",
     "text": [
      "/glade/u/ssg/ch/usr/jupyterhub/envs/pangeo-2019.09.12/lib/python3.7/site-packages/xarray/core/nanops.py:160: RuntimeWarning: Mean of empty slice\n",
      "  return np.nanmean(a, axis=axis, dtype=dtype)\n"
     ]
    }
   ],
   "source": [
    "#wheat370_mean = masked_average(wheat370, dim=['lat','lon'], weights=wheatarea)\n",
    "wheat370_mean = wheat370.mean(dim=['lat','lon'])\n",
    "#wheat570_mean = masked_average(wheat570, dim=['lat','lon'], weights=wheatarea)\n",
    "wheat570_mean = wheat570.mean(dim=['lat','lon'])"
   ]
  },
  {
   "cell_type": "code",
   "execution_count": 24,
   "id": "0a81fa08-d981-43e8-bde3-f6c0f83b4054",
   "metadata": {},
   "outputs": [],
   "source": [
    "wheat_pchange = (wheat570_mean - wheat370_mean) / (wheat370_mean)\n",
    "wheat_pchange = wheat_pchange * 100\n",
    "\n",
    "maize_pchange_std = np.std(wheat_pchange)\n",
    "\n",
    "maize_pchange_mean = wheat_pchange.mean()"
   ]
  },
  {
   "cell_type": "code",
   "execution_count": 25,
   "id": "32f1444c-108c-42d0-8e14-215b04682bbf",
   "metadata": {},
   "outputs": [
    {
     "data": {
      "text/plain": [
       "<xarray.DataArray 'yield' ()>\n",
       "array(0.92692)\n",
       "Coordinates:\n",
       "    crops    float64 0.0"
      ]
     },
     "execution_count": 25,
     "metadata": {},
     "output_type": "execute_result"
    }
   ],
   "source": [
    "maize_pchange_std"
   ]
  },
  {
   "cell_type": "code",
   "execution_count": 26,
   "id": "176350c1-60c7-4c58-a19f-f11153b71b1c",
   "metadata": {},
   "outputs": [
    {
     "data": {
      "text/plain": [
       "<xarray.DataArray 'yield' ()>\n",
       "array(1.755935)\n",
       "Coordinates:\n",
       "    crops    float64 0.0"
      ]
     },
     "execution_count": 26,
     "metadata": {},
     "output_type": "execute_result"
    }
   ],
   "source": [
    "maize_pchange_mean"
   ]
  },
  {
   "cell_type": "code",
   "execution_count": 27,
   "id": "f93a6786-31d4-4d70-b192-3738b12d6d64",
   "metadata": {},
   "outputs": [],
   "source": [
    "df_myers = pd.DataFrame({\"id\":[\"Wheat\", \"Rice\", \"Soybean\", \"Maize\"], \n",
    "                   \"mean\":[-11.5,-13.5,-4.5,-9.3]}) "
   ]
  },
  {
   "cell_type": "code",
   "execution_count": 28,
   "id": "5e26f1dc-c64f-42c3-a4fe-2ec7e099df0d",
   "metadata": {},
   "outputs": [],
   "source": [
    "df = pd.DataFrame({\"id\":[\"Wheat\", \"Rice\", \"Soybean\", \"Maize\"], \n",
    "                   \"mean\":[wheat_pchange_mean,rice_pchange_mean,soy_pchange_mean,maize_pchange_mean], \n",
    "                   \"sd\":[3.05,2.12,1.27,0.93]})"
   ]
  },
  {
   "cell_type": "code",
   "execution_count": 29,
   "id": "b34173fd-619a-454d-8dac-df44c2a35f25",
   "metadata": {},
   "outputs": [],
   "source": [
    "N = 4\n",
    "ind = np.arange(N)\n",
    "barWidth = 0.2"
   ]
  },
  {
   "cell_type": "code",
   "execution_count": 30,
   "id": "83b01569-635e-435d-9eef-80cc85e41205",
   "metadata": {},
   "outputs": [],
   "source": [
    "clm = [wheat_pchange_mean, rice_pchange_mean, soy_pchange_mean, maize_pchange_mean]\n",
    "myers = [-6.7, -8.5, 0.6, -4.5]"
   ]
  },
  {
   "cell_type": "code",
   "execution_count": 31,
   "id": "4d7db13f-8df6-417e-9d0a-05b39d9609d0",
   "metadata": {},
   "outputs": [],
   "source": [
    "myers_min = np.array([-15.7, -18, -3.9, -18.5])\n",
    "myers_max = np.array([0.3, -0.1, 4.2, 11.1])"
   ]
  },
  {
   "cell_type": "code",
   "execution_count": 32,
   "id": "a6a345b5-476b-4532-89ad-f0c5cb4a0db4",
   "metadata": {},
   "outputs": [],
   "source": [
    "myers_min = myers - myers_min\n",
    "myers_max = myers_max - myers"
   ]
  },
  {
   "cell_type": "code",
   "execution_count": 35,
   "id": "82a387f3-3b58-4400-ab42-e92f9095f806",
   "metadata": {},
   "outputs": [
    {
     "data": {
      "image/png": "[encoded data removed]",
      "text/plain": [
       "<Figure size 432x216 with 1 Axes>"
      ]
     },
     "metadata": {
      "needs_background": "light"
     },
     "output_type": "display_data"
    }
   ],
   "source": [
    "fig = plt.subplots(figsize =(6, 3))\n",
    "#plt.grid(linewidth=0.6, zorder=0)\n",
    "plt.scatter(ind, clm, color ='black',\n",
    "        edgecolor ='grey', linewidth=0.6, label ='CLM5crop', zorder=2)\n",
    "plt.errorbar(np.arange(len(df['id'])), clm, yerr=df['sd'],fmt='o',ecolor='black',elinewidth=1,barsabove=False, markersize=3,ls='None',markerfacecolor='black',markeredgecolor='black', capsize=3, marker='o')\n",
    "plt.scatter(ind + barWidth, myers, color ='red',\n",
    "        edgecolor ='grey', linewidth=0.6, label ='Myers et al. (2014)', zorder=2)\n",
    "plt.errorbar(ind + barWidth, myers, yerr=(myers_min, myers_max),fmt='o',ecolor='red',elinewidth=1,barsabove=False, markersize=3,ls='None',markerfacecolor='red',markeredgecolor='red', capsize=3, marker='o')\n",
    "plt.xticks(ind + barWidth / 2, ('Wheat', 'Rice', 'Soybean', 'Maize'),fontsize=9)\n",
    "plt.axhline(y=0, color='k', linestyle='-',linewidth=0.5)\n",
    "plt.ylabel(\"Protein change (%)\",size=8)\n",
    "plt.legend(loc=\"lower right\", ncol=2, prop={'size': 8})\n",
    "plt.title(\"Percent change in protein at elevated [570 ppm] relative to ambient [370 ppm] CO$_\\mathrm{2}$\",fontsize=8)\n",
    "plt.savefig(savedir+'/Nature_ED3.pdf', dpi = 600, bbox_inches = 'tight', pad_inches = 0.05 )"
   ]
  },
  {
   "cell_type": "code",
   "execution_count": null,
   "id": "8dd33d49-7aff-4ea5-a9b6-d3f6ef50098c",
   "metadata": {},
   "outputs": [],
   "source": []
  },
  {
   "cell_type": "code",
   "execution_count": null,
   "id": "614c4157-63a7-44a2-970c-bc7a30893c90",
   "metadata": {},
   "outputs": [],
   "source": []
  }
 ],
 "metadata": {
  "kernelspec": {
   "display_name": "Pangeo (2019.09.12 - py3.7)",
   "language": "python",
   "name": "pangeo-2019.09.12"
  },
  "language_info": {
   "codemirror_mode": {
    "name": "ipython",
    "version": 3
   },
   "file_extension": ".py",
   "mimetype": "text/x-python",
   "name": "python",
   "nbconvert_exporter": "python",
   "pygments_lexer": "ipython3",
   "version": "3.7.3"
  }
 },
 "nbformat": 4,
 "nbformat_minor": 5
}
