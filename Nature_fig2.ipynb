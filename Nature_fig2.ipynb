{
 "cells": [
  {
   "cell_type": "code",
   "execution_count": 41,
   "id": "bd075984-d2cb-4c64-82c7-98777a77a182",
   "metadata": {},
   "outputs": [],
   "source": [
    "import pandas as pd\n",
    "import plotly as py\n",
    "import numpy as np\n",
    "from plotly.offline import download_plotlyjs,init_notebook_mode,plot,iplot\n",
    "import plotly.graph_objs as go\n",
    "from plotly.subplots import make_subplots\n",
    "import plotly.express as px"
   ]
  },
  {
   "cell_type": "code",
   "execution_count": 42,
   "id": "b5308f67-c083-45d9-b4ac-1f01218252fd",
   "metadata": {},
   "outputs": [],
   "source": [
    "def generateDiscreteColourScale(colour_set):\n",
    "    #colour set is a list of lists\n",
    "    colour_output = []\n",
    "    num_colours = len(colour_set)\n",
    "    divisions = 1./num_colours\n",
    "    c_index = 0.\n",
    "    # Loop over the colour set\n",
    "    for cset in colour_set:\n",
    "        num_subs = len(cset)\n",
    "        sub_divisions = divisions/num_subs\n",
    "        # Loop over the sub colours in this set\n",
    "        for subcset in cset:\n",
    "            colour_output.append((c_index,subcset))\n",
    "            colour_output.append((c_index + sub_divisions-\n",
    "                .001,subcset))\n",
    "            c_index = c_index + sub_divisions\n",
    "    colour_output[-1]=(1,colour_output[-1][1])\n",
    "    return colour_output"
   ]
  },
  {
   "cell_type": "code",
   "execution_count": 43,
   "id": "be097362-84b7-4af9-856c-2e86923116ff",
   "metadata": {},
   "outputs": [],
   "source": [
    "savedir = '/glade/campaign/univ/urtg0006/Brendan/GGCMI_model_comp_figs/protein'"
   ]
  },
  {
   "cell_type": "code",
   "execution_count": 44,
   "id": "d1af33db-78fa-4b0f-b760-3318707bb159",
   "metadata": {},
   "outputs": [],
   "source": [
    "maize = pd.read_excel(savedir + '/maize_clm_pchange_filter.xlsx', usecols=\"A,B\")\n",
    "maize_top = pd.read_excel(savedir + '/maize_clm_pchange_filter.xlsx', usecols=\"E,F\")\n",
    "rice = pd.read_excel(savedir + '/rice_clm_pchange_filter.xlsx', usecols=\"A,B\")\n",
    "rice_top = pd.read_excel(savedir + '/rice_clm_pchange_filter.xlsx', usecols=\"E,F\")\n",
    "soy = pd.read_excel(savedir + '/soy_clm_pchange_filter.xlsx', usecols=\"A,B\")\n",
    "soy_top = pd.read_excel(savedir + '/soy_clm_pchange_filter.xlsx', usecols=\"E,F\")\n",
    "wheat = pd.read_excel(savedir + '/wheat_clm_pchange_filter.xlsx', usecols=\"A,B\")\n",
    "wheat_top = pd.read_excel(savedir + '/wheat_clm_pchange_filter.xlsx', usecols=\"E,F\")"
   ]
  },
  {
   "cell_type": "code",
   "execution_count": 45,
   "id": "f8776103-43f9-45f5-af2c-f774cbd5d67e",
   "metadata": {},
   "outputs": [],
   "source": [
    "color_schemes = [\n",
    "    ['#a50026','#d73027','#f46d43','#fdae61','#fee08b','#ffffbf','#ffffbf','#d9ef8b','#a6d96a','#66bd63','#1a9850','#006837']]\n",
    "cscale = generateDiscreteColourScale(color_schemes)"
   ]
  },
  {
   "cell_type": "code",
   "execution_count": 46,
   "id": "1d47beb8-5b8a-42e2-9f91-42304d81d062",
   "metadata": {},
   "outputs": [
    {
     "data": {
      "application/vnd.plotly.v1+json": {
       "config": {
        "plotlyServerURL": "https://plot.ly"
       },
       "data": [
        {
         "colorbar": {
          "len": 0.3,
          "orientation": "h",
          "thickness": 10,
          "title": {
           "font": {
            "size": 12
           },
           "side": "bottom",
           "text": "Change (%)"
          },
          "x": 0.5,
          "y": -0.2
         },
         "colorscale": [
          [
           0,
           "#a50026"
          ],
          [
           0.08233333333333333,
           "#a50026"
          ],
          [
           0.08333333333333333,
           "#d73027"
          ],
          [
           0.16566666666666666,
           "#d73027"
          ],
          [
           0.16666666666666666,
           "#f46d43"
          ],
          [
           0.249,
           "#f46d43"
          ],
          [
           0.25,
           "#fdae61"
          ],
          [
           0.3323333333333333,
           "#fdae61"
          ],
          [
           0.3333333333333333,
           "#fee08b"
          ],
          [
           0.41566666666666663,
           "#fee08b"
          ],
          [
           0.41666666666666663,
           "#ffffbf"
          ],
          [
           0.49899999999999994,
           "#ffffbf"
          ],
          [
           0.49999999999999994,
           "#ffffbf"
          ],
          [
           0.5823333333333333,
           "#ffffbf"
          ],
          [
           0.5833333333333333,
           "#d9ef8b"
          ],
          [
           0.6656666666666666,
           "#d9ef8b"
          ],
          [
           0.6666666666666666,
           "#a6d96a"
          ],
          [
           0.749,
           "#a6d96a"
          ],
          [
           0.75,
           "#66bd63"
          ],
          [
           0.8323333333333334,
           "#66bd63"
          ],
          [
           0.8333333333333334,
           "#1a9850"
          ],
          [
           0.9156666666666667,
           "#1a9850"
          ],
          [
           0.9166666666666667,
           "#006837"
          ],
          [
           1,
           "#006837"
          ]
         ],
         "geo": "geo",
         "locationmode": "country names",
         "locations": [
          "Afganistan",
          "Albania",
          "Algeria",
          "American Samoa",
          "Angola",
          "Antigua and Barbuda",
          "Argentina",
          "Armenia",
          "Aruba",
          "Australia",
          "Austria",
          "Azerbaijan",
          "Bahamas",
          "Bahrain",
          "Bangladesh",
          "Barbados",
          "Belarus",
          "Belgium",
          "Belize",
          "Benin",
          "Bermuda",
          "Bhutan",
          "Bolivia",
          "Bonaire, Saint Eustatius and Saba",
          "Bosnia and Herzegovina",
          "Botswana",
          "Bouvet Island",
          "Brazil",
          "British Indian Ocean Territory",
          "British Virgin Islands",
          "Brunei",
          "Bulgaria",
          "Burkina Faso",
          "Burundi",
          "Cambodia",
          "Cameroon",
          "Canada",
          "Cape Verde",
          "Caspian Sea",
          "Cayman Islands",
          "Central African Republic",
          "Chad",
          "Chile",
          "China",
          "Christmas Island",
          "Cocos Islands",
          "Colombia",
          "Comoros",
          "Cook Islands",
          "Costa Rica",
          "Côte d'Ivoire",
          "Croatia",
          "Cuba",
          "Curaçao",
          "Cyprus",
          "Czech Republic",
          "Democratic Republic of the Congo",
          "Denmark",
          "Djibouti",
          "Dominica",
          "Dominican Republic",
          "East Timor",
          "Ecuador",
          "Egypt",
          "El Salvador",
          "Equatorial Guinea",
          "Eritrea",
          "Estonia",
          "Ethiopia",
          "Falkland Islands",
          "Faroe Islands",
          "Fiji",
          "Finland",
          "France",
          "French Guiana",
          "French Polynesia",
          "French Southern Territories",
          "Gabon",
          "Gambia",
          "Georgia",
          "Germany",
          "Ghana",
          "Greece",
          "Grenada",
          "Guadeloupe",
          "Guam",
          "Guatemala",
          "Guernsey",
          "Guinea",
          "Guinea-Bissau",
          "Guyana",
          "Haiti",
          "Heard Island and McDonald Islands",
          "Honduras",
          "Hong Kong",
          "Hungary",
          "Iceland",
          "India",
          "Indonesia",
          "Iran",
          "Iraq",
          "Ireland",
          "Isle of Man",
          "Israel",
          "Italy",
          "Jamaica",
          "Japan",
          "Jersey",
          "Jordan",
          "Kazakhstan",
          "Kenya",
          "Kiribati",
          "Kosovo",
          "Kuwait",
          "Kyrgyzstan",
          "Laos",
          "Latvia",
          "Lebanon",
          "Lesotho",
          "Liberia",
          "Libya",
          "Lithuania",
          "Luxembourg",
          "Macedonia",
          "Madagascar",
          "Malawi",
          "Malaysia",
          "Maldives",
          "Mali",
          "Malta",
          "Marshall Islands",
          "Martinique",
          "Mauritania",
          "Mauritius",
          "Mayotte",
          "Mexico",
          "Micronesia",
          "Moldova",
          "Mongolia",
          "Montenegro",
          "Montserrat",
          "Morocco",
          "Mozambique",
          "Myanmar",
          "Namibia",
          "Nauru",
          "Nepal",
          "Netherlands",
          "New Caledonia",
          "New Zealand",
          "Nicaragua",
          "Niger",
          "Nigeria",
          "Niue",
          "Norfolk Island",
          "North Korea",
          "Northern Mariana Islands",
          "Norway",
          "Oman",
          "Pakistan",
          "Palau",
          "Palestina",
          "Panama",
          "Papua New Guinea",
          "Paraguay",
          "Peru",
          "Philippines",
          "Pitcairn Islands",
          "Poland",
          "Portugal",
          "Puerto Rico",
          "Qatar",
          "Republic of Congo",
          "Reunion",
          "Romania",
          "Russia",
          "Rwanda",
          "Saint Helena",
          "Saint Kitts and Nevis",
          "Saint Lucia",
          "Saint Pierre and Miquelon",
          "Saint Vincent and the Grenadines",
          "Saint-Martin",
          "Samoa",
          "Sao Tome and Principe",
          "Saudi Arabia",
          "Senegal",
          "Serbia",
          "Seychelles",
          "Sierra Leone",
          "Singapore",
          "Slovakia",
          "Slovenia",
          "Solomon Islands",
          "Somalia",
          "South Africa",
          "South Georgia and the South Sandwich Islands",
          "South Korea",
          "South Sudan",
          "Spain",
          "Sri Lanka",
          "Sudan",
          "Suriname",
          "Svalbard and Jan Mayen",
          "Swaziland",
          "Sweden",
          "Switzerland",
          "Syria",
          "Taiwan",
          "Tajikistan",
          "Tanzania",
          "Thailand",
          "Togo",
          "Tonga",
          "Trinidad and Tobago",
          "Tunisia",
          "Turkey",
          "Turkmenistan",
          "Turks and Caicos Islands",
          "Tuvalu",
          "Uganda",
          "Ukraine",
          "United Arab Emirates",
          "United Kingdom",
          "United States",
          "United States Minor Outlying Islands",
          "Uruguay",
          "Uzbekistan",
          "Vanuatu",
          "Venezuela",
          "Vietnam",
          "Virgin Islands, U.S.",
          "Wallis and Futuna",
          "Western Sahara",
          "Yemen",
          "Zambia",
          "Zimbabwe"
         ],
         "type": "choropleth",
         "z": [
          null,
          -7.457231384607548,
          -3.728984629108134,
          null,
          -14.04326555117134,
          null,
          -13.54973941721466,
          -17.86708418007115,
          null,
          -2.465117523220941,
          -0.08949029444857892,
          1.123138983827755,
          -2.933919141743704,
          null,
          0.2780128225044799,
          null,
          23.75420715244385,
          1.064399897161147,
          -1.71296321657626,
          -14.75418762727624,
          null,
          -4.953173674478134,
          -22.76240385365372,
          null,
          59.46546814239032,
          -6.628969328821004,
          null,
          -13.55273428197597,
          null,
          null,
          -7.718640393971862,
          8.133116034098677,
          -27.40205710766536,
          -1.672719858963209,
          -2.030765347461341,
          -12.21182464852959,
          -2.353987890897118,
          null,
          2.134927432470164,
          null,
          -16.37290563660902,
          -16.18032106412372,
          -17.14620449888423,
          -0.08371551374252964,
          null,
          null,
          0.602459939490154,
          null,
          null,
          -9.181734326748385,
          -28.76409903085114,
          -16.94376631605382,
          -35.77289063634666,
          null,
          16.61590273271376,
          0.2478242533075144,
          -11.17717385284782,
          4.075028221051713,
          -12.66040756207961,
          null,
          -6.047894147326677,
          -5.560970261496569,
          -2.422682120836226,
          6.706524748350938,
          0.2786401350259999,
          -9.270444297423206,
          -6.263876310992876,
          0.50535489721023,
          -8.08184089831142,
          null,
          3.36755843524223,
          -4.479223266209959,
          4.816794336099896,
          -0.3621645274554993,
          7.908270721403383,
          null,
          null,
          -2.43305835516457,
          -47.9324797338018,
          -0.4040071719853978,
          1.963937495660257,
          -26.44147250469792,
          4.994912150671158,
          null,
          null,
          null,
          -4.539607086029597,
          null,
          -6.374489770931912,
          -19.86258108141885,
          -4.893172362426681,
          8.040977659526941,
          null,
          0.2945231103414825,
          null,
          -20.78548721723733,
          36.27195422555663,
          1.204465344342527,
          -1.915870305002942,
          2.896869125373366,
          -0.9075918736050295,
          7.292856332981979,
          null,
          10.8090872986733,
          -0.1834872836016178,
          -16.46163341091091,
          1.045248163013043,
          null,
          4.199930480581095,
          -9.169827128858064,
          -12.8925698287064,
          null,
          11.6673590099492,
          5.806419743533339,
          0.1527639209683096,
          -14.5823449549891,
          2.061247423323299,
          -6.534634823760681,
          0.904840906926022,
          8.720385830004886,
          0.02643120504274837,
          13.0723600869755,
          -0.08648638132517744,
          -15.66702542567111,
          -12.06974317379621,
          -17.48995234191781,
          -8.264385589630889,
          null,
          -15.15044146405284,
          null,
          null,
          -12.43482264011243,
          -0.4925791352204638,
          null,
          null,
          -2.688820038589699,
          null,
          -51.17951423777719,
          -3.156629899980564,
          -8.151460360502393,
          null,
          -1.192585691923022,
          -19.42785678656777,
          -1.819439959871323,
          -11.62645188471211,
          null,
          2.493716791044839,
          5.483518181304264,
          1.089675246337112,
          -2.931207430740696,
          -0.597164070198317,
          -24.40141883509053,
          -16.18647834298118,
          null,
          null,
          2.98584705229493,
          null,
          15.60912101017773,
          0.2364949142718955,
          2.115007793526452,
          null,
          37.73157066394006,
          -4.724836155962314,
          -5.046301893408071,
          -27.50077980304868,
          -4.065155062149779,
          -9.759746348714899,
          null,
          2.568396766941011,
          1.048752651827729,
          0.6585534696232218,
          2.435927370768996,
          -5.658201439590931,
          -17.91435115432742,
          -6.152595516689764,
          13.39773659663165,
          -2.246316087449501,
          null,
          null,
          null,
          null,
          null,
          null,
          null,
          null,
          -4.483529315153108,
          -21.59078101038881,
          -19.42449838981576,
          null,
          -6.397056842298731,
          -1.961078901017908,
          2.434179393689506,
          6.595979712300976,
          3.630044155146761,
          -6.028410181453732,
          -7.997402864865363,
          null,
          1.530286436422297,
          -19.17885281423905,
          0.8024255230812363,
          -5.045580651363272,
          -11.86722886878327,
          -1.195158784594973,
          null,
          9.721109461329466,
          2.21506573693473,
          -2.787578096922378,
          4.862267886893675,
          0.2631884243815691,
          -1.947959538076368,
          -5.50388632780522,
          0.1571712932011389,
          -17.82590052007872,
          null,
          0.1981967535440584,
          3.172886454907116,
          3.824025294970398,
          -9.563917492400913,
          null,
          null,
          -8.677931662592046,
          -0.1150268208966576,
          -0.828028649115151,
          11.09540611558811,
          -1.755454001875759,
          null,
          17.0586948220307,
          -7.124546223913838,
          -0.2354795841747416,
          -7.171149018732891,
          -3.832984084029496,
          null,
          null,
          -14.41192976073702,
          -6.320263210876902,
          -24.86200368211964,
          -17.74120801733234
         ],
         "zmax": 20,
         "zmin": -20
        },
        {
         "colorbar": {
          "len": 0.3,
          "orientation": "h",
          "thickness": 10,
          "title": {
           "font": {
            "size": 12
           },
           "side": "bottom",
           "text": "Change (%)"
          },
          "x": 0.5,
          "y": -0.2
         },
         "colorscale": [
          [
           0,
           "#a50026"
          ],
          [
           0.08233333333333333,
           "#a50026"
          ],
          [
           0.08333333333333333,
           "#d73027"
          ],
          [
           0.16566666666666666,
           "#d73027"
          ],
          [
           0.16666666666666666,
           "#f46d43"
          ],
          [
           0.249,
           "#f46d43"
          ],
          [
           0.25,
           "#fdae61"
          ],
          [
           0.3323333333333333,
           "#fdae61"
          ],
          [
           0.3333333333333333,
           "#fee08b"
          ],
          [
           0.41566666666666663,
           "#fee08b"
          ],
          [
           0.41666666666666663,
           "#ffffbf"
          ],
          [
           0.49899999999999994,
           "#ffffbf"
          ],
          [
           0.49999999999999994,
           "#ffffbf"
          ],
          [
           0.5823333333333333,
           "#ffffbf"
          ],
          [
           0.5833333333333333,
           "#d9ef8b"
          ],
          [
           0.6656666666666666,
           "#d9ef8b"
          ],
          [
           0.6666666666666666,
           "#a6d96a"
          ],
          [
           0.749,
           "#a6d96a"
          ],
          [
           0.75,
           "#66bd63"
          ],
          [
           0.8323333333333334,
           "#66bd63"
          ],
          [
           0.8333333333333334,
           "#1a9850"
          ],
          [
           0.9156666666666667,
           "#1a9850"
          ],
          [
           0.9166666666666667,
           "#006837"
          ],
          [
           1,
           "#006837"
          ]
         ],
         "geo": "geo2",
         "locationmode": "country names",
         "locations": [
          "Afganistan",
          "Albania",
          "Algeria",
          "American Samoa",
          "Angola",
          "Antigua and Barbuda",
          "Argentina",
          "Armenia",
          "Aruba",
          "Australia",
          "Austria",
          "Azerbaijan",
          "Bahamas",
          "Bahrain",
          "Bangladesh",
          "Barbados",
          "Belarus",
          "Belgium",
          "Belize",
          "Benin",
          "Bermuda",
          "Bhutan",
          "Bolivia",
          "Bonaire, Saint Eustatius and Saba",
          "Bosnia and Herzegovina",
          "Botswana",
          "Bouvet Island",
          "Brazil",
          "British Indian Ocean Territory",
          "British Virgin Islands",
          "Brunei",
          "Bulgaria",
          "Burkina Faso",
          "Burundi",
          "Cambodia",
          "Cameroon",
          "Canada",
          "Cape Verde",
          "Caspian Sea",
          "Cayman Islands",
          "Central African Republic",
          "Chad",
          "Chile",
          "China",
          "Christmas Island",
          "Cocos Islands",
          "Colombia",
          "Comoros",
          "Cook Islands",
          "Costa Rica",
          "Côte d'Ivoire",
          "Croatia",
          "Cuba",
          "Curaçao",
          "Cyprus",
          "Czech Republic",
          "Democratic Republic of the Congo",
          "Denmark",
          "Djibouti",
          "Dominica",
          "Dominican Republic",
          "East Timor",
          "Ecuador",
          "Egypt",
          "El Salvador",
          "Equatorial Guinea",
          "Eritrea",
          "Estonia",
          "Ethiopia",
          "Falkland Islands",
          "Faroe Islands",
          "Fiji",
          "Finland",
          "France",
          "French Guiana",
          "French Polynesia",
          "French Southern Territories",
          "Gabon",
          "Gambia",
          "Georgia",
          "Germany",
          "Ghana",
          "Greece",
          "Grenada",
          "Guadeloupe",
          "Guam",
          "Guatemala",
          "Guernsey",
          "Guinea",
          "Guinea-Bissau",
          "Guyana",
          "Haiti",
          "Heard Island and McDonald Islands",
          "Honduras",
          "Hong Kong",
          "Hungary",
          "Iceland",
          "India",
          "Indonesia",
          "Iran",
          "Iraq",
          "Ireland",
          "Isle of Man",
          "Israel",
          "Italy",
          "Jamaica",
          "Japan",
          "Jersey",
          "Jordan",
          "Kazakhstan",
          "Kenya",
          "Kiribati",
          "Kosovo",
          "Kuwait",
          "Kyrgyzstan",
          "Laos",
          "Latvia",
          "Lebanon",
          "Lesotho",
          "Liberia",
          "Libya",
          "Lithuania",
          "Luxembourg",
          "Macedonia",
          "Madagascar",
          "Malawi",
          "Malaysia",
          "Maldives",
          "Mali",
          "Malta",
          "Marshall Islands",
          "Martinique",
          "Mauritania",
          "Mauritius",
          "Mayotte",
          "Mexico",
          "Micronesia",
          "Moldova",
          "Mongolia",
          "Montenegro",
          "Montserrat",
          "Morocco",
          "Mozambique",
          "Myanmar",
          "Namibia",
          "Nauru",
          "Nepal",
          "Netherlands",
          "New Caledonia",
          "New Zealand",
          "Nicaragua",
          "Niger",
          "Nigeria",
          "Niue",
          "Norfolk Island",
          "North Korea",
          "Northern Mariana Islands",
          "Norway",
          "Oman",
          "Pakistan",
          "Palau",
          "Palestina",
          "Panama",
          "Papua New Guinea",
          "Paraguay",
          "Peru",
          "Philippines",
          "Pitcairn Islands",
          "Poland",
          "Portugal",
          "Puerto Rico",
          "Qatar",
          "Republic of Congo",
          "Reunion",
          "Romania",
          "Russia",
          "Rwanda",
          "Saint Helena",
          "Saint Kitts and Nevis",
          "Saint Lucia",
          "Saint Pierre and Miquelon",
          "Saint Vincent and the Grenadines",
          "Saint-Martin",
          "Samoa",
          "Sao Tome and Principe",
          "Saudi Arabia",
          "Senegal",
          "Serbia",
          "Seychelles",
          "Sierra Leone",
          "Singapore",
          "Slovakia",
          "Slovenia",
          "Solomon Islands",
          "Somalia",
          "South Africa",
          "South Georgia and the South Sandwich Islands",
          "South Korea",
          "South Sudan",
          "Spain",
          "Sri Lanka",
          "Sudan",
          "Suriname",
          "Svalbard and Jan Mayen",
          "Swaziland",
          "Sweden",
          "Switzerland",
          "Syria",
          "Taiwan",
          "Tajikistan",
          "Tanzania",
          "Thailand",
          "Togo",
          "Tonga",
          "Trinidad and Tobago",
          "Tunisia",
          "Turkey",
          "Turkmenistan",
          "Turks and Caicos Islands",
          "Tuvalu",
          "Uganda",
          "Ukraine",
          "United Arab Emirates",
          "United Kingdom",
          "United States",
          "United States Minor Outlying Islands",
          "Uruguay",
          "Uzbekistan",
          "Vanuatu",
          "Venezuela",
          "Vietnam",
          "Virgin Islands, U.S.",
          "Wallis and Futuna",
          "Western Sahara",
          "Yemen",
          "Zambia",
          "Zimbabwe"
         ],
         "type": "choropleth",
         "z": [
          null,
          -7.945450388808745,
          3.273138327867209,
          null,
          12.47898776373127,
          null,
          -14.3551017826077,
          -2.344701917989755,
          null,
          -7.087063115840992,
          0.1247031983917773,
          5.164779785202341,
          -5.714301261603438,
          null,
          -2.622072957980562,
          null,
          -14.69443749683817,
          4.210053133049345,
          -7.844109101519781,
          -8.798649481807432,
          null,
          0.8802864459366302,
          -18.15050234453742,
          null,
          -4.667833764763089,
          -1.481935231066981,
          null,
          -0.04416251912540309,
          null,
          null,
          5.221779616231168,
          -2.434718781744203,
          -7.217350958324989,
          12.32685902630247,
          14.78148890262464,
          1.130521809461622,
          -6.919334572931187,
          null,
          0.3703812411186324,
          null,
          -0.9268832041408591,
          -4.098654992071583,
          -1.003233877043644,
          -1.040766568349672,
          null,
          null,
          -3.798065742945796,
          null,
          null,
          -3.888569515272335,
          1.02572284854278,
          -2.562942297500027,
          -1.349283971546886,
          null,
          -2.925404965139647,
          15.9247313144839,
          12.10589393943325,
          22.23679539554899,
          -6.767865238609926,
          null,
          1.047174059929396,
          -2.754613742027009,
          -5.455525213592113,
          -7.104280101827916,
          -27.6625995696063,
          2.279542641237822,
          -5.025582400465481,
          25.09882553187221,
          -3.813173013642873,
          null,
          -17.51481461679014,
          -22.49072297894788,
          14.01167259779545,
          13.98282196603141,
          -24.58669576942288,
          null,
          null,
          5.597021161153301,
          9.405968604955913,
          -2.12882451570769,
          9.452573021382342,
          -8.547031786739666,
          -2.030874892453165,
          null,
          null,
          null,
          -10.5636891501845,
          null,
          -10.16295871161336,
          -8.274044435482802,
          -7.839819349138569,
          -8.647886171088194,
          null,
          -15.98697742007591,
          null,
          -18.75132343431724,
          9.314269327499828,
          -3.356813012279138,
          -8.881688772839212,
          -5.150547975308505,
          -0.4329647849611209,
          15.15407478374983,
          null,
          -1.557148152642989,
          -5.730661313449263,
          -34.03450927891049,
          -5.16626838505576,
          null,
          -9.500618362045511,
          1.152012943253764,
          -0.8439398129231575,
          null,
          -8.282165815236182,
          -3.177544574869547,
          2.64499935997181,
          6.676328464519385,
          21.43097449048239,
          -6.961961092553182,
          -7.525508670041757,
          7.836300146030751,
          -2.736380969475045,
          10.77369033920881,
          7.881392053793259,
          -10.40198378151474,
          -0.5899474844393761,
          -20.81644346028419,
          -13.05741041357558,
          null,
          -3.318896441705499,
          null,
          null,
          -1.178345671977296,
          -3.83759146340111,
          null,
          null,
          -5.957207636169629,
          null,
          -3.047612084581903,
          -3.20239499170654,
          -12.86487383061774,
          null,
          3.161224466663787,
          0.08410711722968263,
          -0.986285122235202,
          -1.534661437175135,
          null,
          0.3052266853959261,
          5.197044183950211,
          -16.65071398112163,
          4.031591837617954,
          10.48059275181652,
          -14.63051476899755,
          -3.142607726898783,
          null,
          null,
          -3.537679289988387,
          null,
          7.12839340312578,
          -11.08267282023551,
          1.688004981126829,
          null,
          -35.1800694320936,
          -8.74968996977227,
          -4.237220116285743,
          -28.53682683498046,
          -10.65104476787103,
          -10.68157942874701,
          null,
          -9.509386600441246,
          4.519621781075591,
          -0.8096809550877914,
          -2.68955570788005,
          5.197122961237783,
          -50.96589074056693,
          1.490206514455035,
          10.48279197428028,
          4.329225964366575,
          null,
          null,
          null,
          null,
          null,
          null,
          null,
          null,
          -8.343859397515763,
          -18.75388449494369,
          -9.298016200868696,
          null,
          -6.685041561530764,
          11.35704338256435,
          -0.5097075298721504,
          1.955205149533789,
          2.967637842810082,
          2.6462688701572,
          -4.907463565621402,
          null,
          -3.69518069471484,
          -8.243307222271852,
          -3.1979377975834,
          -7.227763808682425,
          -2.19193979974847,
          -6.431216181702117,
          null,
          -3.357492185933897,
          13.99800861601977,
          -3.749715421746971,
          -13.70793406577835,
          0.449997656685227,
          -1.461892985752919,
          -4.64348492394732,
          -12.00080828001197,
          -7.632919963639261,
          null,
          1.371348696985883,
          -0.5857450784123881,
          -6.626232402448958,
          -3.894468979173705,
          null,
          null,
          -5.127892993621578,
          11.34657308856285,
          -1.079787260983431,
          8.463311263375502,
          -5.749606187352184,
          null,
          -12.91722574698017,
          -3.084320769787079,
          4.716199809782003,
          -1.209910022446526,
          -3.704878858332096,
          null,
          null,
          -17.11021719082905,
          -8.737712113386273,
          2.344196568583567,
          -1.092222804159458
         ],
         "zmax": 20,
         "zmin": -20
        },
        {
         "colorbar": {
          "len": 0.3,
          "orientation": "h",
          "thickness": 10,
          "title": {
           "font": {
            "size": 12
           },
           "side": "bottom",
           "text": "Change (%)"
          },
          "x": 0.5,
          "y": -0.2
         },
         "colorscale": [
          [
           0,
           "#a50026"
          ],
          [
           0.08233333333333333,
           "#a50026"
          ],
          [
           0.08333333333333333,
           "#d73027"
          ],
          [
           0.16566666666666666,
           "#d73027"
          ],
          [
           0.16666666666666666,
           "#f46d43"
          ],
          [
           0.249,
           "#f46d43"
          ],
          [
           0.25,
           "#fdae61"
          ],
          [
           0.3323333333333333,
           "#fdae61"
          ],
          [
           0.3333333333333333,
           "#fee08b"
          ],
          [
           0.41566666666666663,
           "#fee08b"
          ],
          [
           0.41666666666666663,
           "#ffffbf"
          ],
          [
           0.49899999999999994,
           "#ffffbf"
          ],
          [
           0.49999999999999994,
           "#ffffbf"
          ],
          [
           0.5823333333333333,
           "#ffffbf"
          ],
          [
           0.5833333333333333,
           "#d9ef8b"
          ],
          [
           0.6656666666666666,
           "#d9ef8b"
          ],
          [
           0.6666666666666666,
           "#a6d96a"
          ],
          [
           0.749,
           "#a6d96a"
          ],
          [
           0.75,
           "#66bd63"
          ],
          [
           0.8323333333333334,
           "#66bd63"
          ],
          [
           0.8333333333333334,
           "#1a9850"
          ],
          [
           0.9156666666666667,
           "#1a9850"
          ],
          [
           0.9166666666666667,
           "#006837"
          ],
          [
           1,
           "#006837"
          ]
         ],
         "geo": "geo3",
         "locationmode": "country names",
         "locations": [
          "Afganistan",
          "Albania",
          "Algeria",
          "American Samoa",
          "Angola",
          "Antigua and Barbuda",
          "Argentina",
          "Armenia",
          "Aruba",
          "Australia",
          "Austria",
          "Azerbaijan",
          "Bahamas",
          "Bahrain",
          "Bangladesh",
          "Barbados",
          "Belarus",
          "Belgium",
          "Belize",
          "Benin",
          "Bermuda",
          "Bhutan",
          "Bolivia",
          "Bonaire, Saint Eustatius and Saba",
          "Bosnia and Herzegovina",
          "Botswana",
          "Bouvet Island",
          "Brazil",
          "British Indian Ocean Territory",
          "British Virgin Islands",
          "Brunei",
          "Bulgaria",
          "Burkina Faso",
          "Burundi",
          "Cambodia",
          "Cameroon",
          "Canada",
          "Cape Verde",
          "Caspian Sea",
          "Cayman Islands",
          "Central African Republic",
          "Chad",
          "Chile",
          "China",
          "Christmas Island",
          "Cocos Islands",
          "Colombia",
          "Comoros",
          "Cook Islands",
          "Costa Rica",
          "Côte d'Ivoire",
          "Croatia",
          "Cuba",
          "Curaçao",
          "Cyprus",
          "Czech Republic",
          "Democratic Republic of the Congo",
          "Denmark",
          "Djibouti",
          "Dominica",
          "Dominican Republic",
          "East Timor",
          "Ecuador",
          "Egypt",
          "El Salvador",
          "Equatorial Guinea",
          "Eritrea",
          "Estonia",
          "Ethiopia",
          "Falkland Islands",
          "Faroe Islands",
          "Fiji",
          "Finland",
          "France",
          "French Guiana",
          "French Polynesia",
          "French Southern Territories",
          "Gabon",
          "Gambia",
          "Georgia",
          "Germany",
          "Ghana",
          "Greece",
          "Grenada",
          "Guadeloupe",
          "Guam",
          "Guatemala",
          "Guernsey",
          "Guinea",
          "Guinea-Bissau",
          "Guyana",
          "Haiti",
          "Heard Island and McDonald Islands",
          "Honduras",
          "Hong Kong",
          "Hungary",
          "Iceland",
          "India",
          "Indonesia",
          "Iran",
          "Iraq",
          "Ireland",
          "Isle of Man",
          "Israel",
          "Italy",
          "Jamaica",
          "Japan",
          "Jersey",
          "Jordan",
          "Kazakhstan",
          "Kenya",
          "Kiribati",
          "Kosovo",
          "Kuwait",
          "Kyrgyzstan",
          "Laos",
          "Latvia",
          "Lebanon",
          "Lesotho",
          "Liberia",
          "Libya",
          "Lithuania",
          "Luxembourg",
          "Macedonia",
          "Madagascar",
          "Malawi",
          "Malaysia",
          "Maldives",
          "Mali",
          "Malta",
          "Marshall Islands",
          "Martinique",
          "Mauritania",
          "Mauritius",
          "Mayotte",
          "Mexico",
          "Micronesia",
          "Moldova",
          "Mongolia",
          "Montenegro",
          "Montserrat",
          "Morocco",
          "Mozambique",
          "Myanmar",
          "Namibia",
          "Nauru",
          "Nepal",
          "Netherlands",
          "New Caledonia",
          "New Zealand",
          "Nicaragua",
          "Niger",
          "Nigeria",
          "Niue",
          "Norfolk Island",
          "North Korea",
          "Northern Mariana Islands",
          "Norway",
          "Oman",
          "Pakistan",
          "Palau",
          "Palestina",
          "Panama",
          "Papua New Guinea",
          "Paraguay",
          "Peru",
          "Philippines",
          "Pitcairn Islands",
          "Poland",
          "Portugal",
          "Puerto Rico",
          "Qatar",
          "Republic of Congo",
          "Reunion",
          "Romania",
          "Russia",
          "Rwanda",
          "Saint Helena",
          "Saint Kitts and Nevis",
          "Saint Lucia",
          "Saint Pierre and Miquelon",
          "Saint Vincent and the Grenadines",
          "Saint-Martin",
          "Samoa",
          "Sao Tome and Principe",
          "Saudi Arabia",
          "Senegal",
          "Serbia",
          "Seychelles",
          "Sierra Leone",
          "Singapore",
          "Slovakia",
          "Slovenia",
          "Solomon Islands",
          "Somalia",
          "South Africa",
          "South Georgia and the South Sandwich Islands",
          "South Korea",
          "South Sudan",
          "Spain",
          "Sri Lanka",
          "Sudan",
          "Suriname",
          "Svalbard and Jan Mayen",
          "Swaziland",
          "Sweden",
          "Switzerland",
          "Syria",
          "Taiwan",
          "Tajikistan",
          "Tanzania",
          "Thailand",
          "Togo",
          "Tonga",
          "Trinidad and Tobago",
          "Tunisia",
          "Turkey",
          "Turkmenistan",
          "Turks and Caicos Islands",
          "Tuvalu",
          "Uganda",
          "Ukraine",
          "United Arab Emirates",
          "United Kingdom",
          "United States",
          "United States Minor Outlying Islands",
          "Uruguay",
          "Uzbekistan",
          "Vanuatu",
          "Venezuela",
          "Vietnam",
          "Virgin Islands, U.S.",
          "Wallis and Futuna",
          "Western Sahara",
          "Yemen",
          "Zambia",
          "Zimbabwe"
         ],
         "type": "choropleth",
         "z": [
          null,
          -1.188152842966374,
          0.0004859396761103857,
          null,
          0.7333073900254213,
          null,
          1.194991777734121,
          -1.174435379064189,
          null,
          2.831432832401684,
          0.8893749720095502,
          0.4412433158035949,
          1.090218053870846,
          null,
          -0.2512586063055372,
          null,
          2.632609027614177,
          1.068745824158235,
          -1.840164961530494,
          0.5854336770764863,
          null,
          -2.998086695040218,
          0.1703652582973361,
          null,
          1.594400209936838,
          0.4848151547369043,
          null,
          -1.70352979286796e-05,
          null,
          null,
          -0.4960484213591061,
          0.7322340115316792,
          2.673524527461904,
          -0.1011432833544454,
          0.08319749349399884,
          0.4415152929566626,
          -2.033468270225869,
          null,
          -0.263487424645826,
          null,
          0.3904392713970331,
          3.332447415450488,
          0.595043273668735,
          0.1068769675400443,
          null,
          null,
          -0.04236723978236612,
          null,
          null,
          0.6135537019758698,
          0.606070326931055,
          0.3570812285982439,
          5.099363705465304,
          null,
          -0.6057556481322564,
          0.4529682654848627,
          -0.33834886554251,
          1.44719991290872,
          -4.089400244252331,
          null,
          8.027389396610952,
          -1.784463336731157,
          1.17032823623069,
          -0.05940882548046196,
          3.683980867478946,
          0.6098818275739176,
          2.907670283794857,
          -0.2393567780384106,
          1.635657532740973,
          null,
          7.522298332108353,
          -0.2817503291585663,
          0.5908839139290342,
          0.8878453718207487,
          0.5894541911787861,
          null,
          null,
          -0.5107305102632476,
          2.273378157896533,
          1.499418693574076,
          0.3115042041675853,
          0.7591016516618654,
          -0.5673930184923299,
          null,
          null,
          null,
          0.9548794075453154,
          null,
          0.8061457741981319,
          0.02717414202020994,
          0.41457234102376,
          8.745319068459404,
          null,
          2.249625956637733,
          null,
          2.659645833198149,
          19.16894223754786,
          3.236897522090107,
          0.5023606967993074,
          -0.02706366213938494,
          -0.146586124822297,
          -0.4231381817674422,
          null,
          -0.0714613137672217,
          -0.3407273673201817,
          14.39483387146427,
          -0.007047200689186569,
          null,
          -0.04159747918207532,
          0.03289544516504588,
          0.9935492119667777,
          null,
          9.321964578251775,
          0.3044400262873679,
          2.487414380753628,
          0.04269616362362062,
          0.04558247998094979,
          0.1126805652320075,
          -0.5207240497878751,
          0.4002927984041284,
          -0.1588531094775638,
          3.477021490922303,
          -1.857691231070487,
          6.241858213902708,
          0.5367713558554537,
          -1.597198957645926,
          0.1314379861191536,
          null,
          0.7056575951425539,
          null,
          null,
          -13.32354661085068,
          3.442947757273168,
          null,
          null,
          2.620520906714581,
          null,
          -1.183191747136178,
          -0.5377855365814209,
          -4.687958164147653,
          null,
          0.16365475116281,
          0.6568302838607661,
          2.724061730343887,
          1.269591189493935,
          null,
          3.796807905061539,
          0.5091977184280758,
          -0.002955516823020254,
          11.38099204153622,
          1.05333046469391,
          2.361050024614134,
          0.9281539033138544,
          null,
          null,
          -0.4490555639235218,
          null,
          4.784026992445837,
          -0.2129456014209761,
          -1.399285235113717,
          null,
          0.5840427201169347,
          0.6282411446297727,
          0.1977044649495428,
          1.650475359423043,
          1.302024097832085,
          0.1367169092169943,
          null,
          4.032483170302164,
          0.7335392110799875,
          -1.61920229388144,
          0.1101681655566474,
          0.6274171273733309,
          3.048496457980469,
          4.557988580908645,
          0.4090332069298322,
          -0.6416265880154818,
          null,
          null,
          null,
          null,
          null,
          null,
          null,
          null,
          0.09028056365599077,
          9.600080826531736,
          4.313044967850859,
          null,
          0.2692268551562221,
          -0.6130753114977966,
          4.092960116809422,
          -0.5556998227458647,
          -0.3329660081650866,
          0.5330989752018419,
          0.6423317431770791,
          null,
          -0.1658389436317953,
          0.8898286270834725,
          0.0561430829898084,
          0.4594034220345335,
          1.830900319106986,
          4.944823146728523,
          null,
          0.1715696955835211,
          3.675566579020213,
          -0.478712765019308,
          0.1364022896385347,
          -0.9120877096768726,
          -2.518238062098348,
          0.7397238310406489,
          0.1724234879570469,
          1.547831439591703,
          null,
          -1.120318628951727,
          -0.154457454172165,
          0.2124095723480103,
          -0.1457078432537021,
          null,
          null,
          -0.3733043317558252,
          4.245339012884481,
          0.05525815192237079,
          -0.1959270812354115,
          -0.9907162076984486,
          null,
          0.8739664464251413,
          -0.2383375870737039,
          -1.236971622828432,
          0.9028125178966179,
          -0.3319466366485671,
          null,
          null,
          -0.09491881650100188,
          -0.3640120413271021,
          0.1588158685472979,
          -0.6778292782700971
         ],
         "zmax": 20,
         "zmin": -20
        },
        {
         "colorbar": {
          "len": 0.3,
          "orientation": "h",
          "thickness": 10,
          "title": {
           "font": {
            "size": 12
           },
           "side": "bottom",
           "text": "Change (%)"
          },
          "x": 0.5,
          "y": -0.2
         },
         "colorscale": [
          [
           0,
           "#a50026"
          ],
          [
           0.08233333333333333,
           "#a50026"
          ],
          [
           0.08333333333333333,
           "#d73027"
          ],
          [
           0.16566666666666666,
           "#d73027"
          ],
          [
           0.16666666666666666,
           "#f46d43"
          ],
          [
           0.249,
           "#f46d43"
          ],
          [
           0.25,
           "#fdae61"
          ],
          [
           0.3323333333333333,
           "#fdae61"
          ],
          [
           0.3333333333333333,
           "#fee08b"
          ],
          [
           0.41566666666666663,
           "#fee08b"
          ],
          [
           0.41666666666666663,
           "#ffffbf"
          ],
          [
           0.49899999999999994,
           "#ffffbf"
          ],
          [
           0.49999999999999994,
           "#ffffbf"
          ],
          [
           0.5823333333333333,
           "#ffffbf"
          ],
          [
           0.5833333333333333,
           "#d9ef8b"
          ],
          [
           0.6656666666666666,
           "#d9ef8b"
          ],
          [
           0.6666666666666666,
           "#a6d96a"
          ],
          [
           0.749,
           "#a6d96a"
          ],
          [
           0.75,
           "#66bd63"
          ],
          [
           0.8323333333333334,
           "#66bd63"
          ],
          [
           0.8333333333333334,
           "#1a9850"
          ],
          [
           0.9156666666666667,
           "#1a9850"
          ],
          [
           0.9166666666666667,
           "#006837"
          ],
          [
           1,
           "#006837"
          ]
         ],
         "geo": "geo4",
         "locationmode": "country names",
         "locations": [
          "Afganistan",
          "Albania",
          "Algeria",
          "American Samoa",
          "Angola",
          "Antigua and Barbuda",
          "Argentina",
          "Armenia",
          "Aruba",
          "Australia",
          "Austria",
          "Azerbaijan",
          "Bahamas",
          "Bahrain",
          "Bangladesh",
          "Barbados",
          "Belarus",
          "Belgium",
          "Belize",
          "Benin",
          "Bermuda",
          "Bhutan",
          "Bolivia",
          "Bonaire, Saint Eustatius and Saba",
          "Bosnia and Herzegovina",
          "Botswana",
          "Bouvet Island",
          "Brazil",
          "British Indian Ocean Territory",
          "British Virgin Islands",
          "Brunei",
          "Bulgaria",
          "Burkina Faso",
          "Burundi",
          "Cambodia",
          "Cameroon",
          "Canada",
          "Cape Verde",
          "Caspian Sea",
          "Cayman Islands",
          "Central African Republic",
          "Chad",
          "Chile",
          "China",
          "Christmas Island",
          "Cocos Islands",
          "Colombia",
          "Comoros",
          "Cook Islands",
          "Costa Rica",
          "Côte d'Ivoire",
          "Croatia",
          "Cuba",
          "Curaçao",
          "Cyprus",
          "Czech Republic",
          "Democratic Republic of the Congo",
          "Denmark",
          "Djibouti",
          "Dominica",
          "Dominican Republic",
          "East Timor",
          "Ecuador",
          "Egypt",
          "El Salvador",
          "Equatorial Guinea",
          "Eritrea",
          "Estonia",
          "Ethiopia",
          "Falkland Islands",
          "Faroe Islands",
          "Fiji",
          "Finland",
          "France",
          "French Guiana",
          "French Polynesia",
          "French Southern Territories",
          "Gabon",
          "Gambia",
          "Georgia",
          "Germany",
          "Ghana",
          "Greece",
          "Grenada",
          "Guadeloupe",
          "Guam",
          "Guatemala",
          "Guernsey",
          "Guinea",
          "Guinea-Bissau",
          "Guyana",
          "Haiti",
          "Heard Island and McDonald Islands",
          "Honduras",
          "Hong Kong",
          "Hungary",
          "Iceland",
          "India",
          "Indonesia",
          "Iran",
          "Iraq",
          "Ireland",
          "Isle of Man",
          "Israel",
          "Italy",
          "Jamaica",
          "Japan",
          "Jersey",
          "Jordan",
          "Kazakhstan",
          "Kenya",
          "Kiribati",
          "Kosovo",
          "Kuwait",
          "Kyrgyzstan",
          "Laos",
          "Latvia",
          "Lebanon",
          "Lesotho",
          "Liberia",
          "Libya",
          "Lithuania",
          "Luxembourg",
          "Macedonia",
          "Madagascar",
          "Malawi",
          "Malaysia",
          "Maldives",
          "Mali",
          "Malta",
          "Marshall Islands",
          "Martinique",
          "Mauritania",
          "Mauritius",
          "Mayotte",
          "Mexico",
          "Micronesia",
          "Moldova",
          "Mongolia",
          "Montenegro",
          "Montserrat",
          "Morocco",
          "Mozambique",
          "Myanmar",
          "Namibia",
          "Nauru",
          "Nepal",
          "Netherlands",
          "New Caledonia",
          "New Zealand",
          "Nicaragua",
          "Niger",
          "Nigeria",
          "Niue",
          "Norfolk Island",
          "North Korea",
          "Northern Mariana Islands",
          "Norway",
          "Oman",
          "Pakistan",
          "Palau",
          "Palestina",
          "Panama",
          "Papua New Guinea",
          "Paraguay",
          "Peru",
          "Philippines",
          "Pitcairn Islands",
          "Poland",
          "Portugal",
          "Puerto Rico",
          "Qatar",
          "Republic of Congo",
          "Reunion",
          "Romania",
          "Russia",
          "Rwanda",
          "Saint Helena",
          "Saint Kitts and Nevis",
          "Saint Lucia",
          "Saint Pierre and Miquelon",
          "Saint Vincent and the Grenadines",
          "Saint-Martin",
          "Samoa",
          "Sao Tome and Principe",
          "Saudi Arabia",
          "Senegal",
          "Serbia",
          "Seychelles",
          "Sierra Leone",
          "Singapore",
          "Slovakia",
          "Slovenia",
          "Solomon Islands",
          "Somalia",
          "South Africa",
          "South Georgia and the South Sandwich Islands",
          "South Korea",
          "South Sudan",
          "Spain",
          "Sri Lanka",
          "Sudan",
          "Suriname",
          "Svalbard and Jan Mayen",
          "Swaziland",
          "Sweden",
          "Switzerland",
          "Syria",
          "Taiwan",
          "Tajikistan",
          "Tanzania",
          "Thailand",
          "Togo",
          "Tonga",
          "Trinidad and Tobago",
          "Tunisia",
          "Turkey",
          "Turkmenistan",
          "Turks and Caicos Islands",
          "Tuvalu",
          "Uganda",
          "Ukraine",
          "United Arab Emirates",
          "United Kingdom",
          "United States",
          "United States Minor Outlying Islands",
          "Uruguay",
          "Uzbekistan",
          "Vanuatu",
          "Venezuela",
          "Vietnam",
          "Virgin Islands, U.S.",
          "Wallis and Futuna",
          "Western Sahara",
          "Yemen",
          "Zambia",
          "Zimbabwe"
         ],
         "type": "choropleth",
         "z": [
          null,
          -8.625078730621903,
          -1.86424075772479,
          null,
          -5.279069311965149,
          null,
          -4.469172148626153,
          -6.257515647406456,
          null,
          -3.603329989730413,
          -3.555101422967795,
          -5.844827201680265,
          6.144566512634626,
          null,
          -13.79101894625043,
          null,
          -5.572897701816192,
          -0.1610688991079639,
          -3.847179745809791,
          2.393354890860159,
          null,
          2.285151251625829,
          4.325557160160833,
          null,
          -18.10687865119673,
          -15.66251642191095,
          null,
          -12.05636018865083,
          null,
          null,
          -5.420745540144527,
          9.970514910714105,
          -0.1813687291594857,
          -10.09920464839937,
          -1.339398771066934,
          4.029413493989267,
          6.305489655753351,
          null,
          -2.824756177406495,
          null,
          1.048217030967622,
          3.052847824338592,
          0.3604895293108723,
          0.01418138883782561,
          null,
          null,
          9.111397190698248,
          null,
          null,
          -16.75207129445474,
          -5.06448754043923,
          4.550964446815227,
          -34.5646118065785,
          null,
          6.438681992119176,
          1.572450655265251,
          -0.1540210975067464,
          5.265032563442285,
          7.143807262691232,
          null,
          9.18137964004876,
          -2.350751550053769,
          13.97681198780375,
          0.4260992446962665,
          -1.39867470152661,
          -3.229761648533213,
          -6.224639331496364,
          -1.76480992801542,
          -1.22834589540489,
          null,
          19.83120780929276,
          -33.85891245957161,
          -0.2036813940629665,
          4.373623494572461,
          5.064474232704007,
          null,
          null,
          8.395014243771598,
          42.75523842184253,
          -5.403858156810475,
          0.08931579393959607,
          -6.93203436082127,
          -7.120108257762558,
          null,
          null,
          null,
          -4.174178068306283,
          null,
          -18.88702525615771,
          -24.1353482977649,
          -13.29445647094375,
          -5.88408734341811,
          null,
          -16.82770180854007,
          null,
          -5.005255268774129,
          0.513886844603589,
          -0.7067081253550965,
          5.255021554129433,
          2.135533446906954,
          -1.485107330607083,
          -2.603892860719846,
          null,
          1.549766889237379,
          7.68304623119425,
          -24.57863615609716,
          -0.7179895179072231,
          null,
          -5.230394105488473,
          -6.295295786117529,
          -5.944817201103008,
          null,
          4.508474629363195,
          -0.9450853243514556,
          2.886652000255228,
          -5.089822463673351,
          -6.420860576115595,
          22.80955543711978,
          5.449121748056983,
          23.68665358568044,
          -4.857702385040897,
          -10.36565356154743,
          -0.2084895742023707,
          -3.269667917307712,
          4.22771959969961,
          -42.90298717704074,
          1.19593020968791,
          null,
          11.23420221802936,
          null,
          null,
          56.64358420972925,
          17.11309233167375,
          null,
          null,
          4.345221436250265,
          null,
          -42.75829584103058,
          -0.8127069590395568,
          -10.67132720894448,
          null,
          4.700168292858646,
          -3.835925018317837,
          -15.35417838095889,
          -13.86317056289385,
          null,
          -12.02520321522612,
          9.375888090866662,
          -17.86781603416828,
          1.713497272466247,
          -18.78341532445678,
          6.160263999476056,
          4.702685770598444,
          null,
          null,
          7.864708765527722,
          null,
          -0.6157736923213538,
          -8.430439807939436,
          2.836208981544484,
          null,
          0.7238164316425426,
          -26.63332536121258,
          -8.458918680565072,
          -8.037786060174653,
          0.918110137414666,
          -1.223216590230174,
          null,
          1.106706084603597,
          -5.844226108655654,
          24.50163934910039,
          -5.151115510436466,
          6.957610790560246,
          -5.159753726114002,
          -6.6106205315277,
          8.792634744308515,
          -3.781655042465212,
          null,
          null,
          null,
          null,
          null,
          null,
          null,
          null,
          2.856073456497869,
          -10.94966317190731,
          11.83322126264017,
          null,
          10.00419262758186,
          24.576915638367,
          15.46876420930066,
          5.089287626680347,
          -0.1609777605602239,
          -3.644306065916195,
          -14.55553085640613,
          null,
          2.263507053412066,
          4.474646837068735,
          3.261333745478806,
          -0.3128880099773642,
          3.936639930137031,
          -1.998245042253361,
          null,
          7.381852405565843,
          1.06953624335456,
          2.150238566159594,
          -3.05697757242925,
          2.004319036619576,
          -1.963400305447864,
          -13.33053649909311,
          0.2078619980185741,
          -3.097516616019824,
          null,
          4.852822601345605,
          -2.204414177679308,
          5.513141295260311,
          -2.866001632625938,
          null,
          null,
          -3.174734300145265,
          -12.36226951230417,
          7.308902641832709,
          -0.8957075507955328,
          6.619901973825061,
          null,
          -1.743756153332798,
          3.12540150634395,
          -5.220899991275317,
          -12.65323025096671,
          -1.490123384969632,
          null,
          null,
          2.309537666457737,
          -0.2988308284541901,
          -11.11742105410782,
          3.854730391690013
         ],
         "zmax": 20,
         "zmin": -20
        }
       ],
       "layout": {
        "annotations": [
         {
          "font": {
           "size": 12
          },
          "showarrow": false,
          "text": "Maize protein concentration change<br>ARISE-SAI-1.5C minus SSP245",
          "x": 0.2375,
          "xanchor": "center",
          "xref": "paper",
          "y": 1,
          "yanchor": "bottom",
          "yref": "paper"
         },
         {
          "font": {
           "size": 12
          },
          "showarrow": false,
          "text": "Rice protein concentration change<br>ARISE-SAI-1.5C minus SSP245",
          "x": 0.7625,
          "xanchor": "center",
          "xref": "paper",
          "y": 1,
          "yanchor": "bottom",
          "yref": "paper"
         },
         {
          "font": {
           "size": 12
          },
          "showarrow": false,
          "text": "Soybean protein concentration change<br>ARISE-SAI-1.5C minus SSP245",
          "x": 0.2375,
          "xanchor": "center",
          "xref": "paper",
          "y": 0.425,
          "yanchor": "bottom",
          "yref": "paper"
         },
         {
          "font": {
           "size": 12
          },
          "showarrow": false,
          "text": "Wheat protein concentration change<br>ARISE-SAI-1.5C minus SSP245",
          "x": 0.7625,
          "xanchor": "center",
          "xref": "paper",
          "y": 0.425,
          "yanchor": "bottom",
          "yref": "paper"
         }
        ],
        "geo": {
         "domain": {
          "x": [
           0,
           0.475
          ],
          "y": [
           0.575,
           1
          ]
         },
         "lataxis": {
          "range": [
           -60,
           80
          ]
         },
         "projection": {
          "type": "robinson"
         }
        },
        "geo2": {
         "domain": {
          "x": [
           0.525,
           1
          ],
          "y": [
           0.575,
           1
          ]
         },
         "lataxis": {
          "range": [
           -60,
           80
          ]
         },
         "projection": {
          "type": "robinson"
         }
        },
        "geo3": {
         "domain": {
          "x": [
           0,
           0.475
          ],
          "y": [
           0,
           0.425
          ]
         },
         "lataxis": {
          "range": [
           -60,
           80
          ]
         },
         "projection": {
          "type": "robinson"
         }
        },
        "geo4": {
         "domain": {
          "x": [
           0.525,
           1
          ],
          "y": [
           0,
           0.425
          ]
         },
         "lataxis": {
          "range": [
           -60,
           80
          ]
         },
         "projection": {
          "type": "robinson"
         }
        },
        "height": 540,
        "template": {
         "data": {
          "bar": [
           {
            "error_x": {
             "color": "#2a3f5f"
            },
            "error_y": {
             "color": "#2a3f5f"
            },
            "marker": {
             "line": {
              "color": "#E5ECF6",
              "width": 0.5
             },
             "pattern": {
              "fillmode": "overlay",
              "size": 10,
              "solidity": 0.2
             }
            },
            "type": "bar"
           }
          ],
          "barpolar": [
           {
            "marker": {
             "line": {
              "color": "#E5ECF6",
              "width": 0.5
             },
             "pattern": {
              "fillmode": "overlay",
              "size": 10,
              "solidity": 0.2
             }
            },
            "type": "barpolar"
           }
          ],
          "carpet": [
           {
            "aaxis": {
             "endlinecolor": "#2a3f5f",
             "gridcolor": "white",
             "linecolor": "white",
             "minorgridcolor": "white",
             "startlinecolor": "#2a3f5f"
            },
            "baxis": {
             "endlinecolor": "#2a3f5f",
             "gridcolor": "white",
             "linecolor": "white",
             "minorgridcolor": "white",
             "startlinecolor": "#2a3f5f"
            },
            "type": "carpet"
           }
          ],
          "choropleth": [
           {
            "colorbar": {
             "outlinewidth": 0,
             "ticks": ""
            },
            "type": "choropleth"
           }
          ],
          "contour": [
           {
            "colorbar": {
             "outlinewidth": 0,
             "ticks": ""
            },
            "colorscale": [
             [
              0,
              "#0d0887"
             ],
             [
              0.1111111111111111,
              "#46039f"
             ],
             [
              0.2222222222222222,
              "#7201a8"
             ],
             [
              0.3333333333333333,
              "#9c179e"
             ],
             [
              0.4444444444444444,
              "#bd3786"
             ],
             [
              0.5555555555555556,
              "#d8576b"
             ],
             [
              0.6666666666666666,
              "#ed7953"
             ],
             [
              0.7777777777777778,
              "#fb9f3a"
             ],
             [
              0.8888888888888888,
              "#fdca26"
             ],
             [
              1,
              "#f0f921"
             ]
            ],
            "type": "contour"
           }
          ],
          "contourcarpet": [
           {
            "colorbar": {
             "outlinewidth": 0,
             "ticks": ""
            },
            "type": "contourcarpet"
           }
          ],
          "heatmap": [
           {
            "colorbar": {
             "outlinewidth": 0,
             "ticks": ""
            },
            "colorscale": [
             [
              0,
              "#0d0887"
             ],
             [
              0.1111111111111111,
              "#46039f"
             ],
             [
              0.2222222222222222,
              "#7201a8"
             ],
             [
              0.3333333333333333,
              "#9c179e"
             ],
             [
              0.4444444444444444,
              "#bd3786"
             ],
             [
              0.5555555555555556,
              "#d8576b"
             ],
             [
              0.6666666666666666,
              "#ed7953"
             ],
             [
              0.7777777777777778,
              "#fb9f3a"
             ],
             [
              0.8888888888888888,
              "#fdca26"
             ],
             [
              1,
              "#f0f921"
             ]
            ],
            "type": "heatmap"
           }
          ],
          "heatmapgl": [
           {
            "colorbar": {
             "outlinewidth": 0,
             "ticks": ""
            },
            "colorscale": [
             [
              0,
              "#0d0887"
             ],
             [
              0.1111111111111111,
              "#46039f"
             ],
             [
              0.2222222222222222,
              "#7201a8"
             ],
             [
              0.3333333333333333,
              "#9c179e"
             ],
             [
              0.4444444444444444,
              "#bd3786"
             ],
             [
              0.5555555555555556,
              "#d8576b"
             ],
             [
              0.6666666666666666,
              "#ed7953"
             ],
             [
              0.7777777777777778,
              "#fb9f3a"
             ],
             [
              0.8888888888888888,
              "#fdca26"
             ],
             [
              1,
              "#f0f921"
             ]
            ],
            "type": "heatmapgl"
           }
          ],
          "histogram": [
           {
            "marker": {
             "pattern": {
              "fillmode": "overlay",
              "size": 10,
              "solidity": 0.2
             }
            },
            "type": "histogram"
           }
          ],
          "histogram2d": [
           {
            "colorbar": {
             "outlinewidth": 0,
             "ticks": ""
            },
            "colorscale": [
             [
              0,
              "#0d0887"
             ],
             [
              0.1111111111111111,
              "#46039f"
             ],
             [
              0.2222222222222222,
              "#7201a8"
             ],
             [
              0.3333333333333333,
              "#9c179e"
             ],
             [
              0.4444444444444444,
              "#bd3786"
             ],
             [
              0.5555555555555556,
              "#d8576b"
             ],
             [
              0.6666666666666666,
              "#ed7953"
             ],
             [
              0.7777777777777778,
              "#fb9f3a"
             ],
             [
              0.8888888888888888,
              "#fdca26"
             ],
             [
              1,
              "#f0f921"
             ]
            ],
            "type": "histogram2d"
           }
          ],
          "histogram2dcontour": [
           {
            "colorbar": {
             "outlinewidth": 0,
             "ticks": ""
            },
            "colorscale": [
             [
              0,
              "#0d0887"
             ],
             [
              0.1111111111111111,
              "#46039f"
             ],
             [
              0.2222222222222222,
              "#7201a8"
             ],
             [
              0.3333333333333333,
              "#9c179e"
             ],
             [
              0.4444444444444444,
              "#bd3786"
             ],
             [
              0.5555555555555556,
              "#d8576b"
             ],
             [
              0.6666666666666666,
              "#ed7953"
             ],
             [
              0.7777777777777778,
              "#fb9f3a"
             ],
             [
              0.8888888888888888,
              "#fdca26"
             ],
             [
              1,
              "#f0f921"
             ]
            ],
            "type": "histogram2dcontour"
           }
          ],
          "mesh3d": [
           {
            "colorbar": {
             "outlinewidth": 0,
             "ticks": ""
            },
            "type": "mesh3d"
           }
          ],
          "parcoords": [
           {
            "line": {
             "colorbar": {
              "outlinewidth": 0,
              "ticks": ""
             }
            },
            "type": "parcoords"
           }
          ],
          "pie": [
           {
            "automargin": true,
            "type": "pie"
           }
          ],
          "scatter": [
           {
            "fillpattern": {
             "fillmode": "overlay",
             "size": 10,
             "solidity": 0.2
            },
            "type": "scatter"
           }
          ],
          "scatter3d": [
           {
            "line": {
             "colorbar": {
              "outlinewidth": 0,
              "ticks": ""
             }
            },
            "marker": {
             "colorbar": {
              "outlinewidth": 0,
              "ticks": ""
             }
            },
            "type": "scatter3d"
           }
          ],
          "scattercarpet": [
           {
            "marker": {
             "colorbar": {
              "outlinewidth": 0,
              "ticks": ""
             }
            },
            "type": "scattercarpet"
           }
          ],
          "scattergeo": [
           {
            "marker": {
             "colorbar": {
              "outlinewidth": 0,
              "ticks": ""
             }
            },
            "type": "scattergeo"
           }
          ],
          "scattergl": [
           {
            "marker": {
             "colorbar": {
              "outlinewidth": 0,
              "ticks": ""
             }
            },
            "type": "scattergl"
           }
          ],
          "scattermapbox": [
           {
            "marker": {
             "colorbar": {
              "outlinewidth": 0,
              "ticks": ""
             }
            },
            "type": "scattermapbox"
           }
          ],
          "scatterpolar": [
           {
            "marker": {
             "colorbar": {
              "outlinewidth": 0,
              "ticks": ""
             }
            },
            "type": "scatterpolar"
           }
          ],
          "scatterpolargl": [
           {
            "marker": {
             "colorbar": {
              "outlinewidth": 0,
              "ticks": ""
             }
            },
            "type": "scatterpolargl"
           }
          ],
          "scatterternary": [
           {
            "marker": {
             "colorbar": {
              "outlinewidth": 0,
              "ticks": ""
             }
            },
            "type": "scatterternary"
           }
          ],
          "surface": [
           {
            "colorbar": {
             "outlinewidth": 0,
             "ticks": ""
            },
            "colorscale": [
             [
              0,
              "#0d0887"
             ],
             [
              0.1111111111111111,
              "#46039f"
             ],
             [
              0.2222222222222222,
              "#7201a8"
             ],
             [
              0.3333333333333333,
              "#9c179e"
             ],
             [
              0.4444444444444444,
              "#bd3786"
             ],
             [
              0.5555555555555556,
              "#d8576b"
             ],
             [
              0.6666666666666666,
              "#ed7953"
             ],
             [
              0.7777777777777778,
              "#fb9f3a"
             ],
             [
              0.8888888888888888,
              "#fdca26"
             ],
             [
              1,
              "#f0f921"
             ]
            ],
            "type": "surface"
           }
          ],
          "table": [
           {
            "cells": {
             "fill": {
              "color": "#EBF0F8"
             },
             "line": {
              "color": "white"
             }
            },
            "header": {
             "fill": {
              "color": "#C8D4E3"
             },
             "line": {
              "color": "white"
             }
            },
            "type": "table"
           }
          ]
         },
         "layout": {
          "annotationdefaults": {
           "arrowcolor": "#2a3f5f",
           "arrowhead": 0,
           "arrowwidth": 1
          },
          "autotypenumbers": "strict",
          "coloraxis": {
           "colorbar": {
            "outlinewidth": 0,
            "ticks": ""
           }
          },
          "colorscale": {
           "diverging": [
            [
             0,
             "#8e0152"
            ],
            [
             0.1,
             "#c51b7d"
            ],
            [
             0.2,
             "#de77ae"
            ],
            [
             0.3,
             "#f1b6da"
            ],
            [
             0.4,
             "#fde0ef"
            ],
            [
             0.5,
             "#f7f7f7"
            ],
            [
             0.6,
             "#e6f5d0"
            ],
            [
             0.7,
             "#b8e186"
            ],
            [
             0.8,
             "#7fbc41"
            ],
            [
             0.9,
             "#4d9221"
            ],
            [
             1,
             "#276419"
            ]
           ],
           "sequential": [
            [
             0,
             "#0d0887"
            ],
            [
             0.1111111111111111,
             "#46039f"
            ],
            [
             0.2222222222222222,
             "#7201a8"
            ],
            [
             0.3333333333333333,
             "#9c179e"
            ],
            [
             0.4444444444444444,
             "#bd3786"
            ],
            [
             0.5555555555555556,
             "#d8576b"
            ],
            [
             0.6666666666666666,
             "#ed7953"
            ],
            [
             0.7777777777777778,
             "#fb9f3a"
            ],
            [
             0.8888888888888888,
             "#fdca26"
            ],
            [
             1,
             "#f0f921"
            ]
           ],
           "sequentialminus": [
            [
             0,
             "#0d0887"
            ],
            [
             0.1111111111111111,
             "#46039f"
            ],
            [
             0.2222222222222222,
             "#7201a8"
            ],
            [
             0.3333333333333333,
             "#9c179e"
            ],
            [
             0.4444444444444444,
             "#bd3786"
            ],
            [
             0.5555555555555556,
             "#d8576b"
            ],
            [
             0.6666666666666666,
             "#ed7953"
            ],
            [
             0.7777777777777778,
             "#fb9f3a"
            ],
            [
             0.8888888888888888,
             "#fdca26"
            ],
            [
             1,
             "#f0f921"
            ]
           ]
          },
          "colorway": [
           "#636efa",
           "#EF553B",
           "#00cc96",
           "#ab63fa",
           "#FFA15A",
           "#19d3f3",
           "#FF6692",
           "#B6E880",
           "#FF97FF",
           "#FECB52"
          ],
          "font": {
           "color": "#2a3f5f"
          },
          "geo": {
           "bgcolor": "white",
           "lakecolor": "white",
           "landcolor": "#E5ECF6",
           "showlakes": true,
           "showland": true,
           "subunitcolor": "white"
          },
          "hoverlabel": {
           "align": "left"
          },
          "hovermode": "closest",
          "mapbox": {
           "style": "light"
          },
          "paper_bgcolor": "white",
          "plot_bgcolor": "#E5ECF6",
          "polar": {
           "angularaxis": {
            "gridcolor": "white",
            "linecolor": "white",
            "ticks": ""
           },
           "bgcolor": "#E5ECF6",
           "radialaxis": {
            "gridcolor": "white",
            "linecolor": "white",
            "ticks": ""
           }
          },
          "scene": {
           "xaxis": {
            "backgroundcolor": "#E5ECF6",
            "gridcolor": "white",
            "gridwidth": 2,
            "linecolor": "white",
            "showbackground": true,
            "ticks": "",
            "zerolinecolor": "white"
           },
           "yaxis": {
            "backgroundcolor": "#E5ECF6",
            "gridcolor": "white",
            "gridwidth": 2,
            "linecolor": "white",
            "showbackground": true,
            "ticks": "",
            "zerolinecolor": "white"
           },
           "zaxis": {
            "backgroundcolor": "#E5ECF6",
            "gridcolor": "white",
            "gridwidth": 2,
            "linecolor": "white",
            "showbackground": true,
            "ticks": "",
            "zerolinecolor": "white"
           }
          },
          "shapedefaults": {
           "line": {
            "color": "#2a3f5f"
           }
          },
          "ternary": {
           "aaxis": {
            "gridcolor": "white",
            "linecolor": "white",
            "ticks": ""
           },
           "baxis": {
            "gridcolor": "white",
            "linecolor": "white",
            "ticks": ""
           },
           "bgcolor": "#E5ECF6",
           "caxis": {
            "gridcolor": "white",
            "linecolor": "white",
            "ticks": ""
           }
          },
          "title": {
           "x": 0.05
          },
          "xaxis": {
           "automargin": true,
           "gridcolor": "white",
           "linecolor": "white",
           "ticks": "",
           "title": {
            "standoff": 15
           },
           "zerolinecolor": "white",
           "zerolinewidth": 2
          },
          "yaxis": {
           "automargin": true,
           "gridcolor": "white",
           "linecolor": "white",
           "ticks": "",
           "title": {
            "standoff": 15
           },
           "zerolinecolor": "white",
           "zerolinewidth": 2
          }
         }
        },
        "width": 850
       }
      },
      "image/png": "[encoded data removed]",
      "text/html": [
       "<div>                            <div id=\"0a79dbf9-91c1-4938-8df1-76e2e866ad74\" class=\"plotly-graph-div\" style=\"height:540px; width:850px;\"></div>            <script type=\"text/javascript\">                require([\"plotly\"], function(Plotly) {                    window.PLOTLYENV=window.PLOTLYENV || {};                                    if (document.getElementById(\"0a79dbf9-91c1-4938-8df1-76e2e866ad74\")) {                    Plotly.newPlot(                        \"0a79dbf9-91c1-4938-8df1-76e2e866ad74\",                        [{\"colorbar\":{\"title\":{\"font\":{\"size\":12},\"text\":\"Change (%)\",\"side\":\"bottom\"},\"len\":0.3,\"orientation\":\"h\",\"thickness\":10,\"x\":0.5,\"y\":-0.2},\"colorscale\":[[0.0,\"#a50026\"],[0.08233333333333333,\"#a50026\"],[0.08333333333333333,\"#d73027\"],[0.16566666666666666,\"#d73027\"],[0.16666666666666666,\"#f46d43\"],[0.249,\"#f46d43\"],[0.25,\"#fdae61\"],[0.3323333333333333,\"#fdae61\"],[0.3333333333333333,\"#fee08b\"],[0.41566666666666663,\"#fee08b\"],[0.41666666666666663,\"#ffffbf\"],[0.49899999999999994,\"#ffffbf\"],[0.49999999999999994,\"#ffffbf\"],[0.5823333333333333,\"#ffffbf\"],[0.5833333333333333,\"#d9ef8b\"],[0.6656666666666666,\"#d9ef8b\"],[0.6666666666666666,\"#a6d96a\"],[0.749,\"#a6d96a\"],[0.75,\"#66bd63\"],[0.8323333333333334,\"#66bd63\"],[0.8333333333333334,\"#1a9850\"],[0.9156666666666667,\"#1a9850\"],[0.9166666666666667,\"#006837\"],[1,\"#006837\"]],\"locationmode\":\"country names\",\"locations\":[\"Afganistan\",\"Albania\",\"Algeria\",\"American Samoa\",\"Angola\",\"Antigua and Barbuda\",\"Argentina\",\"Armenia\",\"Aruba\",\"Australia\",\"Austria\",\"Azerbaijan\",\"Bahamas\",\"Bahrain\",\"Bangladesh\",\"Barbados\",\"Belarus\",\"Belgium\",\"Belize\",\"Benin\",\"Bermuda\",\"Bhutan\",\"Bolivia\",\"Bonaire, Saint Eustatius and Saba\",\"Bosnia and Herzegovina\",\"Botswana\",\"Bouvet Island\",\"Brazil\",\"British Indian Ocean Territory\",\"British Virgin Islands\",\"Brunei\",\"Bulgaria\",\"Burkina Faso\",\"Burundi\",\"Cambodia\",\"Cameroon\",\"Canada\",\"Cape Verde\",\"Caspian Sea\",\"Cayman Islands\",\"Central African Republic\",\"Chad\",\"Chile\",\"China\",\"Christmas Island\",\"Cocos Islands\",\"Colombia\",\"Comoros\",\"Cook Islands\",\"Costa Rica\",\"C\\u00f4te d'Ivoire\",\"Croatia\",\"Cuba\",\"Cura\\u00e7ao\",\"Cyprus\",\"Czech Republic\",\"Democratic Republic of the Congo\",\"Denmark\",\"Djibouti\",\"Dominica\",\"Dominican Republic\",\"East Timor\",\"Ecuador\",\"Egypt\",\"El Salvador\",\"Equatorial Guinea\",\"Eritrea\",\"Estonia\",\"Ethiopia\",\"Falkland Islands\",\"Faroe Islands\",\"Fiji\",\"Finland\",\"France\",\"French Guiana\",\"French Polynesia\",\"French Southern Territories\",\"Gabon\",\"Gambia\",\"Georgia\",\"Germany\",\"Ghana\",\"Greece\",\"Grenada\",\"Guadeloupe\",\"Guam\",\"Guatemala\",\"Guernsey\",\"Guinea\",\"Guinea-Bissau\",\"Guyana\",\"Haiti\",\"Heard Island and McDonald Islands\",\"Honduras\",\"Hong Kong\",\"Hungary\",\"Iceland\",\"India\",\"Indonesia\",\"Iran\",\"Iraq\",\"Ireland\",\"Isle of Man\",\"Israel\",\"Italy\",\"Jamaica\",\"Japan\",\"Jersey\",\"Jordan\",\"Kazakhstan\",\"Kenya\",\"Kiribati\",\"Kosovo\",\"Kuwait\",\"Kyrgyzstan\",\"Laos\",\"Latvia\",\"Lebanon\",\"Lesotho\",\"Liberia\",\"Libya\",\"Lithuania\",\"Luxembourg\",\"Macedonia\",\"Madagascar\",\"Malawi\",\"Malaysia\",\"Maldives\",\"Mali\",\"Malta\",\"Marshall Islands\",\"Martinique\",\"Mauritania\",\"Mauritius\",\"Mayotte\",\"Mexico\",\"Micronesia\",\"Moldova\",\"Mongolia\",\"Montenegro\",\"Montserrat\",\"Morocco\",\"Mozambique\",\"Myanmar\",\"Namibia\",\"Nauru\",\"Nepal\",\"Netherlands\",\"New Caledonia\",\"New Zealand\",\"Nicaragua\",\"Niger\",\"Nigeria\",\"Niue\",\"Norfolk Island\",\"North Korea\",\"Northern Mariana Islands\",\"Norway\",\"Oman\",\"Pakistan\",\"Palau\",\"Palestina\",\"Panama\",\"Papua New Guinea\",\"Paraguay\",\"Peru\",\"Philippines\",\"Pitcairn Islands\",\"Poland\",\"Portugal\",\"Puerto Rico\",\"Qatar\",\"Republic of Congo\",\"Reunion\",\"Romania\",\"Russia\",\"Rwanda\",\"Saint Helena\",\"Saint Kitts and Nevis\",\"Saint Lucia\",\"Saint Pierre and Miquelon\",\"Saint Vincent and the Grenadines\",\"Saint-Martin\",\"Samoa\",\"Sao Tome and Principe\",\"Saudi Arabia\",\"Senegal\",\"Serbia\",\"Seychelles\",\"Sierra Leone\",\"Singapore\",\"Slovakia\",\"Slovenia\",\"Solomon Islands\",\"Somalia\",\"South Africa\",\"South Georgia and the South Sandwich Islands\",\"South Korea\",\"South Sudan\",\"Spain\",\"Sri Lanka\",\"Sudan\",\"Suriname\",\"Svalbard and Jan Mayen\",\"Swaziland\",\"Sweden\",\"Switzerland\",\"Syria\",\"Taiwan\",\"Tajikistan\",\"Tanzania\",\"Thailand\",\"Togo\",\"Tonga\",\"Trinidad and Tobago\",\"Tunisia\",\"Turkey\",\"Turkmenistan\",\"Turks and Caicos Islands\",\"Tuvalu\",\"Uganda\",\"Ukraine\",\"United Arab Emirates\",\"United Kingdom\",\"United States\",\"United States Minor Outlying Islands\",\"Uruguay\",\"Uzbekistan\",\"Vanuatu\",\"Venezuela\",\"Vietnam\",\"Virgin Islands, U.S.\",\"Wallis and Futuna\",\"Western Sahara\",\"Yemen\",\"Zambia\",\"Zimbabwe\"],\"z\":[null,-7.457231384607548,-3.728984629108134,null,-14.04326555117134,null,-13.54973941721466,-17.86708418007115,null,-2.465117523220941,-0.08949029444857892,1.123138983827755,-2.933919141743704,null,0.2780128225044799,null,23.75420715244385,1.064399897161147,-1.71296321657626,-14.75418762727624,null,-4.953173674478134,-22.76240385365372,null,59.46546814239032,-6.628969328821004,null,-13.55273428197597,null,null,-7.718640393971862,8.133116034098677,-27.40205710766536,-1.672719858963209,-2.030765347461341,-12.21182464852959,-2.353987890897118,null,2.134927432470164,null,-16.37290563660902,-16.18032106412372,-17.14620449888423,-0.08371551374252964,null,null,0.602459939490154,null,null,-9.181734326748385,-28.76409903085114,-16.94376631605382,-35.77289063634666,null,16.61590273271376,0.2478242533075144,-11.17717385284782,4.075028221051713,-12.66040756207961,null,-6.047894147326677,-5.560970261496569,-2.422682120836226,6.706524748350938,0.2786401350259999,-9.270444297423206,-6.263876310992876,0.50535489721023,-8.08184089831142,null,3.36755843524223,-4.479223266209959,4.816794336099896,-0.3621645274554993,7.908270721403383,null,null,-2.43305835516457,-47.9324797338018,-0.4040071719853978,1.963937495660257,-26.44147250469792,4.994912150671158,null,null,null,-4.539607086029597,null,-6.374489770931912,-19.86258108141885,-4.893172362426681,8.040977659526941,null,0.2945231103414825,null,-20.78548721723733,36.27195422555663,1.204465344342527,-1.915870305002942,2.896869125373366,-0.9075918736050295,7.292856332981979,null,10.8090872986733,-0.1834872836016178,-16.46163341091091,1.045248163013043,null,4.199930480581095,-9.169827128858064,-12.8925698287064,null,11.6673590099492,5.806419743533339,0.1527639209683096,-14.5823449549891,2.061247423323299,-6.534634823760681,0.904840906926022,8.720385830004886,0.02643120504274837,13.0723600869755,-0.08648638132517744,-15.66702542567111,-12.06974317379621,-17.48995234191781,-8.264385589630889,null,-15.15044146405284,null,null,-12.43482264011243,-0.4925791352204638,null,null,-2.688820038589699,null,-51.17951423777719,-3.156629899980564,-8.151460360502393,null,-1.192585691923022,-19.42785678656777,-1.819439959871323,-11.62645188471211,null,2.493716791044839,5.483518181304264,1.089675246337112,-2.931207430740696,-0.597164070198317,-24.40141883509053,-16.18647834298118,null,null,2.98584705229493,null,15.60912101017773,0.2364949142718955,2.115007793526452,null,37.73157066394006,-4.724836155962314,-5.046301893408071,-27.50077980304868,-4.065155062149779,-9.759746348714899,null,2.568396766941011,1.048752651827729,0.6585534696232218,2.435927370768996,-5.658201439590931,-17.91435115432742,-6.152595516689764,13.39773659663165,-2.246316087449501,null,null,null,null,null,null,null,null,-4.483529315153108,-21.59078101038881,-19.42449838981576,null,-6.397056842298731,-1.961078901017908,2.434179393689506,6.595979712300976,3.630044155146761,-6.028410181453732,-7.997402864865363,null,1.530286436422297,-19.17885281423905,0.8024255230812363,-5.045580651363272,-11.86722886878327,-1.195158784594973,null,9.721109461329466,2.21506573693473,-2.787578096922378,4.862267886893675,0.2631884243815691,-1.947959538076368,-5.50388632780522,0.1571712932011389,-17.82590052007872,null,0.1981967535440584,3.172886454907116,3.824025294970398,-9.563917492400913,null,null,-8.677931662592046,-0.1150268208966576,-0.828028649115151,11.09540611558811,-1.755454001875759,null,17.0586948220307,-7.124546223913838,-0.2354795841747416,-7.171149018732891,-3.832984084029496,null,null,-14.41192976073702,-6.320263210876902,-24.86200368211964,-17.74120801733234],\"zmax\":20,\"zmin\":-20,\"type\":\"choropleth\",\"geo\":\"geo\"},{\"colorbar\":{\"title\":{\"font\":{\"size\":12},\"text\":\"Change (%)\",\"side\":\"bottom\"},\"len\":0.3,\"orientation\":\"h\",\"thickness\":10,\"x\":0.5,\"y\":-0.2},\"colorscale\":[[0.0,\"#a50026\"],[0.08233333333333333,\"#a50026\"],[0.08333333333333333,\"#d73027\"],[0.16566666666666666,\"#d73027\"],[0.16666666666666666,\"#f46d43\"],[0.249,\"#f46d43\"],[0.25,\"#fdae61\"],[0.3323333333333333,\"#fdae61\"],[0.3333333333333333,\"#fee08b\"],[0.41566666666666663,\"#fee08b\"],[0.41666666666666663,\"#ffffbf\"],[0.49899999999999994,\"#ffffbf\"],[0.49999999999999994,\"#ffffbf\"],[0.5823333333333333,\"#ffffbf\"],[0.5833333333333333,\"#d9ef8b\"],[0.6656666666666666,\"#d9ef8b\"],[0.6666666666666666,\"#a6d96a\"],[0.749,\"#a6d96a\"],[0.75,\"#66bd63\"],[0.8323333333333334,\"#66bd63\"],[0.8333333333333334,\"#1a9850\"],[0.9156666666666667,\"#1a9850\"],[0.9166666666666667,\"#006837\"],[1,\"#006837\"]],\"locationmode\":\"country names\",\"locations\":[\"Afganistan\",\"Albania\",\"Algeria\",\"American Samoa\",\"Angola\",\"Antigua and Barbuda\",\"Argentina\",\"Armenia\",\"Aruba\",\"Australia\",\"Austria\",\"Azerbaijan\",\"Bahamas\",\"Bahrain\",\"Bangladesh\",\"Barbados\",\"Belarus\",\"Belgium\",\"Belize\",\"Benin\",\"Bermuda\",\"Bhutan\",\"Bolivia\",\"Bonaire, Saint Eustatius and Saba\",\"Bosnia and Herzegovina\",\"Botswana\",\"Bouvet Island\",\"Brazil\",\"British Indian Ocean Territory\",\"British Virgin Islands\",\"Brunei\",\"Bulgaria\",\"Burkina Faso\",\"Burundi\",\"Cambodia\",\"Cameroon\",\"Canada\",\"Cape Verde\",\"Caspian Sea\",\"Cayman Islands\",\"Central African Republic\",\"Chad\",\"Chile\",\"China\",\"Christmas Island\",\"Cocos Islands\",\"Colombia\",\"Comoros\",\"Cook Islands\",\"Costa Rica\",\"C\\u00f4te d'Ivoire\",\"Croatia\",\"Cuba\",\"Cura\\u00e7ao\",\"Cyprus\",\"Czech Republic\",\"Democratic Republic of the Congo\",\"Denmark\",\"Djibouti\",\"Dominica\",\"Dominican Republic\",\"East Timor\",\"Ecuador\",\"Egypt\",\"El Salvador\",\"Equatorial Guinea\",\"Eritrea\",\"Estonia\",\"Ethiopia\",\"Falkland Islands\",\"Faroe Islands\",\"Fiji\",\"Finland\",\"France\",\"French Guiana\",\"French Polynesia\",\"French Southern Territories\",\"Gabon\",\"Gambia\",\"Georgia\",\"Germany\",\"Ghana\",\"Greece\",\"Grenada\",\"Guadeloupe\",\"Guam\",\"Guatemala\",\"Guernsey\",\"Guinea\",\"Guinea-Bissau\",\"Guyana\",\"Haiti\",\"Heard Island and McDonald Islands\",\"Honduras\",\"Hong Kong\",\"Hungary\",\"Iceland\",\"India\",\"Indonesia\",\"Iran\",\"Iraq\",\"Ireland\",\"Isle of Man\",\"Israel\",\"Italy\",\"Jamaica\",\"Japan\",\"Jersey\",\"Jordan\",\"Kazakhstan\",\"Kenya\",\"Kiribati\",\"Kosovo\",\"Kuwait\",\"Kyrgyzstan\",\"Laos\",\"Latvia\",\"Lebanon\",\"Lesotho\",\"Liberia\",\"Libya\",\"Lithuania\",\"Luxembourg\",\"Macedonia\",\"Madagascar\",\"Malawi\",\"Malaysia\",\"Maldives\",\"Mali\",\"Malta\",\"Marshall Islands\",\"Martinique\",\"Mauritania\",\"Mauritius\",\"Mayotte\",\"Mexico\",\"Micronesia\",\"Moldova\",\"Mongolia\",\"Montenegro\",\"Montserrat\",\"Morocco\",\"Mozambique\",\"Myanmar\",\"Namibia\",\"Nauru\",\"Nepal\",\"Netherlands\",\"New Caledonia\",\"New Zealand\",\"Nicaragua\",\"Niger\",\"Nigeria\",\"Niue\",\"Norfolk Island\",\"North Korea\",\"Northern Mariana Islands\",\"Norway\",\"Oman\",\"Pakistan\",\"Palau\",\"Palestina\",\"Panama\",\"Papua New Guinea\",\"Paraguay\",\"Peru\",\"Philippines\",\"Pitcairn Islands\",\"Poland\",\"Portugal\",\"Puerto Rico\",\"Qatar\",\"Republic of Congo\",\"Reunion\",\"Romania\",\"Russia\",\"Rwanda\",\"Saint Helena\",\"Saint Kitts and Nevis\",\"Saint Lucia\",\"Saint Pierre and Miquelon\",\"Saint Vincent and the Grenadines\",\"Saint-Martin\",\"Samoa\",\"Sao Tome and Principe\",\"Saudi Arabia\",\"Senegal\",\"Serbia\",\"Seychelles\",\"Sierra Leone\",\"Singapore\",\"Slovakia\",\"Slovenia\",\"Solomon Islands\",\"Somalia\",\"South Africa\",\"South Georgia and the South Sandwich Islands\",\"South Korea\",\"South Sudan\",\"Spain\",\"Sri Lanka\",\"Sudan\",\"Suriname\",\"Svalbard and Jan Mayen\",\"Swaziland\",\"Sweden\",\"Switzerland\",\"Syria\",\"Taiwan\",\"Tajikistan\",\"Tanzania\",\"Thailand\",\"Togo\",\"Tonga\",\"Trinidad and Tobago\",\"Tunisia\",\"Turkey\",\"Turkmenistan\",\"Turks and Caicos Islands\",\"Tuvalu\",\"Uganda\",\"Ukraine\",\"United Arab Emirates\",\"United Kingdom\",\"United States\",\"United States Minor Outlying Islands\",\"Uruguay\",\"Uzbekistan\",\"Vanuatu\",\"Venezuela\",\"Vietnam\",\"Virgin Islands, U.S.\",\"Wallis and Futuna\",\"Western Sahara\",\"Yemen\",\"Zambia\",\"Zimbabwe\"],\"z\":[null,-7.945450388808745,3.273138327867209,null,12.47898776373127,null,-14.3551017826077,-2.344701917989755,null,-7.087063115840992,0.1247031983917773,5.164779785202341,-5.714301261603438,null,-2.622072957980562,null,-14.69443749683817,4.210053133049345,-7.844109101519781,-8.798649481807432,null,0.8802864459366302,-18.15050234453742,null,-4.667833764763089,-1.481935231066981,null,-0.04416251912540309,null,null,5.221779616231168,-2.434718781744203,-7.217350958324989,12.32685902630247,14.78148890262464,1.130521809461622,-6.919334572931187,null,0.3703812411186324,null,-0.9268832041408591,-4.098654992071583,-1.003233877043644,-1.040766568349672,null,null,-3.798065742945796,null,null,-3.888569515272335,1.02572284854278,-2.562942297500027,-1.349283971546886,null,-2.925404965139647,15.9247313144839,12.10589393943325,22.23679539554899,-6.767865238609926,null,1.047174059929396,-2.754613742027009,-5.455525213592113,-7.104280101827916,-27.6625995696063,2.279542641237822,-5.025582400465481,25.09882553187221,-3.813173013642873,null,-17.51481461679014,-22.49072297894788,14.01167259779545,13.98282196603141,-24.58669576942288,null,null,5.597021161153301,9.405968604955913,-2.12882451570769,9.452573021382342,-8.547031786739666,-2.030874892453165,null,null,null,-10.5636891501845,null,-10.16295871161336,-8.274044435482802,-7.839819349138569,-8.647886171088194,null,-15.98697742007591,null,-18.75132343431724,9.314269327499828,-3.356813012279138,-8.881688772839212,-5.150547975308505,-0.4329647849611209,15.15407478374983,null,-1.557148152642989,-5.730661313449263,-34.03450927891049,-5.16626838505576,null,-9.500618362045511,1.152012943253764,-0.8439398129231575,null,-8.282165815236182,-3.177544574869547,2.64499935997181,6.676328464519385,21.43097449048239,-6.961961092553182,-7.525508670041757,7.836300146030751,-2.736380969475045,10.77369033920881,7.881392053793259,-10.40198378151474,-0.5899474844393761,-20.81644346028419,-13.05741041357558,null,-3.318896441705499,null,null,-1.178345671977296,-3.83759146340111,null,null,-5.957207636169629,null,-3.047612084581903,-3.20239499170654,-12.86487383061774,null,3.161224466663787,0.08410711722968263,-0.986285122235202,-1.534661437175135,null,0.3052266853959261,5.197044183950211,-16.65071398112163,4.031591837617954,10.48059275181652,-14.63051476899755,-3.142607726898783,null,null,-3.537679289988387,null,7.12839340312578,-11.08267282023551,1.688004981126829,null,-35.1800694320936,-8.74968996977227,-4.237220116285743,-28.53682683498046,-10.65104476787103,-10.68157942874701,null,-9.509386600441246,4.519621781075591,-0.8096809550877914,-2.68955570788005,5.197122961237783,-50.96589074056693,1.490206514455035,10.48279197428028,4.329225964366575,null,null,null,null,null,null,null,null,-8.343859397515763,-18.75388449494369,-9.298016200868696,null,-6.685041561530764,11.35704338256435,-0.5097075298721504,1.955205149533789,2.967637842810082,2.6462688701572,-4.907463565621402,null,-3.69518069471484,-8.243307222271852,-3.1979377975834,-7.227763808682425,-2.19193979974847,-6.431216181702117,null,-3.357492185933897,13.99800861601977,-3.749715421746971,-13.70793406577835,0.449997656685227,-1.461892985752919,-4.64348492394732,-12.00080828001197,-7.632919963639261,null,1.371348696985883,-0.5857450784123881,-6.626232402448958,-3.894468979173705,null,null,-5.127892993621578,11.34657308856285,-1.079787260983431,8.463311263375502,-5.749606187352184,null,-12.91722574698017,-3.084320769787079,4.716199809782003,-1.209910022446526,-3.704878858332096,null,null,-17.11021719082905,-8.737712113386273,2.344196568583567,-1.092222804159458],\"zmax\":20,\"zmin\":-20,\"type\":\"choropleth\",\"geo\":\"geo2\"},{\"colorbar\":{\"title\":{\"font\":{\"size\":12},\"text\":\"Change (%)\",\"side\":\"bottom\"},\"len\":0.3,\"orientation\":\"h\",\"thickness\":10,\"x\":0.5,\"y\":-0.2},\"colorscale\":[[0.0,\"#a50026\"],[0.08233333333333333,\"#a50026\"],[0.08333333333333333,\"#d73027\"],[0.16566666666666666,\"#d73027\"],[0.16666666666666666,\"#f46d43\"],[0.249,\"#f46d43\"],[0.25,\"#fdae61\"],[0.3323333333333333,\"#fdae61\"],[0.3333333333333333,\"#fee08b\"],[0.41566666666666663,\"#fee08b\"],[0.41666666666666663,\"#ffffbf\"],[0.49899999999999994,\"#ffffbf\"],[0.49999999999999994,\"#ffffbf\"],[0.5823333333333333,\"#ffffbf\"],[0.5833333333333333,\"#d9ef8b\"],[0.6656666666666666,\"#d9ef8b\"],[0.6666666666666666,\"#a6d96a\"],[0.749,\"#a6d96a\"],[0.75,\"#66bd63\"],[0.8323333333333334,\"#66bd63\"],[0.8333333333333334,\"#1a9850\"],[0.9156666666666667,\"#1a9850\"],[0.9166666666666667,\"#006837\"],[1,\"#006837\"]],\"locationmode\":\"country names\",\"locations\":[\"Afganistan\",\"Albania\",\"Algeria\",\"American Samoa\",\"Angola\",\"Antigua and Barbuda\",\"Argentina\",\"Armenia\",\"Aruba\",\"Australia\",\"Austria\",\"Azerbaijan\",\"Bahamas\",\"Bahrain\",\"Bangladesh\",\"Barbados\",\"Belarus\",\"Belgium\",\"Belize\",\"Benin\",\"Bermuda\",\"Bhutan\",\"Bolivia\",\"Bonaire, Saint Eustatius and Saba\",\"Bosnia and Herzegovina\",\"Botswana\",\"Bouvet Island\",\"Brazil\",\"British Indian Ocean Territory\",\"British Virgin Islands\",\"Brunei\",\"Bulgaria\",\"Burkina Faso\",\"Burundi\",\"Cambodia\",\"Cameroon\",\"Canada\",\"Cape Verde\",\"Caspian Sea\",\"Cayman Islands\",\"Central African Republic\",\"Chad\",\"Chile\",\"China\",\"Christmas Island\",\"Cocos Islands\",\"Colombia\",\"Comoros\",\"Cook Islands\",\"Costa Rica\",\"C\\u00f4te d'Ivoire\",\"Croatia\",\"Cuba\",\"Cura\\u00e7ao\",\"Cyprus\",\"Czech Republic\",\"Democratic Republic of the Congo\",\"Denmark\",\"Djibouti\",\"Dominica\",\"Dominican Republic\",\"East Timor\",\"Ecuador\",\"Egypt\",\"El Salvador\",\"Equatorial Guinea\",\"Eritrea\",\"Estonia\",\"Ethiopia\",\"Falkland Islands\",\"Faroe Islands\",\"Fiji\",\"Finland\",\"France\",\"French Guiana\",\"French Polynesia\",\"French Southern Territories\",\"Gabon\",\"Gambia\",\"Georgia\",\"Germany\",\"Ghana\",\"Greece\",\"Grenada\",\"Guadeloupe\",\"Guam\",\"Guatemala\",\"Guernsey\",\"Guinea\",\"Guinea-Bissau\",\"Guyana\",\"Haiti\",\"Heard Island and McDonald Islands\",\"Honduras\",\"Hong Kong\",\"Hungary\",\"Iceland\",\"India\",\"Indonesia\",\"Iran\",\"Iraq\",\"Ireland\",\"Isle of Man\",\"Israel\",\"Italy\",\"Jamaica\",\"Japan\",\"Jersey\",\"Jordan\",\"Kazakhstan\",\"Kenya\",\"Kiribati\",\"Kosovo\",\"Kuwait\",\"Kyrgyzstan\",\"Laos\",\"Latvia\",\"Lebanon\",\"Lesotho\",\"Liberia\",\"Libya\",\"Lithuania\",\"Luxembourg\",\"Macedonia\",\"Madagascar\",\"Malawi\",\"Malaysia\",\"Maldives\",\"Mali\",\"Malta\",\"Marshall Islands\",\"Martinique\",\"Mauritania\",\"Mauritius\",\"Mayotte\",\"Mexico\",\"Micronesia\",\"Moldova\",\"Mongolia\",\"Montenegro\",\"Montserrat\",\"Morocco\",\"Mozambique\",\"Myanmar\",\"Namibia\",\"Nauru\",\"Nepal\",\"Netherlands\",\"New Caledonia\",\"New Zealand\",\"Nicaragua\",\"Niger\",\"Nigeria\",\"Niue\",\"Norfolk Island\",\"North Korea\",\"Northern Mariana Islands\",\"Norway\",\"Oman\",\"Pakistan\",\"Palau\",\"Palestina\",\"Panama\",\"Papua New Guinea\",\"Paraguay\",\"Peru\",\"Philippines\",\"Pitcairn Islands\",\"Poland\",\"Portugal\",\"Puerto Rico\",\"Qatar\",\"Republic of Congo\",\"Reunion\",\"Romania\",\"Russia\",\"Rwanda\",\"Saint Helena\",\"Saint Kitts and Nevis\",\"Saint Lucia\",\"Saint Pierre and Miquelon\",\"Saint Vincent and the Grenadines\",\"Saint-Martin\",\"Samoa\",\"Sao Tome and Principe\",\"Saudi Arabia\",\"Senegal\",\"Serbia\",\"Seychelles\",\"Sierra Leone\",\"Singapore\",\"Slovakia\",\"Slovenia\",\"Solomon Islands\",\"Somalia\",\"South Africa\",\"South Georgia and the South Sandwich Islands\",\"South Korea\",\"South Sudan\",\"Spain\",\"Sri Lanka\",\"Sudan\",\"Suriname\",\"Svalbard and Jan Mayen\",\"Swaziland\",\"Sweden\",\"Switzerland\",\"Syria\",\"Taiwan\",\"Tajikistan\",\"Tanzania\",\"Thailand\",\"Togo\",\"Tonga\",\"Trinidad and Tobago\",\"Tunisia\",\"Turkey\",\"Turkmenistan\",\"Turks and Caicos Islands\",\"Tuvalu\",\"Uganda\",\"Ukraine\",\"United Arab Emirates\",\"United Kingdom\",\"United States\",\"United States Minor Outlying Islands\",\"Uruguay\",\"Uzbekistan\",\"Vanuatu\",\"Venezuela\",\"Vietnam\",\"Virgin Islands, U.S.\",\"Wallis and Futuna\",\"Western Sahara\",\"Yemen\",\"Zambia\",\"Zimbabwe\"],\"z\":[null,-1.188152842966374,0.0004859396761103857,null,0.7333073900254213,null,1.194991777734121,-1.174435379064189,null,2.831432832401684,0.8893749720095502,0.4412433158035949,1.090218053870846,null,-0.2512586063055372,null,2.632609027614177,1.068745824158235,-1.840164961530494,0.5854336770764863,null,-2.998086695040218,0.1703652582973361,null,1.594400209936838,0.4848151547369043,null,-1.70352979286796e-05,null,null,-0.4960484213591061,0.7322340115316792,2.673524527461904,-0.1011432833544454,0.08319749349399884,0.4415152929566626,-2.033468270225869,null,-0.263487424645826,null,0.3904392713970331,3.332447415450488,0.595043273668735,0.1068769675400443,null,null,-0.04236723978236612,null,null,0.6135537019758698,0.606070326931055,0.3570812285982439,5.099363705465304,null,-0.6057556481322564,0.4529682654848627,-0.33834886554251,1.44719991290872,-4.089400244252331,null,8.027389396610952,-1.784463336731157,1.17032823623069,-0.05940882548046196,3.683980867478946,0.6098818275739176,2.907670283794857,-0.2393567780384106,1.635657532740973,null,7.522298332108353,-0.2817503291585663,0.5908839139290342,0.8878453718207487,0.5894541911787861,null,null,-0.5107305102632476,2.273378157896533,1.499418693574076,0.3115042041675853,0.7591016516618654,-0.5673930184923299,null,null,null,0.9548794075453154,null,0.8061457741981319,0.02717414202020994,0.41457234102376,8.745319068459404,null,2.249625956637733,null,2.659645833198149,19.16894223754786,3.236897522090107,0.5023606967993074,-0.02706366213938494,-0.146586124822297,-0.4231381817674422,null,-0.0714613137672217,-0.3407273673201817,14.39483387146427,-0.007047200689186569,null,-0.04159747918207532,0.03289544516504588,0.9935492119667777,null,9.321964578251775,0.3044400262873679,2.487414380753628,0.04269616362362062,0.04558247998094979,0.1126805652320075,-0.5207240497878751,0.4002927984041284,-0.1588531094775638,3.477021490922303,-1.857691231070487,6.241858213902708,0.5367713558554537,-1.597198957645926,0.1314379861191536,null,0.7056575951425539,null,null,-13.32354661085068,3.442947757273168,null,null,2.620520906714581,null,-1.183191747136178,-0.5377855365814209,-4.687958164147653,null,0.16365475116281,0.6568302838607661,2.724061730343887,1.269591189493935,null,3.796807905061539,0.5091977184280758,-0.002955516823020254,11.38099204153622,1.05333046469391,2.361050024614134,0.9281539033138544,null,null,-0.4490555639235218,null,4.784026992445837,-0.2129456014209761,-1.399285235113717,null,0.5840427201169347,0.6282411446297727,0.1977044649495428,1.650475359423043,1.302024097832085,0.1367169092169943,null,4.032483170302164,0.7335392110799875,-1.61920229388144,0.1101681655566474,0.6274171273733309,3.048496457980469,4.557988580908645,0.4090332069298322,-0.6416265880154818,null,null,null,null,null,null,null,null,0.09028056365599077,9.600080826531736,4.313044967850859,null,0.2692268551562221,-0.6130753114977966,4.092960116809422,-0.5556998227458647,-0.3329660081650866,0.5330989752018419,0.6423317431770791,null,-0.1658389436317953,0.8898286270834725,0.0561430829898084,0.4594034220345335,1.830900319106986,4.944823146728523,null,0.1715696955835211,3.675566579020213,-0.478712765019308,0.1364022896385347,-0.9120877096768726,-2.518238062098348,0.7397238310406489,0.1724234879570469,1.547831439591703,null,-1.120318628951727,-0.154457454172165,0.2124095723480103,-0.1457078432537021,null,null,-0.3733043317558252,4.245339012884481,0.05525815192237079,-0.1959270812354115,-0.9907162076984486,null,0.8739664464251413,-0.2383375870737039,-1.236971622828432,0.9028125178966179,-0.3319466366485671,null,null,-0.09491881650100188,-0.3640120413271021,0.1588158685472979,-0.6778292782700971],\"zmax\":20,\"zmin\":-20,\"type\":\"choropleth\",\"geo\":\"geo3\"},{\"colorbar\":{\"title\":{\"font\":{\"size\":12},\"text\":\"Change (%)\",\"side\":\"bottom\"},\"len\":0.3,\"orientation\":\"h\",\"thickness\":10,\"x\":0.5,\"y\":-0.2},\"colorscale\":[[0.0,\"#a50026\"],[0.08233333333333333,\"#a50026\"],[0.08333333333333333,\"#d73027\"],[0.16566666666666666,\"#d73027\"],[0.16666666666666666,\"#f46d43\"],[0.249,\"#f46d43\"],[0.25,\"#fdae61\"],[0.3323333333333333,\"#fdae61\"],[0.3333333333333333,\"#fee08b\"],[0.41566666666666663,\"#fee08b\"],[0.41666666666666663,\"#ffffbf\"],[0.49899999999999994,\"#ffffbf\"],[0.49999999999999994,\"#ffffbf\"],[0.5823333333333333,\"#ffffbf\"],[0.5833333333333333,\"#d9ef8b\"],[0.6656666666666666,\"#d9ef8b\"],[0.6666666666666666,\"#a6d96a\"],[0.749,\"#a6d96a\"],[0.75,\"#66bd63\"],[0.8323333333333334,\"#66bd63\"],[0.8333333333333334,\"#1a9850\"],[0.9156666666666667,\"#1a9850\"],[0.9166666666666667,\"#006837\"],[1,\"#006837\"]],\"locationmode\":\"country names\",\"locations\":[\"Afganistan\",\"Albania\",\"Algeria\",\"American Samoa\",\"Angola\",\"Antigua and Barbuda\",\"Argentina\",\"Armenia\",\"Aruba\",\"Australia\",\"Austria\",\"Azerbaijan\",\"Bahamas\",\"Bahrain\",\"Bangladesh\",\"Barbados\",\"Belarus\",\"Belgium\",\"Belize\",\"Benin\",\"Bermuda\",\"Bhutan\",\"Bolivia\",\"Bonaire, Saint Eustatius and Saba\",\"Bosnia and Herzegovina\",\"Botswana\",\"Bouvet Island\",\"Brazil\",\"British Indian Ocean Territory\",\"British Virgin Islands\",\"Brunei\",\"Bulgaria\",\"Burkina Faso\",\"Burundi\",\"Cambodia\",\"Cameroon\",\"Canada\",\"Cape Verde\",\"Caspian Sea\",\"Cayman Islands\",\"Central African Republic\",\"Chad\",\"Chile\",\"China\",\"Christmas Island\",\"Cocos Islands\",\"Colombia\",\"Comoros\",\"Cook Islands\",\"Costa Rica\",\"C\\u00f4te d'Ivoire\",\"Croatia\",\"Cuba\",\"Cura\\u00e7ao\",\"Cyprus\",\"Czech Republic\",\"Democratic Republic of the Congo\",\"Denmark\",\"Djibouti\",\"Dominica\",\"Dominican Republic\",\"East Timor\",\"Ecuador\",\"Egypt\",\"El Salvador\",\"Equatorial Guinea\",\"Eritrea\",\"Estonia\",\"Ethiopia\",\"Falkland Islands\",\"Faroe Islands\",\"Fiji\",\"Finland\",\"France\",\"French Guiana\",\"French Polynesia\",\"French Southern Territories\",\"Gabon\",\"Gambia\",\"Georgia\",\"Germany\",\"Ghana\",\"Greece\",\"Grenada\",\"Guadeloupe\",\"Guam\",\"Guatemala\",\"Guernsey\",\"Guinea\",\"Guinea-Bissau\",\"Guyana\",\"Haiti\",\"Heard Island and McDonald Islands\",\"Honduras\",\"Hong Kong\",\"Hungary\",\"Iceland\",\"India\",\"Indonesia\",\"Iran\",\"Iraq\",\"Ireland\",\"Isle of Man\",\"Israel\",\"Italy\",\"Jamaica\",\"Japan\",\"Jersey\",\"Jordan\",\"Kazakhstan\",\"Kenya\",\"Kiribati\",\"Kosovo\",\"Kuwait\",\"Kyrgyzstan\",\"Laos\",\"Latvia\",\"Lebanon\",\"Lesotho\",\"Liberia\",\"Libya\",\"Lithuania\",\"Luxembourg\",\"Macedonia\",\"Madagascar\",\"Malawi\",\"Malaysia\",\"Maldives\",\"Mali\",\"Malta\",\"Marshall Islands\",\"Martinique\",\"Mauritania\",\"Mauritius\",\"Mayotte\",\"Mexico\",\"Micronesia\",\"Moldova\",\"Mongolia\",\"Montenegro\",\"Montserrat\",\"Morocco\",\"Mozambique\",\"Myanmar\",\"Namibia\",\"Nauru\",\"Nepal\",\"Netherlands\",\"New Caledonia\",\"New Zealand\",\"Nicaragua\",\"Niger\",\"Nigeria\",\"Niue\",\"Norfolk Island\",\"North Korea\",\"Northern Mariana Islands\",\"Norway\",\"Oman\",\"Pakistan\",\"Palau\",\"Palestina\",\"Panama\",\"Papua New Guinea\",\"Paraguay\",\"Peru\",\"Philippines\",\"Pitcairn Islands\",\"Poland\",\"Portugal\",\"Puerto Rico\",\"Qatar\",\"Republic of Congo\",\"Reunion\",\"Romania\",\"Russia\",\"Rwanda\",\"Saint Helena\",\"Saint Kitts and Nevis\",\"Saint Lucia\",\"Saint Pierre and Miquelon\",\"Saint Vincent and the Grenadines\",\"Saint-Martin\",\"Samoa\",\"Sao Tome and Principe\",\"Saudi Arabia\",\"Senegal\",\"Serbia\",\"Seychelles\",\"Sierra Leone\",\"Singapore\",\"Slovakia\",\"Slovenia\",\"Solomon Islands\",\"Somalia\",\"South Africa\",\"South Georgia and the South Sandwich Islands\",\"South Korea\",\"South Sudan\",\"Spain\",\"Sri Lanka\",\"Sudan\",\"Suriname\",\"Svalbard and Jan Mayen\",\"Swaziland\",\"Sweden\",\"Switzerland\",\"Syria\",\"Taiwan\",\"Tajikistan\",\"Tanzania\",\"Thailand\",\"Togo\",\"Tonga\",\"Trinidad and Tobago\",\"Tunisia\",\"Turkey\",\"Turkmenistan\",\"Turks and Caicos Islands\",\"Tuvalu\",\"Uganda\",\"Ukraine\",\"United Arab Emirates\",\"United Kingdom\",\"United States\",\"United States Minor Outlying Islands\",\"Uruguay\",\"Uzbekistan\",\"Vanuatu\",\"Venezuela\",\"Vietnam\",\"Virgin Islands, U.S.\",\"Wallis and Futuna\",\"Western Sahara\",\"Yemen\",\"Zambia\",\"Zimbabwe\"],\"z\":[null,-8.625078730621903,-1.86424075772479,null,-5.279069311965149,null,-4.469172148626153,-6.257515647406456,null,-3.603329989730413,-3.555101422967795,-5.844827201680265,6.144566512634626,null,-13.79101894625043,null,-5.572897701816192,-0.1610688991079639,-3.847179745809791,2.393354890860159,null,2.285151251625829,4.325557160160833,null,-18.10687865119673,-15.66251642191095,null,-12.05636018865083,null,null,-5.420745540144527,9.970514910714105,-0.1813687291594857,-10.09920464839937,-1.339398771066934,4.029413493989267,6.305489655753351,null,-2.824756177406495,null,1.048217030967622,3.052847824338592,0.3604895293108723,0.01418138883782561,null,null,9.111397190698248,null,null,-16.75207129445474,-5.06448754043923,4.550964446815227,-34.5646118065785,null,6.438681992119176,1.572450655265251,-0.1540210975067464,5.265032563442285,7.143807262691232,null,9.18137964004876,-2.350751550053769,13.97681198780375,0.4260992446962665,-1.39867470152661,-3.229761648533213,-6.224639331496364,-1.76480992801542,-1.22834589540489,null,19.83120780929276,-33.85891245957161,-0.2036813940629665,4.373623494572461,5.064474232704007,null,null,8.395014243771598,42.75523842184253,-5.403858156810475,0.08931579393959607,-6.93203436082127,-7.120108257762558,null,null,null,-4.174178068306283,null,-18.88702525615771,-24.1353482977649,-13.29445647094375,-5.88408734341811,null,-16.82770180854007,null,-5.005255268774129,0.513886844603589,-0.7067081253550965,5.255021554129433,2.135533446906954,-1.485107330607083,-2.603892860719846,null,1.549766889237379,7.68304623119425,-24.57863615609716,-0.7179895179072231,null,-5.230394105488473,-6.295295786117529,-5.944817201103008,null,4.508474629363195,-0.9450853243514556,2.886652000255228,-5.089822463673351,-6.420860576115595,22.80955543711978,5.449121748056983,23.68665358568044,-4.857702385040897,-10.36565356154743,-0.2084895742023707,-3.269667917307712,4.22771959969961,-42.90298717704074,1.19593020968791,null,11.23420221802936,null,null,56.64358420972925,17.11309233167375,null,null,4.345221436250265,null,-42.75829584103058,-0.8127069590395568,-10.67132720894448,null,4.700168292858646,-3.835925018317837,-15.35417838095889,-13.86317056289385,null,-12.02520321522612,9.375888090866662,-17.86781603416828,1.713497272466247,-18.78341532445678,6.160263999476056,4.702685770598444,null,null,7.864708765527722,null,-0.6157736923213538,-8.430439807939436,2.836208981544484,null,0.7238164316425426,-26.63332536121258,-8.458918680565072,-8.037786060174653,0.918110137414666,-1.223216590230174,null,1.106706084603597,-5.844226108655654,24.50163934910039,-5.151115510436466,6.957610790560246,-5.159753726114002,-6.6106205315277,8.792634744308515,-3.781655042465212,null,null,null,null,null,null,null,null,2.856073456497869,-10.94966317190731,11.83322126264017,null,10.00419262758186,24.576915638367,15.46876420930066,5.089287626680347,-0.1609777605602239,-3.644306065916195,-14.55553085640613,null,2.263507053412066,4.474646837068735,3.261333745478806,-0.3128880099773642,3.936639930137031,-1.998245042253361,null,7.381852405565843,1.06953624335456,2.150238566159594,-3.05697757242925,2.004319036619576,-1.963400305447864,-13.33053649909311,0.2078619980185741,-3.097516616019824,null,4.852822601345605,-2.204414177679308,5.513141295260311,-2.866001632625938,null,null,-3.174734300145265,-12.36226951230417,7.308902641832709,-0.8957075507955328,6.619901973825061,null,-1.743756153332798,3.12540150634395,-5.220899991275317,-12.65323025096671,-1.490123384969632,null,null,2.309537666457737,-0.2988308284541901,-11.11742105410782,3.854730391690013],\"zmax\":20,\"zmin\":-20,\"type\":\"choropleth\",\"geo\":\"geo4\"}],                        {\"template\":{\"data\":{\"histogram2dcontour\":[{\"type\":\"histogram2dcontour\",\"colorbar\":{\"outlinewidth\":0,\"ticks\":\"\"},\"colorscale\":[[0.0,\"#0d0887\"],[0.1111111111111111,\"#46039f\"],[0.2222222222222222,\"#7201a8\"],[0.3333333333333333,\"#9c179e\"],[0.4444444444444444,\"#bd3786\"],[0.5555555555555556,\"#d8576b\"],[0.6666666666666666,\"#ed7953\"],[0.7777777777777778,\"#fb9f3a\"],[0.8888888888888888,\"#fdca26\"],[1.0,\"#f0f921\"]]}],\"choropleth\":[{\"type\":\"choropleth\",\"colorbar\":{\"outlinewidth\":0,\"ticks\":\"\"}}],\"histogram2d\":[{\"type\":\"histogram2d\",\"colorbar\":{\"outlinewidth\":0,\"ticks\":\"\"},\"colorscale\":[[0.0,\"#0d0887\"],[0.1111111111111111,\"#46039f\"],[0.2222222222222222,\"#7201a8\"],[0.3333333333333333,\"#9c179e\"],[0.4444444444444444,\"#bd3786\"],[0.5555555555555556,\"#d8576b\"],[0.6666666666666666,\"#ed7953\"],[0.7777777777777778,\"#fb9f3a\"],[0.8888888888888888,\"#fdca26\"],[1.0,\"#f0f921\"]]}],\"heatmap\":[{\"type\":\"heatmap\",\"colorbar\":{\"outlinewidth\":0,\"ticks\":\"\"},\"colorscale\":[[0.0,\"#0d0887\"],[0.1111111111111111,\"#46039f\"],[0.2222222222222222,\"#7201a8\"],[0.3333333333333333,\"#9c179e\"],[0.4444444444444444,\"#bd3786\"],[0.5555555555555556,\"#d8576b\"],[0.6666666666666666,\"#ed7953\"],[0.7777777777777778,\"#fb9f3a\"],[0.8888888888888888,\"#fdca26\"],[1.0,\"#f0f921\"]]}],\"heatmapgl\":[{\"type\":\"heatmapgl\",\"colorbar\":{\"outlinewidth\":0,\"ticks\":\"\"},\"colorscale\":[[0.0,\"#0d0887\"],[0.1111111111111111,\"#46039f\"],[0.2222222222222222,\"#7201a8\"],[0.3333333333333333,\"#9c179e\"],[0.4444444444444444,\"#bd3786\"],[0.5555555555555556,\"#d8576b\"],[0.6666666666666666,\"#ed7953\"],[0.7777777777777778,\"#fb9f3a\"],[0.8888888888888888,\"#fdca26\"],[1.0,\"#f0f921\"]]}],\"contourcarpet\":[{\"type\":\"contourcarpet\",\"colorbar\":{\"outlinewidth\":0,\"ticks\":\"\"}}],\"contour\":[{\"type\":\"contour\",\"colorbar\":{\"outlinewidth\":0,\"ticks\":\"\"},\"colorscale\":[[0.0,\"#0d0887\"],[0.1111111111111111,\"#46039f\"],[0.2222222222222222,\"#7201a8\"],[0.3333333333333333,\"#9c179e\"],[0.4444444444444444,\"#bd3786\"],[0.5555555555555556,\"#d8576b\"],[0.6666666666666666,\"#ed7953\"],[0.7777777777777778,\"#fb9f3a\"],[0.8888888888888888,\"#fdca26\"],[1.0,\"#f0f921\"]]}],\"surface\":[{\"type\":\"surface\",\"colorbar\":{\"outlinewidth\":0,\"ticks\":\"\"},\"colorscale\":[[0.0,\"#0d0887\"],[0.1111111111111111,\"#46039f\"],[0.2222222222222222,\"#7201a8\"],[0.3333333333333333,\"#9c179e\"],[0.4444444444444444,\"#bd3786\"],[0.5555555555555556,\"#d8576b\"],[0.6666666666666666,\"#ed7953\"],[0.7777777777777778,\"#fb9f3a\"],[0.8888888888888888,\"#fdca26\"],[1.0,\"#f0f921\"]]}],\"mesh3d\":[{\"type\":\"mesh3d\",\"colorbar\":{\"outlinewidth\":0,\"ticks\":\"\"}}],\"scatter\":[{\"fillpattern\":{\"fillmode\":\"overlay\",\"size\":10,\"solidity\":0.2},\"type\":\"scatter\"}],\"parcoords\":[{\"type\":\"parcoords\",\"line\":{\"colorbar\":{\"outlinewidth\":0,\"ticks\":\"\"}}}],\"scatterpolargl\":[{\"type\":\"scatterpolargl\",\"marker\":{\"colorbar\":{\"outlinewidth\":0,\"ticks\":\"\"}}}],\"bar\":[{\"error_x\":{\"color\":\"#2a3f5f\"},\"error_y\":{\"color\":\"#2a3f5f\"},\"marker\":{\"line\":{\"color\":\"#E5ECF6\",\"width\":0.5},\"pattern\":{\"fillmode\":\"overlay\",\"size\":10,\"solidity\":0.2}},\"type\":\"bar\"}],\"scattergeo\":[{\"type\":\"scattergeo\",\"marker\":{\"colorbar\":{\"outlinewidth\":0,\"ticks\":\"\"}}}],\"scatterpolar\":[{\"type\":\"scatterpolar\",\"marker\":{\"colorbar\":{\"outlinewidth\":0,\"ticks\":\"\"}}}],\"histogram\":[{\"marker\":{\"pattern\":{\"fillmode\":\"overlay\",\"size\":10,\"solidity\":0.2}},\"type\":\"histogram\"}],\"scattergl\":[{\"type\":\"scattergl\",\"marker\":{\"colorbar\":{\"outlinewidth\":0,\"ticks\":\"\"}}}],\"scatter3d\":[{\"type\":\"scatter3d\",\"line\":{\"colorbar\":{\"outlinewidth\":0,\"ticks\":\"\"}},\"marker\":{\"colorbar\":{\"outlinewidth\":0,\"ticks\":\"\"}}}],\"scattermapbox\":[{\"type\":\"scattermapbox\",\"marker\":{\"colorbar\":{\"outlinewidth\":0,\"ticks\":\"\"}}}],\"scatterternary\":[{\"type\":\"scatterternary\",\"marker\":{\"colorbar\":{\"outlinewidth\":0,\"ticks\":\"\"}}}],\"scattercarpet\":[{\"type\":\"scattercarpet\",\"marker\":{\"colorbar\":{\"outlinewidth\":0,\"ticks\":\"\"}}}],\"carpet\":[{\"aaxis\":{\"endlinecolor\":\"#2a3f5f\",\"gridcolor\":\"white\",\"linecolor\":\"white\",\"minorgridcolor\":\"white\",\"startlinecolor\":\"#2a3f5f\"},\"baxis\":{\"endlinecolor\":\"#2a3f5f\",\"gridcolor\":\"white\",\"linecolor\":\"white\",\"minorgridcolor\":\"white\",\"startlinecolor\":\"#2a3f5f\"},\"type\":\"carpet\"}],\"table\":[{\"cells\":{\"fill\":{\"color\":\"#EBF0F8\"},\"line\":{\"color\":\"white\"}},\"header\":{\"fill\":{\"color\":\"#C8D4E3\"},\"line\":{\"color\":\"white\"}},\"type\":\"table\"}],\"barpolar\":[{\"marker\":{\"line\":{\"color\":\"#E5ECF6\",\"width\":0.5},\"pattern\":{\"fillmode\":\"overlay\",\"size\":10,\"solidity\":0.2}},\"type\":\"barpolar\"}],\"pie\":[{\"automargin\":true,\"type\":\"pie\"}]},\"layout\":{\"autotypenumbers\":\"strict\",\"colorway\":[\"#636efa\",\"#EF553B\",\"#00cc96\",\"#ab63fa\",\"#FFA15A\",\"#19d3f3\",\"#FF6692\",\"#B6E880\",\"#FF97FF\",\"#FECB52\"],\"font\":{\"color\":\"#2a3f5f\"},\"hovermode\":\"closest\",\"hoverlabel\":{\"align\":\"left\"},\"paper_bgcolor\":\"white\",\"plot_bgcolor\":\"#E5ECF6\",\"polar\":{\"bgcolor\":\"#E5ECF6\",\"angularaxis\":{\"gridcolor\":\"white\",\"linecolor\":\"white\",\"ticks\":\"\"},\"radialaxis\":{\"gridcolor\":\"white\",\"linecolor\":\"white\",\"ticks\":\"\"}},\"ternary\":{\"bgcolor\":\"#E5ECF6\",\"aaxis\":{\"gridcolor\":\"white\",\"linecolor\":\"white\",\"ticks\":\"\"},\"baxis\":{\"gridcolor\":\"white\",\"linecolor\":\"white\",\"ticks\":\"\"},\"caxis\":{\"gridcolor\":\"white\",\"linecolor\":\"white\",\"ticks\":\"\"}},\"coloraxis\":{\"colorbar\":{\"outlinewidth\":0,\"ticks\":\"\"}},\"colorscale\":{\"sequential\":[[0.0,\"#0d0887\"],[0.1111111111111111,\"#46039f\"],[0.2222222222222222,\"#7201a8\"],[0.3333333333333333,\"#9c179e\"],[0.4444444444444444,\"#bd3786\"],[0.5555555555555556,\"#d8576b\"],[0.6666666666666666,\"#ed7953\"],[0.7777777777777778,\"#fb9f3a\"],[0.8888888888888888,\"#fdca26\"],[1.0,\"#f0f921\"]],\"sequentialminus\":[[0.0,\"#0d0887\"],[0.1111111111111111,\"#46039f\"],[0.2222222222222222,\"#7201a8\"],[0.3333333333333333,\"#9c179e\"],[0.4444444444444444,\"#bd3786\"],[0.5555555555555556,\"#d8576b\"],[0.6666666666666666,\"#ed7953\"],[0.7777777777777778,\"#fb9f3a\"],[0.8888888888888888,\"#fdca26\"],[1.0,\"#f0f921\"]],\"diverging\":[[0,\"#8e0152\"],[0.1,\"#c51b7d\"],[0.2,\"#de77ae\"],[0.3,\"#f1b6da\"],[0.4,\"#fde0ef\"],[0.5,\"#f7f7f7\"],[0.6,\"#e6f5d0\"],[0.7,\"#b8e186\"],[0.8,\"#7fbc41\"],[0.9,\"#4d9221\"],[1,\"#276419\"]]},\"xaxis\":{\"gridcolor\":\"white\",\"linecolor\":\"white\",\"ticks\":\"\",\"title\":{\"standoff\":15},\"zerolinecolor\":\"white\",\"automargin\":true,\"zerolinewidth\":2},\"yaxis\":{\"gridcolor\":\"white\",\"linecolor\":\"white\",\"ticks\":\"\",\"title\":{\"standoff\":15},\"zerolinecolor\":\"white\",\"automargin\":true,\"zerolinewidth\":2},\"scene\":{\"xaxis\":{\"backgroundcolor\":\"#E5ECF6\",\"gridcolor\":\"white\",\"linecolor\":\"white\",\"showbackground\":true,\"ticks\":\"\",\"zerolinecolor\":\"white\",\"gridwidth\":2},\"yaxis\":{\"backgroundcolor\":\"#E5ECF6\",\"gridcolor\":\"white\",\"linecolor\":\"white\",\"showbackground\":true,\"ticks\":\"\",\"zerolinecolor\":\"white\",\"gridwidth\":2},\"zaxis\":{\"backgroundcolor\":\"#E5ECF6\",\"gridcolor\":\"white\",\"linecolor\":\"white\",\"showbackground\":true,\"ticks\":\"\",\"zerolinecolor\":\"white\",\"gridwidth\":2}},\"shapedefaults\":{\"line\":{\"color\":\"#2a3f5f\"}},\"annotationdefaults\":{\"arrowcolor\":\"#2a3f5f\",\"arrowhead\":0,\"arrowwidth\":1},\"geo\":{\"bgcolor\":\"white\",\"landcolor\":\"#E5ECF6\",\"subunitcolor\":\"white\",\"showland\":true,\"showlakes\":true,\"lakecolor\":\"white\"},\"title\":{\"x\":0.05},\"mapbox\":{\"style\":\"light\"}}},\"geo\":{\"domain\":{\"x\":[0.0,0.475],\"y\":[0.575,1.0]},\"projection\":{\"type\":\"robinson\"},\"lataxis\":{\"range\":[-60,80]}},\"geo2\":{\"domain\":{\"x\":[0.525,1.0],\"y\":[0.575,1.0]},\"projection\":{\"type\":\"robinson\"},\"lataxis\":{\"range\":[-60,80]}},\"geo3\":{\"domain\":{\"x\":[0.0,0.475],\"y\":[0.0,0.425]},\"projection\":{\"type\":\"robinson\"},\"lataxis\":{\"range\":[-60,80]}},\"geo4\":{\"domain\":{\"x\":[0.525,1.0],\"y\":[0.0,0.425]},\"projection\":{\"type\":\"robinson\"},\"lataxis\":{\"range\":[-60,80]}},\"annotations\":[{\"font\":{\"size\":12},\"showarrow\":false,\"text\":\"Maize protein concentration change\\u003cbr\\u003eARISE-SAI-1.5C minus SSP245\",\"x\":0.2375,\"xanchor\":\"center\",\"xref\":\"paper\",\"y\":1.0,\"yanchor\":\"bottom\",\"yref\":\"paper\"},{\"font\":{\"size\":12},\"showarrow\":false,\"text\":\"Rice protein concentration change\\u003cbr\\u003eARISE-SAI-1.5C minus SSP245\",\"x\":0.7625,\"xanchor\":\"center\",\"xref\":\"paper\",\"y\":1.0,\"yanchor\":\"bottom\",\"yref\":\"paper\"},{\"font\":{\"size\":12},\"showarrow\":false,\"text\":\"Soybean protein concentration change\\u003cbr\\u003eARISE-SAI-1.5C minus SSP245\",\"x\":0.2375,\"xanchor\":\"center\",\"xref\":\"paper\",\"y\":0.425,\"yanchor\":\"bottom\",\"yref\":\"paper\"},{\"font\":{\"size\":12},\"showarrow\":false,\"text\":\"Wheat protein concentration change\\u003cbr\\u003eARISE-SAI-1.5C minus SSP245\",\"x\":0.7625,\"xanchor\":\"center\",\"xref\":\"paper\",\"y\":0.425,\"yanchor\":\"bottom\",\"yref\":\"paper\"}],\"width\":850,\"height\":540},                        {\"responsive\": true}                    ).then(function(){\n",
       "                            \n",
       "var gd = document.getElementById('0a79dbf9-91c1-4938-8df1-76e2e866ad74');\n",
       "var x = new MutationObserver(function (mutations, observer) {{\n",
       "        var display = window.getComputedStyle(gd).display;\n",
       "        if (!display || display === 'none') {{\n",
       "            console.log([gd, 'removed!']);\n",
       "            Plotly.purge(gd);\n",
       "            observer.disconnect();\n",
       "        }}\n",
       "}});\n",
       "\n",
       "// Listen for the removal of the full notebook cells\n",
       "var notebookContainer = gd.closest('#notebook-container');\n",
       "if (notebookContainer) {{\n",
       "    x.observe(notebookContainer, {childList: true});\n",
       "}}\n",
       "\n",
       "// Listen for the clearing of the current output cell\n",
       "var outputEl = gd.closest('.output');\n",
       "if (outputEl) {{\n",
       "    x.observe(outputEl, {childList: true});\n",
       "}}\n",
       "\n",
       "                        })                };                });            </script>        </div>"
      ]
     },
     "metadata": {},
     "output_type": "display_data"
    }
   ],
   "source": [
    "# Define subplots\n",
    "fig = make_subplots(\n",
    "    rows=2, cols=2,\n",
    "    subplot_titles=(\"Maize protein concentration change<br>ARISE-SAI-1.5C minus SSP245\",\"Rice protein concentration change<br>ARISE-SAI-1.5C minus SSP245\",\n",
    "                    \"Soybean protein concentration change<br>ARISE-SAI-1.5C minus SSP245\", \"Wheat protein concentration change<br>ARISE-SAI-1.5C minus SSP245\"),\n",
    "    specs=[[{\"type\": \"choropleth\"}, {\"type\": \"choropleth\"}],\n",
    "           [{\"type\": \"choropleth\"}, {\"type\": \"choropleth\"}]],\n",
    "    row_heights=[0.3, 0.3],\n",
    "    column_widths=[0.3, 0.3],\n",
    "    vertical_spacing=0.15,\n",
    "    horizontal_spacing=0.05\n",
    ")\n",
    "\n",
    "# Add Choropleths\n",
    "fig.add_trace(go.Choropleth(locations=maize['nation-name'], colorscale=cscale, z=maize[\"pchange\"],\n",
    "                            locationmode=\"country names\", zmin=-20, zmax=20,\n",
    "                            colorbar={'title': {'text': 'Change (%)', 'font': {'size': 12}}}), row=1, col=1)\n",
    "fig.add_trace(go.Choropleth(locations=rice['nation-name'], colorscale=cscale, z=rice[\"pchange\"],\n",
    "                            locationmode=\"country names\", zmin=-20, zmax=20,\n",
    "                            colorbar={'title': {'text': 'Change (%)', 'font': {'size': 12}}}), row=1, col=2)\n",
    "fig.add_trace(go.Choropleth(locations=soy['nation-name'], colorscale=cscale, z=soy[\"pchange\"],\n",
    "                            locationmode=\"country names\", zmin=-20, zmax=20,\n",
    "                            colorbar={'title': {'text': 'Change (%)', 'font': {'size': 12}}}), row=2, col=1)\n",
    "fig.add_trace(go.Choropleth(locations=wheat['nation-name'], colorscale=cscale, z=wheat[\"pchange\"],\n",
    "                            locationmode=\"country names\", zmin=-20, zmax=20,\n",
    "                            colorbar={'title': {'text': 'Change (%)', 'font': {'size': 12}}}), row=2, col=2)\n",
    "\n",
    "# Update layout settings\n",
    "fig.update_geos(projection_type=\"robinson\", lataxis_range=[-60, 80])\n",
    "fig.update_traces(colorbar_title_side='bottom', colorbar_orientation='h', colorbar_thickness=10,\n",
    "                  colorbar_x=0.5, colorbar_y=-0.2, colorbar_len=0.3, row=1, col=1)\n",
    "fig.update_traces(colorbar_title_side='bottom', colorbar_orientation='h', colorbar_thickness=10,\n",
    "                  colorbar_x=0.5, colorbar_y=-0.2, colorbar_len=0.3, row=1, col=2)\n",
    "fig.update_traces(colorbar_title_side='bottom', colorbar_orientation='h', colorbar_thickness=10,\n",
    "                  colorbar_x=0.5, colorbar_y=-0.2, colorbar_len=0.3, row=2, col=1)\n",
    "fig.update_traces(colorbar_title_side='bottom', colorbar_orientation='h', colorbar_thickness=10,\n",
    "                  colorbar_x=0.5, colorbar_y=-0.2, colorbar_len=0.3, row=2, col=2)\n",
    "fig.update_layout(width=850, height=540, annotations=[dict(font=dict(size=12))]  # Reduce subplot title font size\n",
    ")\n",
    "\n"
   ]
  },
  {
   "cell_type": "code",
   "execution_count": 40,
   "id": "24147daf-e576-4320-85f7-b7ba139f0380",
   "metadata": {},
   "outputs": [],
   "source": [
    "fig.write_image(savedir+\"/Nature_Fig2_CLM.pdf\",scale=1)"
   ]
  },
  {
   "cell_type": "code",
   "execution_count": null,
   "id": "2f5d00b6-f7cb-4b87-a146-bdc8e46df25c",
   "metadata": {},
   "outputs": [],
   "source": []
  }
 ],
 "metadata": {
  "kernelspec": {
   "display_name": "Python 3 (ipykernel)",
   "language": "python",
   "name": "python3"
  },
  "language_info": {
   "codemirror_mode": {
    "name": "ipython",
    "version": 3
   },
   "file_extension": ".py",
   "mimetype": "text/x-python",
   "name": "python",
   "nbconvert_exporter": "python",
   "pygments_lexer": "ipython3",
   "version": "3.10.13"
  }
 },
 "nbformat": 4,
 "nbformat_minor": 5
}
